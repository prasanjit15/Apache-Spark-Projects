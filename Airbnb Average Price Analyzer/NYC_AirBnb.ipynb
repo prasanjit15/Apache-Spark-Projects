{
  "nbformat": 4,
  "nbformat_minor": 0,
  "metadata": {
    "colab": {
      "name": "NYC_AirBnb.ipynb",
      "provenance": [],
      "collapsed_sections": [],
      "toc_visible": true
    },
    "kernelspec": {
      "name": "python3",
      "display_name": "Python 3"
    }
  },
  "cells": [
    {
      "cell_type": "code",
      "metadata": {
        "colab": {
          "base_uri": "https://localhost:8080/"
        },
        "id": "5NUBq01GSZT2",
        "outputId": "893c0280-1320-4cba-cc85-54556ebea625"
      },
      "source": [
        "!apt-get install openjdk-8-jdk-headless -qq > /dev/null\n",
        "!--fix-missing\n",
        "!wget -q https://downloads.apache.org/spark/spark-3.0.1/spark-3.0.1-bin-hadoop2.7.tgz \n",
        "#The above line needs to be changed as per the link to download Apache Spark, So Kindly refer Apache Spark download page\n",
        "!tar -xvf spark-3.0.1-bin-hadoop2.7.tgz #This line changes as per the file name after the download so make it equal to the last line of the above line after '/'\n",
        "!pip install -q findspark\n",
        "import os\n",
        "os.environ[\"JAVA_HOME\"] = \"/usr/lib/jvm/java-8-openjdk-amd64\"\n",
        "os.environ[\"SPARK_HOME\"] = \"/content/spark-3.0.1-bin-hadoop2.7\" #make the necessary version changes\n",
        "import findspark\n",
        "findspark.init()"
      ],
      "execution_count": 1,
      "outputs": [
        {
          "output_type": "stream",
          "text": [
            "/bin/bash: --: invalid option\n",
            "Usage:\t/bin/bash [GNU long option] [option] ...\n",
            "\t/bin/bash [GNU long option] [option] script-file ...\n",
            "GNU long options:\n",
            "\t--debug\n",
            "\t--debugger\n",
            "\t--dump-po-strings\n",
            "\t--dump-strings\n",
            "\t--help\n",
            "\t--init-file\n",
            "\t--login\n",
            "\t--noediting\n",
            "\t--noprofile\n",
            "\t--norc\n",
            "\t--posix\n",
            "\t--rcfile\n",
            "\t--restricted\n",
            "\t--verbose\n",
            "\t--version\n",
            "Shell options:\n",
            "\t-ilrsD or -c command or -O shopt_option\t\t(invocation only)\n",
            "\t-abefhkmnptuvxBCHP or -o option\n",
            "spark-3.0.1-bin-hadoop2.7/\n",
            "spark-3.0.1-bin-hadoop2.7/RELEASE\n",
            "spark-3.0.1-bin-hadoop2.7/examples/\n",
            "spark-3.0.1-bin-hadoop2.7/examples/src/\n",
            "spark-3.0.1-bin-hadoop2.7/examples/src/main/\n",
            "spark-3.0.1-bin-hadoop2.7/examples/src/main/scala/\n",
            "spark-3.0.1-bin-hadoop2.7/examples/src/main/scala/org/\n",
            "spark-3.0.1-bin-hadoop2.7/examples/src/main/scala/org/apache/\n",
            "spark-3.0.1-bin-hadoop2.7/examples/src/main/scala/org/apache/spark/\n",
            "spark-3.0.1-bin-hadoop2.7/examples/src/main/scala/org/apache/spark/examples/\n",
            "spark-3.0.1-bin-hadoop2.7/examples/src/main/scala/org/apache/spark/examples/ml/\n",
            "spark-3.0.1-bin-hadoop2.7/examples/src/main/scala/org/apache/spark/examples/ml/FPGrowthExample.scala\n",
            "spark-3.0.1-bin-hadoop2.7/examples/src/main/scala/org/apache/spark/examples/ml/GBTExample.scala\n",
            "spark-3.0.1-bin-hadoop2.7/examples/src/main/scala/org/apache/spark/examples/ml/ALSExample.scala\n",
            "spark-3.0.1-bin-hadoop2.7/examples/src/main/scala/org/apache/spark/examples/ml/KMeansExample.scala\n",
            "spark-3.0.1-bin-hadoop2.7/examples/src/main/scala/org/apache/spark/examples/ml/DecisionTreeExample.scala\n",
            "spark-3.0.1-bin-hadoop2.7/examples/src/main/scala/org/apache/spark/examples/ml/LogisticRegressionSummaryExample.scala\n",
            "spark-3.0.1-bin-hadoop2.7/examples/src/main/scala/org/apache/spark/examples/ml/TokenizerExample.scala\n",
            "spark-3.0.1-bin-hadoop2.7/examples/src/main/scala/org/apache/spark/examples/ml/UnaryTransformerExample.scala\n",
            "spark-3.0.1-bin-hadoop2.7/examples/src/main/scala/org/apache/spark/examples/ml/Word2VecExample.scala\n",
            "spark-3.0.1-bin-hadoop2.7/examples/src/main/scala/org/apache/spark/examples/ml/LinearSVCExample.scala\n",
            "spark-3.0.1-bin-hadoop2.7/examples/src/main/scala/org/apache/spark/examples/ml/CorrelationExample.scala\n",
            "spark-3.0.1-bin-hadoop2.7/examples/src/main/scala/org/apache/spark/examples/ml/BucketizerExample.scala\n",
            "spark-3.0.1-bin-hadoop2.7/examples/src/main/scala/org/apache/spark/examples/ml/ImputerExample.scala\n",
            "spark-3.0.1-bin-hadoop2.7/examples/src/main/scala/org/apache/spark/examples/ml/StringIndexerExample.scala\n",
            "spark-3.0.1-bin-hadoop2.7/examples/src/main/scala/org/apache/spark/examples/ml/NGramExample.scala\n",
            "spark-3.0.1-bin-hadoop2.7/examples/src/main/scala/org/apache/spark/examples/ml/IsotonicRegressionExample.scala\n",
            "spark-3.0.1-bin-hadoop2.7/examples/src/main/scala/org/apache/spark/examples/ml/DecisionTreeRegressionExample.scala\n",
            "spark-3.0.1-bin-hadoop2.7/examples/src/main/scala/org/apache/spark/examples/ml/OneHotEncoderExample.scala\n",
            "spark-3.0.1-bin-hadoop2.7/examples/src/main/scala/org/apache/spark/examples/ml/ChiSquareTestExample.scala\n",
            "spark-3.0.1-bin-hadoop2.7/examples/src/main/scala/org/apache/spark/examples/ml/PCAExample.scala\n",
            "spark-3.0.1-bin-hadoop2.7/examples/src/main/scala/org/apache/spark/examples/ml/StopWordsRemoverExample.scala\n",
            "spark-3.0.1-bin-hadoop2.7/examples/src/main/scala/org/apache/spark/examples/ml/DeveloperApiExample.scala\n",
            "spark-3.0.1-bin-hadoop2.7/examples/src/main/scala/org/apache/spark/examples/ml/LDAExample.scala\n",
            "spark-3.0.1-bin-hadoop2.7/examples/src/main/scala/org/apache/spark/examples/ml/StandardScalerExample.scala\n",
            "spark-3.0.1-bin-hadoop2.7/examples/src/main/scala/org/apache/spark/examples/ml/GradientBoostedTreeRegressorExample.scala\n",
            "spark-3.0.1-bin-hadoop2.7/examples/src/main/scala/org/apache/spark/examples/ml/RFormulaExample.scala\n",
            "spark-3.0.1-bin-hadoop2.7/examples/src/main/scala/org/apache/spark/examples/ml/MultilayerPerceptronClassifierExample.scala\n",
            "spark-3.0.1-bin-hadoop2.7/examples/src/main/scala/org/apache/spark/examples/ml/RandomForestRegressorExample.scala\n",
            "spark-3.0.1-bin-hadoop2.7/examples/src/main/scala/org/apache/spark/examples/ml/OneVsRestExample.scala\n",
            "spark-3.0.1-bin-hadoop2.7/examples/src/main/scala/org/apache/spark/examples/ml/PolynomialExpansionExample.scala\n",
            "spark-3.0.1-bin-hadoop2.7/examples/src/main/scala/org/apache/spark/examples/ml/ChiSqSelectorExample.scala\n",
            "spark-3.0.1-bin-hadoop2.7/examples/src/main/scala/org/apache/spark/examples/ml/MinMaxScalerExample.scala\n",
            "spark-3.0.1-bin-hadoop2.7/examples/src/main/scala/org/apache/spark/examples/ml/RobustScalerExample.scala\n",
            "spark-3.0.1-bin-hadoop2.7/examples/src/main/scala/org/apache/spark/examples/ml/FeatureHasherExample.scala\n",
            "spark-3.0.1-bin-hadoop2.7/examples/src/main/scala/org/apache/spark/examples/ml/LogisticRegressionWithElasticNetExample.scala\n",
            "spark-3.0.1-bin-hadoop2.7/examples/src/main/scala/org/apache/spark/examples/ml/FMClassifierExample.scala\n",
            "spark-3.0.1-bin-hadoop2.7/examples/src/main/scala/org/apache/spark/examples/ml/IndexToStringExample.scala\n",
            "spark-3.0.1-bin-hadoop2.7/examples/src/main/scala/org/apache/spark/examples/ml/LinearRegressionWithElasticNetExample.scala\n",
            "spark-3.0.1-bin-hadoop2.7/examples/src/main/scala/org/apache/spark/examples/ml/GeneralizedLinearRegressionExample.scala\n",
            "spark-3.0.1-bin-hadoop2.7/examples/src/main/scala/org/apache/spark/examples/ml/RandomForestExample.scala\n",
            "spark-3.0.1-bin-hadoop2.7/examples/src/main/scala/org/apache/spark/examples/ml/BucketedRandomProjectionLSHExample.scala\n",
            "spark-3.0.1-bin-hadoop2.7/examples/src/main/scala/org/apache/spark/examples/ml/LinearRegressionExample.scala\n",
            "spark-3.0.1-bin-hadoop2.7/examples/src/main/scala/org/apache/spark/examples/ml/BisectingKMeansExample.scala\n",
            "spark-3.0.1-bin-hadoop2.7/examples/src/main/scala/org/apache/spark/examples/ml/MinHashLSHExample.scala\n",
            "spark-3.0.1-bin-hadoop2.7/examples/src/main/scala/org/apache/spark/examples/ml/RandomForestClassifierExample.scala\n",
            "spark-3.0.1-bin-hadoop2.7/examples/src/main/scala/org/apache/spark/examples/ml/GradientBoostedTreeClassifierExample.scala\n",
            "spark-3.0.1-bin-hadoop2.7/examples/src/main/scala/org/apache/spark/examples/ml/LogisticRegressionExample.scala\n",
            "spark-3.0.1-bin-hadoop2.7/examples/src/main/scala/org/apache/spark/examples/ml/PowerIterationClusteringExample.scala\n",
            "spark-3.0.1-bin-hadoop2.7/examples/src/main/scala/org/apache/spark/examples/ml/CountVectorizerExample.scala\n",
            "spark-3.0.1-bin-hadoop2.7/examples/src/main/scala/org/apache/spark/examples/ml/TfIdfExample.scala\n",
            "spark-3.0.1-bin-hadoop2.7/examples/src/main/scala/org/apache/spark/examples/ml/VectorSlicerExample.scala\n",
            "spark-3.0.1-bin-hadoop2.7/examples/src/main/scala/org/apache/spark/examples/ml/MulticlassLogisticRegressionWithElasticNetExample.scala\n",
            "spark-3.0.1-bin-hadoop2.7/examples/src/main/scala/org/apache/spark/examples/ml/MaxAbsScalerExample.scala\n",
            "spark-3.0.1-bin-hadoop2.7/examples/src/main/scala/org/apache/spark/examples/ml/BinarizerExample.scala\n",
            "spark-3.0.1-bin-hadoop2.7/examples/src/main/scala/org/apache/spark/examples/ml/DataFrameExample.scala\n",
            "spark-3.0.1-bin-hadoop2.7/examples/src/main/scala/org/apache/spark/examples/ml/InteractionExample.scala\n",
            "spark-3.0.1-bin-hadoop2.7/examples/src/main/scala/org/apache/spark/examples/ml/VectorIndexerExample.scala\n",
            "spark-3.0.1-bin-hadoop2.7/examples/src/main/scala/org/apache/spark/examples/ml/ModelSelectionViaCrossValidationExample.scala\n",
            "spark-3.0.1-bin-hadoop2.7/examples/src/main/scala/org/apache/spark/examples/ml/EstimatorTransformerParamExample.scala\n",
            "spark-3.0.1-bin-hadoop2.7/examples/src/main/scala/org/apache/spark/examples/ml/PipelineExample.scala\n",
            "spark-3.0.1-bin-hadoop2.7/examples/src/main/scala/org/apache/spark/examples/ml/NaiveBayesExample.scala\n",
            "spark-3.0.1-bin-hadoop2.7/examples/src/main/scala/org/apache/spark/examples/ml/VectorSizeHintExample.scala\n",
            "spark-3.0.1-bin-hadoop2.7/examples/src/main/scala/org/apache/spark/examples/ml/PrefixSpanExample.scala\n",
            "spark-3.0.1-bin-hadoop2.7/examples/src/main/scala/org/apache/spark/examples/ml/SQLTransformerExample.scala\n",
            "spark-3.0.1-bin-hadoop2.7/examples/src/main/scala/org/apache/spark/examples/ml/SummarizerExample.scala\n",
            "spark-3.0.1-bin-hadoop2.7/examples/src/main/scala/org/apache/spark/examples/ml/DCTExample.scala\n",
            "spark-3.0.1-bin-hadoop2.7/examples/src/main/scala/org/apache/spark/examples/ml/AFTSurvivalRegressionExample.scala\n",
            "spark-3.0.1-bin-hadoop2.7/examples/src/main/scala/org/apache/spark/examples/ml/ModelSelectionViaTrainValidationSplitExample.scala\n",
            "spark-3.0.1-bin-hadoop2.7/examples/src/main/scala/org/apache/spark/examples/ml/DecisionTreeClassificationExample.scala\n",
            "spark-3.0.1-bin-hadoop2.7/examples/src/main/scala/org/apache/spark/examples/ml/QuantileDiscretizerExample.scala\n",
            "spark-3.0.1-bin-hadoop2.7/examples/src/main/scala/org/apache/spark/examples/ml/NormalizerExample.scala\n",
            "spark-3.0.1-bin-hadoop2.7/examples/src/main/scala/org/apache/spark/examples/ml/FMRegressorExample.scala\n",
            "spark-3.0.1-bin-hadoop2.7/examples/src/main/scala/org/apache/spark/examples/ml/VectorAssemblerExample.scala\n",
            "spark-3.0.1-bin-hadoop2.7/examples/src/main/scala/org/apache/spark/examples/ml/ElementwiseProductExample.scala\n",
            "spark-3.0.1-bin-hadoop2.7/examples/src/main/scala/org/apache/spark/examples/ml/GaussianMixtureExample.scala\n",
            "spark-3.0.1-bin-hadoop2.7/examples/src/main/scala/org/apache/spark/examples/SkewedGroupByTest.scala\n",
            "spark-3.0.1-bin-hadoop2.7/examples/src/main/scala/org/apache/spark/examples/SparkALS.scala\n",
            "spark-3.0.1-bin-hadoop2.7/examples/src/main/scala/org/apache/spark/examples/mllib/\n",
            "spark-3.0.1-bin-hadoop2.7/examples/src/main/scala/org/apache/spark/examples/mllib/HypothesisTestingExample.scala\n",
            "spark-3.0.1-bin-hadoop2.7/examples/src/main/scala/org/apache/spark/examples/mllib/KernelDensityEstimationExample.scala\n",
            "spark-3.0.1-bin-hadoop2.7/examples/src/main/scala/org/apache/spark/examples/mllib/FPGrowthExample.scala\n",
            "spark-3.0.1-bin-hadoop2.7/examples/src/main/scala/org/apache/spark/examples/mllib/LBFGSExample.scala\n",
            "spark-3.0.1-bin-hadoop2.7/examples/src/main/scala/org/apache/spark/examples/mllib/SVDExample.scala\n",
            "spark-3.0.1-bin-hadoop2.7/examples/src/main/scala/org/apache/spark/examples/mllib/KMeansExample.scala\n",
            "spark-3.0.1-bin-hadoop2.7/examples/src/main/scala/org/apache/spark/examples/mllib/Word2VecExample.scala\n",
            "spark-3.0.1-bin-hadoop2.7/examples/src/main/scala/org/apache/spark/examples/mllib/StratifiedSamplingExample.scala\n",
            "spark-3.0.1-bin-hadoop2.7/examples/src/main/scala/org/apache/spark/examples/mllib/LogisticRegressionWithLBFGSExample.scala\n",
            "spark-3.0.1-bin-hadoop2.7/examples/src/main/scala/org/apache/spark/examples/mllib/IsotonicRegressionExample.scala\n",
            "spark-3.0.1-bin-hadoop2.7/examples/src/main/scala/org/apache/spark/examples/mllib/RandomRDDGeneration.scala\n",
            "spark-3.0.1-bin-hadoop2.7/examples/src/main/scala/org/apache/spark/examples/mllib/DecisionTreeRegressionExample.scala\n",
            "spark-3.0.1-bin-hadoop2.7/examples/src/main/scala/org/apache/spark/examples/mllib/SummaryStatisticsExample.scala\n",
            "spark-3.0.1-bin-hadoop2.7/examples/src/main/scala/org/apache/spark/examples/mllib/StreamingTestExample.scala\n",
            "spark-3.0.1-bin-hadoop2.7/examples/src/main/scala/org/apache/spark/examples/mllib/PMMLModelExportExample.scala\n",
            "spark-3.0.1-bin-hadoop2.7/examples/src/main/scala/org/apache/spark/examples/mllib/BinaryClassificationMetricsExample.scala\n",
            "spark-3.0.1-bin-hadoop2.7/examples/src/main/scala/org/apache/spark/examples/mllib/MulticlassMetricsExample.scala\n",
            "spark-3.0.1-bin-hadoop2.7/examples/src/main/scala/org/apache/spark/examples/mllib/LDAExample.scala\n",
            "spark-3.0.1-bin-hadoop2.7/examples/src/main/scala/org/apache/spark/examples/mllib/StreamingKMeansExample.scala\n",
            "spark-3.0.1-bin-hadoop2.7/examples/src/main/scala/org/apache/spark/examples/mllib/StandardScalerExample.scala\n",
            "spark-3.0.1-bin-hadoop2.7/examples/src/main/scala/org/apache/spark/examples/mllib/SimpleFPGrowth.scala\n",
            "spark-3.0.1-bin-hadoop2.7/examples/src/main/scala/org/apache/spark/examples/mllib/PCAOnRowMatrixExample.scala\n",
            "spark-3.0.1-bin-hadoop2.7/examples/src/main/scala/org/apache/spark/examples/mllib/Correlations.scala\n",
            "spark-3.0.1-bin-hadoop2.7/examples/src/main/scala/org/apache/spark/examples/mllib/ChiSqSelectorExample.scala\n",
            "spark-3.0.1-bin-hadoop2.7/examples/src/main/scala/org/apache/spark/examples/mllib/SparseNaiveBayes.scala\n",
            "spark-3.0.1-bin-hadoop2.7/examples/src/main/scala/org/apache/spark/examples/mllib/StreamingLinearRegressionExample.scala\n",
            "spark-3.0.1-bin-hadoop2.7/examples/src/main/scala/org/apache/spark/examples/mllib/SVMWithSGDExample.scala\n",
            "spark-3.0.1-bin-hadoop2.7/examples/src/main/scala/org/apache/spark/examples/mllib/MultivariateSummarizer.scala\n",
            "spark-3.0.1-bin-hadoop2.7/examples/src/main/scala/org/apache/spark/examples/mllib/TallSkinnySVD.scala\n",
            "spark-3.0.1-bin-hadoop2.7/examples/src/main/scala/org/apache/spark/examples/mllib/TFIDFExample.scala\n",
            "spark-3.0.1-bin-hadoop2.7/examples/src/main/scala/org/apache/spark/examples/mllib/GradientBoostedTreesRunner.scala\n",
            "spark-3.0.1-bin-hadoop2.7/examples/src/main/scala/org/apache/spark/examples/mllib/MovieLensALS.scala\n",
            "spark-3.0.1-bin-hadoop2.7/examples/src/main/scala/org/apache/spark/examples/mllib/PCAOnSourceVectorExample.scala\n",
            "spark-3.0.1-bin-hadoop2.7/examples/src/main/scala/org/apache/spark/examples/mllib/MultiLabelMetricsExample.scala\n",
            "spark-3.0.1-bin-hadoop2.7/examples/src/main/scala/org/apache/spark/examples/mllib/RecommendationExample.scala\n",
            "spark-3.0.1-bin-hadoop2.7/examples/src/main/scala/org/apache/spark/examples/mllib/BisectingKMeansExample.scala\n",
            "spark-3.0.1-bin-hadoop2.7/examples/src/main/scala/org/apache/spark/examples/mllib/GradientBoostingClassificationExample.scala\n",
            "spark-3.0.1-bin-hadoop2.7/examples/src/main/scala/org/apache/spark/examples/mllib/PowerIterationClusteringExample.scala\n",
            "spark-3.0.1-bin-hadoop2.7/examples/src/main/scala/org/apache/spark/examples/mllib/LatentDirichletAllocationExample.scala\n",
            "spark-3.0.1-bin-hadoop2.7/examples/src/main/scala/org/apache/spark/examples/mllib/RankingMetricsExample.scala\n",
            "spark-3.0.1-bin-hadoop2.7/examples/src/main/scala/org/apache/spark/examples/mllib/DenseKMeans.scala\n",
            "spark-3.0.1-bin-hadoop2.7/examples/src/main/scala/org/apache/spark/examples/mllib/RandomForestClassificationExample.scala\n",
            "spark-3.0.1-bin-hadoop2.7/examples/src/main/scala/org/apache/spark/examples/mllib/TallSkinnyPCA.scala\n",
            "spark-3.0.1-bin-hadoop2.7/examples/src/main/scala/org/apache/spark/examples/mllib/AbstractParams.scala\n",
            "spark-3.0.1-bin-hadoop2.7/examples/src/main/scala/org/apache/spark/examples/mllib/NaiveBayesExample.scala\n",
            "spark-3.0.1-bin-hadoop2.7/examples/src/main/scala/org/apache/spark/examples/mllib/PrefixSpanExample.scala\n",
            "spark-3.0.1-bin-hadoop2.7/examples/src/main/scala/org/apache/spark/examples/mllib/GradientBoostingRegressionExample.scala\n",
            "spark-3.0.1-bin-hadoop2.7/examples/src/main/scala/org/apache/spark/examples/mllib/DecisionTreeRunner.scala\n",
            "spark-3.0.1-bin-hadoop2.7/examples/src/main/scala/org/apache/spark/examples/mllib/StreamingLogisticRegression.scala\n",
            "spark-3.0.1-bin-hadoop2.7/examples/src/main/scala/org/apache/spark/examples/mllib/HypothesisTestingKolmogorovSmirnovTestExample.scala\n",
            "spark-3.0.1-bin-hadoop2.7/examples/src/main/scala/org/apache/spark/examples/mllib/BinaryClassification.scala\n",
            "spark-3.0.1-bin-hadoop2.7/examples/src/main/scala/org/apache/spark/examples/mllib/DecisionTreeClassificationExample.scala\n",
            "spark-3.0.1-bin-hadoop2.7/examples/src/main/scala/org/apache/spark/examples/mllib/SampledRDDs.scala\n",
            "spark-3.0.1-bin-hadoop2.7/examples/src/main/scala/org/apache/spark/examples/mllib/AssociationRulesExample.scala\n",
            "spark-3.0.1-bin-hadoop2.7/examples/src/main/scala/org/apache/spark/examples/mllib/CosineSimilarity.scala\n",
            "spark-3.0.1-bin-hadoop2.7/examples/src/main/scala/org/apache/spark/examples/mllib/RandomForestRegressionExample.scala\n",
            "spark-3.0.1-bin-hadoop2.7/examples/src/main/scala/org/apache/spark/examples/mllib/CorrelationsExample.scala\n",
            "spark-3.0.1-bin-hadoop2.7/examples/src/main/scala/org/apache/spark/examples/mllib/NormalizerExample.scala\n",
            "spark-3.0.1-bin-hadoop2.7/examples/src/main/scala/org/apache/spark/examples/mllib/ElementwiseProductExample.scala\n",
            "spark-3.0.1-bin-hadoop2.7/examples/src/main/scala/org/apache/spark/examples/mllib/GaussianMixtureExample.scala\n",
            "spark-3.0.1-bin-hadoop2.7/examples/src/main/scala/org/apache/spark/examples/ExceptionHandlingTest.scala\n",
            "spark-3.0.1-bin-hadoop2.7/examples/src/main/scala/org/apache/spark/examples/BroadcastTest.scala\n",
            "spark-3.0.1-bin-hadoop2.7/examples/src/main/scala/org/apache/spark/examples/HdfsTest.scala\n",
            "spark-3.0.1-bin-hadoop2.7/examples/src/main/scala/org/apache/spark/examples/SparkHdfsLR.scala\n",
            "spark-3.0.1-bin-hadoop2.7/examples/src/main/scala/org/apache/spark/examples/streaming/\n",
            "spark-3.0.1-bin-hadoop2.7/examples/src/main/scala/org/apache/spark/examples/streaming/SqlNetworkWordCount.scala\n",
            "spark-3.0.1-bin-hadoop2.7/examples/src/main/scala/org/apache/spark/examples/streaming/QueueStream.scala\n",
            "spark-3.0.1-bin-hadoop2.7/examples/src/main/scala/org/apache/spark/examples/streaming/RawNetworkGrep.scala\n",
            "spark-3.0.1-bin-hadoop2.7/examples/src/main/scala/org/apache/spark/examples/streaming/DirectKafkaWordCount.scala\n",
            "spark-3.0.1-bin-hadoop2.7/examples/src/main/scala/org/apache/spark/examples/streaming/StatefulNetworkWordCount.scala\n",
            "spark-3.0.1-bin-hadoop2.7/examples/src/main/scala/org/apache/spark/examples/streaming/DirectKerberizedKafkaWordCount.scala\n",
            "spark-3.0.1-bin-hadoop2.7/examples/src/main/scala/org/apache/spark/examples/streaming/HdfsWordCount.scala\n",
            "spark-3.0.1-bin-hadoop2.7/examples/src/main/scala/org/apache/spark/examples/streaming/CustomReceiver.scala\n",
            "spark-3.0.1-bin-hadoop2.7/examples/src/main/scala/org/apache/spark/examples/streaming/StreamingExamples.scala\n",
            "spark-3.0.1-bin-hadoop2.7/examples/src/main/scala/org/apache/spark/examples/streaming/clickstream/\n",
            "spark-3.0.1-bin-hadoop2.7/examples/src/main/scala/org/apache/spark/examples/streaming/clickstream/PageViewStream.scala\n",
            "spark-3.0.1-bin-hadoop2.7/examples/src/main/scala/org/apache/spark/examples/streaming/clickstream/PageViewGenerator.scala\n",
            "spark-3.0.1-bin-hadoop2.7/examples/src/main/scala/org/apache/spark/examples/streaming/RecoverableNetworkWordCount.scala\n",
            "spark-3.0.1-bin-hadoop2.7/examples/src/main/scala/org/apache/spark/examples/streaming/NetworkWordCount.scala\n",
            "spark-3.0.1-bin-hadoop2.7/examples/src/main/scala/org/apache/spark/examples/LocalLR.scala\n",
            "spark-3.0.1-bin-hadoop2.7/examples/src/main/scala/org/apache/spark/examples/SparkKMeans.scala\n",
            "spark-3.0.1-bin-hadoop2.7/examples/src/main/scala/org/apache/spark/examples/MultiBroadcastTest.scala\n",
            "spark-3.0.1-bin-hadoop2.7/examples/src/main/scala/org/apache/spark/examples/SparkLR.scala\n",
            "spark-3.0.1-bin-hadoop2.7/examples/src/main/scala/org/apache/spark/examples/LocalPi.scala\n",
            "spark-3.0.1-bin-hadoop2.7/examples/src/main/scala/org/apache/spark/examples/graphx/\n",
            "spark-3.0.1-bin-hadoop2.7/examples/src/main/scala/org/apache/spark/examples/graphx/Analytics.scala\n",
            "spark-3.0.1-bin-hadoop2.7/examples/src/main/scala/org/apache/spark/examples/graphx/SynthBenchmark.scala\n",
            "spark-3.0.1-bin-hadoop2.7/examples/src/main/scala/org/apache/spark/examples/graphx/ComprehensiveExample.scala\n",
            "spark-3.0.1-bin-hadoop2.7/examples/src/main/scala/org/apache/spark/examples/graphx/AggregateMessagesExample.scala\n",
            "spark-3.0.1-bin-hadoop2.7/examples/src/main/scala/org/apache/spark/examples/graphx/SSSPExample.scala\n",
            "spark-3.0.1-bin-hadoop2.7/examples/src/main/scala/org/apache/spark/examples/graphx/PageRankExample.scala\n",
            "spark-3.0.1-bin-hadoop2.7/examples/src/main/scala/org/apache/spark/examples/graphx/ConnectedComponentsExample.scala\n",
            "spark-3.0.1-bin-hadoop2.7/examples/src/main/scala/org/apache/spark/examples/graphx/LiveJournalPageRank.scala\n",
            "spark-3.0.1-bin-hadoop2.7/examples/src/main/scala/org/apache/spark/examples/graphx/TriangleCountingExample.scala\n",
            "spark-3.0.1-bin-hadoop2.7/examples/src/main/scala/org/apache/spark/examples/LocalFileLR.scala\n",
            "spark-3.0.1-bin-hadoop2.7/examples/src/main/scala/org/apache/spark/examples/SparkPageRank.scala\n",
            "spark-3.0.1-bin-hadoop2.7/examples/src/main/scala/org/apache/spark/examples/sql/\n",
            "spark-3.0.1-bin-hadoop2.7/examples/src/main/scala/org/apache/spark/examples/sql/RDDRelation.scala\n",
            "spark-3.0.1-bin-hadoop2.7/examples/src/main/scala/org/apache/spark/examples/sql/SimpleTypedAggregator.scala\n",
            "spark-3.0.1-bin-hadoop2.7/examples/src/main/scala/org/apache/spark/examples/sql/streaming/\n",
            "spark-3.0.1-bin-hadoop2.7/examples/src/main/scala/org/apache/spark/examples/sql/streaming/StructuredNetworkWordCount.scala\n",
            "spark-3.0.1-bin-hadoop2.7/examples/src/main/scala/org/apache/spark/examples/sql/streaming/StructuredNetworkWordCountWindowed.scala\n",
            "spark-3.0.1-bin-hadoop2.7/examples/src/main/scala/org/apache/spark/examples/sql/streaming/StructuredSessionization.scala\n",
            "spark-3.0.1-bin-hadoop2.7/examples/src/main/scala/org/apache/spark/examples/sql/streaming/StructuredKafkaWordCount.scala\n",
            "spark-3.0.1-bin-hadoop2.7/examples/src/main/scala/org/apache/spark/examples/sql/streaming/StructuredKerberizedKafkaWordCount.scala\n",
            "spark-3.0.1-bin-hadoop2.7/examples/src/main/scala/org/apache/spark/examples/sql/hive/\n",
            "spark-3.0.1-bin-hadoop2.7/examples/src/main/scala/org/apache/spark/examples/sql/hive/SparkHiveExample.scala\n",
            "spark-3.0.1-bin-hadoop2.7/examples/src/main/scala/org/apache/spark/examples/sql/UserDefinedScalar.scala\n",
            "spark-3.0.1-bin-hadoop2.7/examples/src/main/scala/org/apache/spark/examples/sql/UserDefinedTypedAggregation.scala\n",
            "spark-3.0.1-bin-hadoop2.7/examples/src/main/scala/org/apache/spark/examples/sql/SparkSQLExample.scala\n",
            "spark-3.0.1-bin-hadoop2.7/examples/src/main/scala/org/apache/spark/examples/sql/SQLDataSourceExample.scala\n",
            "spark-3.0.1-bin-hadoop2.7/examples/src/main/scala/org/apache/spark/examples/sql/UserDefinedUntypedAggregation.scala\n",
            "spark-3.0.1-bin-hadoop2.7/examples/src/main/scala/org/apache/spark/examples/SimpleSkewedGroupByTest.scala\n",
            "spark-3.0.1-bin-hadoop2.7/examples/src/main/scala/org/apache/spark/examples/LocalKMeans.scala\n",
            "spark-3.0.1-bin-hadoop2.7/examples/src/main/scala/org/apache/spark/examples/AccumulatorMetricsTest.scala\n",
            "spark-3.0.1-bin-hadoop2.7/examples/src/main/scala/org/apache/spark/examples/pythonconverters/\n",
            "spark-3.0.1-bin-hadoop2.7/examples/src/main/scala/org/apache/spark/examples/pythonconverters/AvroConverters.scala\n",
            "spark-3.0.1-bin-hadoop2.7/examples/src/main/scala/org/apache/spark/examples/SparkPi.scala\n",
            "spark-3.0.1-bin-hadoop2.7/examples/src/main/scala/org/apache/spark/examples/LocalALS.scala\n",
            "spark-3.0.1-bin-hadoop2.7/examples/src/main/scala/org/apache/spark/examples/GroupByTest.scala\n",
            "spark-3.0.1-bin-hadoop2.7/examples/src/main/scala/org/apache/spark/examples/LogQuery.scala\n",
            "spark-3.0.1-bin-hadoop2.7/examples/src/main/scala/org/apache/spark/examples/DriverSubmissionTest.scala\n",
            "spark-3.0.1-bin-hadoop2.7/examples/src/main/scala/org/apache/spark/examples/DFSReadWriteTest.scala\n",
            "spark-3.0.1-bin-hadoop2.7/examples/src/main/scala/org/apache/spark/examples/SparkRemoteFileTest.scala\n",
            "spark-3.0.1-bin-hadoop2.7/examples/src/main/scala/org/apache/spark/examples/SparkTC.scala\n",
            "spark-3.0.1-bin-hadoop2.7/examples/src/main/resources/\n",
            "spark-3.0.1-bin-hadoop2.7/examples/src/main/resources/users.avro\n",
            "spark-3.0.1-bin-hadoop2.7/examples/src/main/resources/full_user.avsc\n",
            "spark-3.0.1-bin-hadoop2.7/examples/src/main/resources/dir1/\n",
            "spark-3.0.1-bin-hadoop2.7/examples/src/main/resources/dir1/file1.parquet\n",
            "spark-3.0.1-bin-hadoop2.7/examples/src/main/resources/dir1/file3.json\n",
            "spark-3.0.1-bin-hadoop2.7/examples/src/main/resources/dir1/dir2/\n",
            "spark-3.0.1-bin-hadoop2.7/examples/src/main/resources/dir1/dir2/file2.parquet\n",
            "spark-3.0.1-bin-hadoop2.7/examples/src/main/resources/users.orc\n",
            "spark-3.0.1-bin-hadoop2.7/examples/src/main/resources/kv1.txt\n",
            "spark-3.0.1-bin-hadoop2.7/examples/src/main/resources/users.parquet\n",
            "spark-3.0.1-bin-hadoop2.7/examples/src/main/resources/people.txt\n",
            "spark-3.0.1-bin-hadoop2.7/examples/src/main/resources/user.avsc\n",
            "spark-3.0.1-bin-hadoop2.7/examples/src/main/resources/people.csv\n",
            "spark-3.0.1-bin-hadoop2.7/examples/src/main/resources/employees.json\n",
            "spark-3.0.1-bin-hadoop2.7/examples/src/main/resources/people.json\n",
            "spark-3.0.1-bin-hadoop2.7/examples/src/main/scripts/\n",
            "spark-3.0.1-bin-hadoop2.7/examples/src/main/scripts/getGpusResources.sh\n",
            "spark-3.0.1-bin-hadoop2.7/examples/src/main/java/\n",
            "spark-3.0.1-bin-hadoop2.7/examples/src/main/java/org/\n",
            "spark-3.0.1-bin-hadoop2.7/examples/src/main/java/org/apache/\n",
            "spark-3.0.1-bin-hadoop2.7/examples/src/main/java/org/apache/spark/\n",
            "spark-3.0.1-bin-hadoop2.7/examples/src/main/java/org/apache/spark/examples/\n",
            "spark-3.0.1-bin-hadoop2.7/examples/src/main/java/org/apache/spark/examples/ml/\n",
            "spark-3.0.1-bin-hadoop2.7/examples/src/main/java/org/apache/spark/examples/ml/JavaInteractionExample.java\n",
            "spark-3.0.1-bin-hadoop2.7/examples/src/main/java/org/apache/spark/examples/ml/JavaRFormulaExample.java\n",
            "spark-3.0.1-bin-hadoop2.7/examples/src/main/java/org/apache/spark/examples/ml/JavaNaiveBayesExample.java\n",
            "spark-3.0.1-bin-hadoop2.7/examples/src/main/java/org/apache/spark/examples/ml/JavaImputerExample.java\n",
            "spark-3.0.1-bin-hadoop2.7/examples/src/main/java/org/apache/spark/examples/ml/JavaMultilayerPerceptronClassifierExample.java\n",
            "spark-3.0.1-bin-hadoop2.7/examples/src/main/java/org/apache/spark/examples/ml/JavaRandomForestRegressorExample.java\n",
            "spark-3.0.1-bin-hadoop2.7/examples/src/main/java/org/apache/spark/examples/ml/JavaRandomForestClassifierExample.java\n",
            "spark-3.0.1-bin-hadoop2.7/examples/src/main/java/org/apache/spark/examples/ml/JavaTfIdfExample.java\n",
            "spark-3.0.1-bin-hadoop2.7/examples/src/main/java/org/apache/spark/examples/ml/JavaGradientBoostedTreeClassifierExample.java\n",
            "spark-3.0.1-bin-hadoop2.7/examples/src/main/java/org/apache/spark/examples/ml/JavaCountVectorizerExample.java\n",
            "spark-3.0.1-bin-hadoop2.7/examples/src/main/java/org/apache/spark/examples/ml/JavaRobustScalerExample.java\n",
            "spark-3.0.1-bin-hadoop2.7/examples/src/main/java/org/apache/spark/examples/ml/JavaLogisticRegressionWithElasticNetExample.java\n",
            "spark-3.0.1-bin-hadoop2.7/examples/src/main/java/org/apache/spark/examples/ml/JavaVectorSizeHintExample.java\n",
            "spark-3.0.1-bin-hadoop2.7/examples/src/main/java/org/apache/spark/examples/ml/JavaMulticlassLogisticRegressionWithElasticNetExample.java\n",
            "spark-3.0.1-bin-hadoop2.7/examples/src/main/java/org/apache/spark/examples/ml/JavaKMeansExample.java\n",
            "spark-3.0.1-bin-hadoop2.7/examples/src/main/java/org/apache/spark/examples/ml/JavaVectorIndexerExample.java\n",
            "spark-3.0.1-bin-hadoop2.7/examples/src/main/java/org/apache/spark/examples/ml/JavaBinarizerExample.java\n",
            "spark-3.0.1-bin-hadoop2.7/examples/src/main/java/org/apache/spark/examples/ml/JavaPolynomialExpansionExample.java\n",
            "spark-3.0.1-bin-hadoop2.7/examples/src/main/java/org/apache/spark/examples/ml/JavaStringIndexerExample.java\n",
            "spark-3.0.1-bin-hadoop2.7/examples/src/main/java/org/apache/spark/examples/ml/JavaPCAExample.java\n",
            "spark-3.0.1-bin-hadoop2.7/examples/src/main/java/org/apache/spark/examples/ml/JavaOneVsRestExample.java\n",
            "spark-3.0.1-bin-hadoop2.7/examples/src/main/java/org/apache/spark/examples/ml/JavaLabeledDocument.java\n",
            "spark-3.0.1-bin-hadoop2.7/examples/src/main/java/org/apache/spark/examples/ml/JavaFeatureHasherExample.java\n",
            "spark-3.0.1-bin-hadoop2.7/examples/src/main/java/org/apache/spark/examples/ml/JavaFMRegressorExample.java\n",
            "spark-3.0.1-bin-hadoop2.7/examples/src/main/java/org/apache/spark/examples/ml/JavaVectorAssemblerExample.java\n",
            "spark-3.0.1-bin-hadoop2.7/examples/src/main/java/org/apache/spark/examples/ml/JavaSummarizerExample.java\n",
            "spark-3.0.1-bin-hadoop2.7/examples/src/main/java/org/apache/spark/examples/ml/JavaBisectingKMeansExample.java\n",
            "spark-3.0.1-bin-hadoop2.7/examples/src/main/java/org/apache/spark/examples/ml/JavaPrefixSpanExample.java\n",
            "spark-3.0.1-bin-hadoop2.7/examples/src/main/java/org/apache/spark/examples/ml/JavaBucketedRandomProjectionLSHExample.java\n",
            "spark-3.0.1-bin-hadoop2.7/examples/src/main/java/org/apache/spark/examples/ml/JavaWord2VecExample.java\n",
            "spark-3.0.1-bin-hadoop2.7/examples/src/main/java/org/apache/spark/examples/ml/JavaVectorSlicerExample.java\n",
            "spark-3.0.1-bin-hadoop2.7/examples/src/main/java/org/apache/spark/examples/ml/JavaLinearRegressionWithElasticNetExample.java\n",
            "spark-3.0.1-bin-hadoop2.7/examples/src/main/java/org/apache/spark/examples/ml/JavaIndexToStringExample.java\n",
            "spark-3.0.1-bin-hadoop2.7/examples/src/main/java/org/apache/spark/examples/ml/JavaDecisionTreeClassificationExample.java\n",
            "spark-3.0.1-bin-hadoop2.7/examples/src/main/java/org/apache/spark/examples/ml/JavaDCTExample.java\n",
            "spark-3.0.1-bin-hadoop2.7/examples/src/main/java/org/apache/spark/examples/ml/JavaTokenizerExample.java\n",
            "spark-3.0.1-bin-hadoop2.7/examples/src/main/java/org/apache/spark/examples/ml/JavaALSExample.java\n",
            "spark-3.0.1-bin-hadoop2.7/examples/src/main/java/org/apache/spark/examples/ml/JavaFMClassifierExample.java\n",
            "spark-3.0.1-bin-hadoop2.7/examples/src/main/java/org/apache/spark/examples/ml/JavaEstimatorTransformerParamExample.java\n",
            "spark-3.0.1-bin-hadoop2.7/examples/src/main/java/org/apache/spark/examples/ml/JavaSQLTransformerExample.java\n",
            "spark-3.0.1-bin-hadoop2.7/examples/src/main/java/org/apache/spark/examples/ml/JavaModelSelectionViaTrainValidationSplitExample.java\n",
            "spark-3.0.1-bin-hadoop2.7/examples/src/main/java/org/apache/spark/examples/ml/JavaQuantileDiscretizerExample.java\n",
            "spark-3.0.1-bin-hadoop2.7/examples/src/main/java/org/apache/spark/examples/ml/JavaCorrelationExample.java\n",
            "spark-3.0.1-bin-hadoop2.7/examples/src/main/java/org/apache/spark/examples/ml/JavaNGramExample.java\n",
            "spark-3.0.1-bin-hadoop2.7/examples/src/main/java/org/apache/spark/examples/ml/JavaGradientBoostedTreeRegressorExample.java\n",
            "spark-3.0.1-bin-hadoop2.7/examples/src/main/java/org/apache/spark/examples/ml/JavaModelSelectionViaCrossValidationExample.java\n",
            "spark-3.0.1-bin-hadoop2.7/examples/src/main/java/org/apache/spark/examples/ml/JavaIsotonicRegressionExample.java\n",
            "spark-3.0.1-bin-hadoop2.7/examples/src/main/java/org/apache/spark/examples/ml/JavaMinMaxScalerExample.java\n",
            "spark-3.0.1-bin-hadoop2.7/examples/src/main/java/org/apache/spark/examples/ml/JavaChiSquareTestExample.java\n",
            "spark-3.0.1-bin-hadoop2.7/examples/src/main/java/org/apache/spark/examples/ml/JavaElementwiseProductExample.java\n",
            "spark-3.0.1-bin-hadoop2.7/examples/src/main/java/org/apache/spark/examples/ml/JavaAFTSurvivalRegressionExample.java\n",
            "spark-3.0.1-bin-hadoop2.7/examples/src/main/java/org/apache/spark/examples/ml/JavaStandardScalerExample.java\n",
            "spark-3.0.1-bin-hadoop2.7/examples/src/main/java/org/apache/spark/examples/ml/JavaDecisionTreeRegressionExample.java\n",
            "spark-3.0.1-bin-hadoop2.7/examples/src/main/java/org/apache/spark/examples/ml/JavaOneHotEncoderExample.java\n",
            "spark-3.0.1-bin-hadoop2.7/examples/src/main/java/org/apache/spark/examples/ml/JavaDocument.java\n",
            "spark-3.0.1-bin-hadoop2.7/examples/src/main/java/org/apache/spark/examples/ml/JavaFPGrowthExample.java\n",
            "spark-3.0.1-bin-hadoop2.7/examples/src/main/java/org/apache/spark/examples/ml/JavaLDAExample.java\n",
            "spark-3.0.1-bin-hadoop2.7/examples/src/main/java/org/apache/spark/examples/ml/JavaMinHashLSHExample.java\n",
            "spark-3.0.1-bin-hadoop2.7/examples/src/main/java/org/apache/spark/examples/ml/JavaChiSqSelectorExample.java\n",
            "spark-3.0.1-bin-hadoop2.7/examples/src/main/java/org/apache/spark/examples/ml/JavaNormalizerExample.java\n",
            "spark-3.0.1-bin-hadoop2.7/examples/src/main/java/org/apache/spark/examples/ml/JavaGaussianMixtureExample.java\n",
            "spark-3.0.1-bin-hadoop2.7/examples/src/main/java/org/apache/spark/examples/ml/JavaStopWordsRemoverExample.java\n",
            "spark-3.0.1-bin-hadoop2.7/examples/src/main/java/org/apache/spark/examples/ml/JavaPipelineExample.java\n",
            "spark-3.0.1-bin-hadoop2.7/examples/src/main/java/org/apache/spark/examples/ml/JavaGeneralizedLinearRegressionExample.java\n",
            "spark-3.0.1-bin-hadoop2.7/examples/src/main/java/org/apache/spark/examples/ml/JavaLinearSVCExample.java\n",
            "spark-3.0.1-bin-hadoop2.7/examples/src/main/java/org/apache/spark/examples/ml/JavaLogisticRegressionSummaryExample.java\n",
            "spark-3.0.1-bin-hadoop2.7/examples/src/main/java/org/apache/spark/examples/ml/JavaPowerIterationClusteringExample.java\n",
            "spark-3.0.1-bin-hadoop2.7/examples/src/main/java/org/apache/spark/examples/ml/JavaMaxAbsScalerExample.java\n",
            "spark-3.0.1-bin-hadoop2.7/examples/src/main/java/org/apache/spark/examples/ml/JavaBucketizerExample.java\n",
            "spark-3.0.1-bin-hadoop2.7/examples/src/main/java/org/apache/spark/examples/JavaHdfsLR.java\n",
            "spark-3.0.1-bin-hadoop2.7/examples/src/main/java/org/apache/spark/examples/mllib/\n",
            "spark-3.0.1-bin-hadoop2.7/examples/src/main/java/org/apache/spark/examples/mllib/JavaNaiveBayesExample.java\n",
            "spark-3.0.1-bin-hadoop2.7/examples/src/main/java/org/apache/spark/examples/mllib/JavaSVDExample.java\n",
            "spark-3.0.1-bin-hadoop2.7/examples/src/main/java/org/apache/spark/examples/mllib/JavaKernelDensityEstimationExample.java\n",
            "spark-3.0.1-bin-hadoop2.7/examples/src/main/java/org/apache/spark/examples/mllib/JavaHypothesisTestingKolmogorovSmirnovTestExample.java\n",
            "spark-3.0.1-bin-hadoop2.7/examples/src/main/java/org/apache/spark/examples/mllib/JavaKMeansExample.java\n",
            "spark-3.0.1-bin-hadoop2.7/examples/src/main/java/org/apache/spark/examples/mllib/JavaPCAExample.java\n",
            "spark-3.0.1-bin-hadoop2.7/examples/src/main/java/org/apache/spark/examples/mllib/JavaRandomForestClassificationExample.java\n",
            "spark-3.0.1-bin-hadoop2.7/examples/src/main/java/org/apache/spark/examples/mllib/JavaCorrelationsExample.java\n",
            "spark-3.0.1-bin-hadoop2.7/examples/src/main/java/org/apache/spark/examples/mllib/JavaLatentDirichletAllocationExample.java\n",
            "spark-3.0.1-bin-hadoop2.7/examples/src/main/java/org/apache/spark/examples/mllib/JavaBisectingKMeansExample.java\n",
            "spark-3.0.1-bin-hadoop2.7/examples/src/main/java/org/apache/spark/examples/mllib/JavaPrefixSpanExample.java\n",
            "spark-3.0.1-bin-hadoop2.7/examples/src/main/java/org/apache/spark/examples/mllib/JavaSummaryStatisticsExample.java\n",
            "spark-3.0.1-bin-hadoop2.7/examples/src/main/java/org/apache/spark/examples/mllib/JavaSVMWithSGDExample.java\n",
            "spark-3.0.1-bin-hadoop2.7/examples/src/main/java/org/apache/spark/examples/mllib/JavaGradientBoostingRegressionExample.java\n",
            "spark-3.0.1-bin-hadoop2.7/examples/src/main/java/org/apache/spark/examples/mllib/JavaDecisionTreeClassificationExample.java\n",
            "spark-3.0.1-bin-hadoop2.7/examples/src/main/java/org/apache/spark/examples/mllib/JavaBinaryClassificationMetricsExample.java\n",
            "spark-3.0.1-bin-hadoop2.7/examples/src/main/java/org/apache/spark/examples/mllib/JavaSimpleFPGrowth.java\n",
            "spark-3.0.1-bin-hadoop2.7/examples/src/main/java/org/apache/spark/examples/mllib/JavaALS.java\n",
            "spark-3.0.1-bin-hadoop2.7/examples/src/main/java/org/apache/spark/examples/mllib/JavaIsotonicRegressionExample.java\n",
            "spark-3.0.1-bin-hadoop2.7/examples/src/main/java/org/apache/spark/examples/mllib/JavaElementwiseProductExample.java\n",
            "spark-3.0.1-bin-hadoop2.7/examples/src/main/java/org/apache/spark/examples/mllib/JavaGradientBoostingClassificationExample.java\n",
            "spark-3.0.1-bin-hadoop2.7/examples/src/main/java/org/apache/spark/examples/mllib/JavaMulticlassClassificationMetricsExample.java\n",
            "spark-3.0.1-bin-hadoop2.7/examples/src/main/java/org/apache/spark/examples/mllib/JavaLogisticRegressionWithLBFGSExample.java\n",
            "spark-3.0.1-bin-hadoop2.7/examples/src/main/java/org/apache/spark/examples/mllib/JavaRecommendationExample.java\n",
            "spark-3.0.1-bin-hadoop2.7/examples/src/main/java/org/apache/spark/examples/mllib/JavaAssociationRulesExample.java\n",
            "spark-3.0.1-bin-hadoop2.7/examples/src/main/java/org/apache/spark/examples/mllib/JavaDecisionTreeRegressionExample.java\n",
            "spark-3.0.1-bin-hadoop2.7/examples/src/main/java/org/apache/spark/examples/mllib/JavaLBFGSExample.java\n",
            "spark-3.0.1-bin-hadoop2.7/examples/src/main/java/org/apache/spark/examples/mllib/JavaHypothesisTestingExample.java\n",
            "spark-3.0.1-bin-hadoop2.7/examples/src/main/java/org/apache/spark/examples/mllib/JavaRankingMetricsExample.java\n",
            "spark-3.0.1-bin-hadoop2.7/examples/src/main/java/org/apache/spark/examples/mllib/JavaMultiLabelClassificationMetricsExample.java\n",
            "spark-3.0.1-bin-hadoop2.7/examples/src/main/java/org/apache/spark/examples/mllib/JavaStratifiedSamplingExample.java\n",
            "spark-3.0.1-bin-hadoop2.7/examples/src/main/java/org/apache/spark/examples/mllib/JavaChiSqSelectorExample.java\n",
            "spark-3.0.1-bin-hadoop2.7/examples/src/main/java/org/apache/spark/examples/mllib/JavaGaussianMixtureExample.java\n",
            "spark-3.0.1-bin-hadoop2.7/examples/src/main/java/org/apache/spark/examples/mllib/JavaRandomForestRegressionExample.java\n",
            "spark-3.0.1-bin-hadoop2.7/examples/src/main/java/org/apache/spark/examples/mllib/JavaStreamingTestExample.java\n",
            "spark-3.0.1-bin-hadoop2.7/examples/src/main/java/org/apache/spark/examples/mllib/JavaPowerIterationClusteringExample.java\n",
            "spark-3.0.1-bin-hadoop2.7/examples/src/main/java/org/apache/spark/examples/JavaLogQuery.java\n",
            "spark-3.0.1-bin-hadoop2.7/examples/src/main/java/org/apache/spark/examples/streaming/\n",
            "spark-3.0.1-bin-hadoop2.7/examples/src/main/java/org/apache/spark/examples/streaming/JavaDirectKafkaWordCount.java\n",
            "spark-3.0.1-bin-hadoop2.7/examples/src/main/java/org/apache/spark/examples/streaming/JavaRecoverableNetworkWordCount.java\n",
            "spark-3.0.1-bin-hadoop2.7/examples/src/main/java/org/apache/spark/examples/streaming/JavaQueueStream.java\n",
            "spark-3.0.1-bin-hadoop2.7/examples/src/main/java/org/apache/spark/examples/streaming/JavaRecord.java\n",
            "spark-3.0.1-bin-hadoop2.7/examples/src/main/java/org/apache/spark/examples/streaming/JavaCustomReceiver.java\n",
            "spark-3.0.1-bin-hadoop2.7/examples/src/main/java/org/apache/spark/examples/streaming/JavaNetworkWordCount.java\n",
            "spark-3.0.1-bin-hadoop2.7/examples/src/main/java/org/apache/spark/examples/streaming/JavaSqlNetworkWordCount.java\n",
            "spark-3.0.1-bin-hadoop2.7/examples/src/main/java/org/apache/spark/examples/streaming/JavaDirectKerberizedKafkaWordCount.java\n",
            "spark-3.0.1-bin-hadoop2.7/examples/src/main/java/org/apache/spark/examples/streaming/JavaStatefulNetworkWordCount.java\n",
            "spark-3.0.1-bin-hadoop2.7/examples/src/main/java/org/apache/spark/examples/JavaStatusTrackerDemo.java\n",
            "spark-3.0.1-bin-hadoop2.7/examples/src/main/java/org/apache/spark/examples/sql/\n",
            "spark-3.0.1-bin-hadoop2.7/examples/src/main/java/org/apache/spark/examples/sql/streaming/\n",
            "spark-3.0.1-bin-hadoop2.7/examples/src/main/java/org/apache/spark/examples/sql/streaming/JavaStructuredNetworkWordCount.java\n",
            "spark-3.0.1-bin-hadoop2.7/examples/src/main/java/org/apache/spark/examples/sql/streaming/JavaStructuredSessionization.java\n",
            "spark-3.0.1-bin-hadoop2.7/examples/src/main/java/org/apache/spark/examples/sql/streaming/JavaStructuredKerberizedKafkaWordCount.java\n",
            "spark-3.0.1-bin-hadoop2.7/examples/src/main/java/org/apache/spark/examples/sql/streaming/JavaStructuredNetworkWordCountWindowed.java\n",
            "spark-3.0.1-bin-hadoop2.7/examples/src/main/java/org/apache/spark/examples/sql/streaming/JavaStructuredKafkaWordCount.java\n",
            "spark-3.0.1-bin-hadoop2.7/examples/src/main/java/org/apache/spark/examples/sql/hive/\n",
            "spark-3.0.1-bin-hadoop2.7/examples/src/main/java/org/apache/spark/examples/sql/hive/JavaSparkHiveExample.java\n",
            "spark-3.0.1-bin-hadoop2.7/examples/src/main/java/org/apache/spark/examples/sql/JavaSparkSQLExample.java\n",
            "spark-3.0.1-bin-hadoop2.7/examples/src/main/java/org/apache/spark/examples/sql/JavaSQLDataSourceExample.java\n",
            "spark-3.0.1-bin-hadoop2.7/examples/src/main/java/org/apache/spark/examples/sql/JavaUserDefinedScalar.java\n",
            "spark-3.0.1-bin-hadoop2.7/examples/src/main/java/org/apache/spark/examples/sql/JavaUserDefinedUntypedAggregation.java\n",
            "spark-3.0.1-bin-hadoop2.7/examples/src/main/java/org/apache/spark/examples/sql/JavaUserDefinedTypedAggregation.java\n",
            "spark-3.0.1-bin-hadoop2.7/examples/src/main/java/org/apache/spark/examples/JavaTC.java\n",
            "spark-3.0.1-bin-hadoop2.7/examples/src/main/java/org/apache/spark/examples/JavaWordCount.java\n",
            "spark-3.0.1-bin-hadoop2.7/examples/src/main/java/org/apache/spark/examples/JavaPageRank.java\n",
            "spark-3.0.1-bin-hadoop2.7/examples/src/main/java/org/apache/spark/examples/JavaSparkPi.java\n",
            "spark-3.0.1-bin-hadoop2.7/examples/src/main/r/\n",
            "spark-3.0.1-bin-hadoop2.7/examples/src/main/r/ml/\n",
            "spark-3.0.1-bin-hadoop2.7/examples/src/main/r/ml/lda.R\n",
            "spark-3.0.1-bin-hadoop2.7/examples/src/main/r/ml/logit.R\n",
            "spark-3.0.1-bin-hadoop2.7/examples/src/main/r/ml/gaussianMixture.R\n",
            "spark-3.0.1-bin-hadoop2.7/examples/src/main/r/ml/survreg.R\n",
            "spark-3.0.1-bin-hadoop2.7/examples/src/main/r/ml/glm.R\n",
            "spark-3.0.1-bin-hadoop2.7/examples/src/main/r/ml/powerIterationClustering.R\n",
            "spark-3.0.1-bin-hadoop2.7/examples/src/main/r/ml/als.R\n",
            "spark-3.0.1-bin-hadoop2.7/examples/src/main/r/ml/ml.R\n",
            "spark-3.0.1-bin-hadoop2.7/examples/src/main/r/ml/fpm.R\n",
            "spark-3.0.1-bin-hadoop2.7/examples/src/main/r/ml/bisectingKmeans.R\n",
            "spark-3.0.1-bin-hadoop2.7/examples/src/main/r/ml/isoreg.R\n",
            "spark-3.0.1-bin-hadoop2.7/examples/src/main/r/ml/mlp.R\n",
            "spark-3.0.1-bin-hadoop2.7/examples/src/main/r/ml/kmeans.R\n",
            "spark-3.0.1-bin-hadoop2.7/examples/src/main/r/ml/randomForest.R\n",
            "spark-3.0.1-bin-hadoop2.7/examples/src/main/r/ml/gbt.R\n",
            "spark-3.0.1-bin-hadoop2.7/examples/src/main/r/ml/kstest.R\n",
            "spark-3.0.1-bin-hadoop2.7/examples/src/main/r/ml/svmLinear.R\n",
            "spark-3.0.1-bin-hadoop2.7/examples/src/main/r/ml/decisionTree.R\n",
            "spark-3.0.1-bin-hadoop2.7/examples/src/main/r/ml/naiveBayes.R\n",
            "spark-3.0.1-bin-hadoop2.7/examples/src/main/r/ml/prefixSpan.R\n",
            "spark-3.0.1-bin-hadoop2.7/examples/src/main/r/data-manipulation.R\n",
            "spark-3.0.1-bin-hadoop2.7/examples/src/main/r/streaming/\n",
            "spark-3.0.1-bin-hadoop2.7/examples/src/main/r/streaming/structured_network_wordcount.R\n",
            "spark-3.0.1-bin-hadoop2.7/examples/src/main/r/RSparkSQLExample.R\n",
            "spark-3.0.1-bin-hadoop2.7/examples/src/main/r/dataframe.R\n",
            "spark-3.0.1-bin-hadoop2.7/examples/src/main/python/\n",
            "spark-3.0.1-bin-hadoop2.7/examples/src/main/python/ml/\n",
            "spark-3.0.1-bin-hadoop2.7/examples/src/main/python/ml/bisecting_k_means_example.py\n",
            "spark-3.0.1-bin-hadoop2.7/examples/src/main/python/ml/stopwords_remover_example.py\n",
            "spark-3.0.1-bin-hadoop2.7/examples/src/main/python/ml/chisq_selector_example.py\n",
            "spark-3.0.1-bin-hadoop2.7/examples/src/main/python/ml/cross_validator.py\n",
            "spark-3.0.1-bin-hadoop2.7/examples/src/main/python/ml/vector_indexer_example.py\n",
            "spark-3.0.1-bin-hadoop2.7/examples/src/main/python/ml/binarizer_example.py\n",
            "spark-3.0.1-bin-hadoop2.7/examples/src/main/python/ml/tokenizer_example.py\n",
            "spark-3.0.1-bin-hadoop2.7/examples/src/main/python/ml/quantile_discretizer_example.py\n",
            "spark-3.0.1-bin-hadoop2.7/examples/src/main/python/ml/vector_size_hint_example.py\n",
            "spark-3.0.1-bin-hadoop2.7/examples/src/main/python/ml/elementwise_product_example.py\n",
            "spark-3.0.1-bin-hadoop2.7/examples/src/main/python/ml/tf_idf_example.py\n",
            "spark-3.0.1-bin-hadoop2.7/examples/src/main/python/ml/pca_example.py\n",
            "spark-3.0.1-bin-hadoop2.7/examples/src/main/python/ml/chi_square_test_example.py\n",
            "spark-3.0.1-bin-hadoop2.7/examples/src/main/python/ml/correlation_example.py\n",
            "spark-3.0.1-bin-hadoop2.7/examples/src/main/python/ml/rformula_example.py\n",
            "spark-3.0.1-bin-hadoop2.7/examples/src/main/python/ml/fpgrowth_example.py\n",
            "spark-3.0.1-bin-hadoop2.7/examples/src/main/python/ml/dataframe_example.py\n",
            "spark-3.0.1-bin-hadoop2.7/examples/src/main/python/ml/train_validation_split.py\n",
            "spark-3.0.1-bin-hadoop2.7/examples/src/main/python/ml/fm_classifier_example.py\n",
            "spark-3.0.1-bin-hadoop2.7/examples/src/main/python/ml/index_to_string_example.py\n",
            "spark-3.0.1-bin-hadoop2.7/examples/src/main/python/ml/gradient_boosted_tree_regressor_example.py\n",
            "spark-3.0.1-bin-hadoop2.7/examples/src/main/python/ml/logistic_regression_summary_example.py\n",
            "spark-3.0.1-bin-hadoop2.7/examples/src/main/python/ml/feature_hasher_example.py\n",
            "spark-3.0.1-bin-hadoop2.7/examples/src/main/python/ml/vector_slicer_example.py\n",
            "spark-3.0.1-bin-hadoop2.7/examples/src/main/python/ml/kmeans_example.py\n",
            "spark-3.0.1-bin-hadoop2.7/examples/src/main/python/ml/robust_scaler_example.py\n",
            "spark-3.0.1-bin-hadoop2.7/examples/src/main/python/ml/als_example.py\n",
            "spark-3.0.1-bin-hadoop2.7/examples/src/main/python/ml/decision_tree_classification_example.py\n",
            "spark-3.0.1-bin-hadoop2.7/examples/src/main/python/ml/generalized_linear_regression_example.py\n",
            "spark-3.0.1-bin-hadoop2.7/examples/src/main/python/ml/fm_regressor_example.py\n",
            "spark-3.0.1-bin-hadoop2.7/examples/src/main/python/ml/multiclass_logistic_regression_with_elastic_net.py\n",
            "spark-3.0.1-bin-hadoop2.7/examples/src/main/python/ml/imputer_example.py\n",
            "spark-3.0.1-bin-hadoop2.7/examples/src/main/python/ml/interaction_example.py\n",
            "spark-3.0.1-bin-hadoop2.7/examples/src/main/python/ml/naive_bayes_example.py\n",
            "spark-3.0.1-bin-hadoop2.7/examples/src/main/python/ml/string_indexer_example.py\n",
            "spark-3.0.1-bin-hadoop2.7/examples/src/main/python/ml/gradient_boosted_tree_classifier_example.py\n",
            "spark-3.0.1-bin-hadoop2.7/examples/src/main/python/ml/sql_transformer.py\n",
            "spark-3.0.1-bin-hadoop2.7/examples/src/main/python/ml/logistic_regression_with_elastic_net.py\n",
            "spark-3.0.1-bin-hadoop2.7/examples/src/main/python/ml/decision_tree_regression_example.py\n",
            "spark-3.0.1-bin-hadoop2.7/examples/src/main/python/ml/lda_example.py\n",
            "spark-3.0.1-bin-hadoop2.7/examples/src/main/python/ml/min_hash_lsh_example.py\n",
            "spark-3.0.1-bin-hadoop2.7/examples/src/main/python/ml/estimator_transformer_param_example.py\n",
            "spark-3.0.1-bin-hadoop2.7/examples/src/main/python/ml/gaussian_mixture_example.py\n",
            "spark-3.0.1-bin-hadoop2.7/examples/src/main/python/ml/prefixspan_example.py\n",
            "spark-3.0.1-bin-hadoop2.7/examples/src/main/python/ml/summarizer_example.py\n",
            "spark-3.0.1-bin-hadoop2.7/examples/src/main/python/ml/max_abs_scaler_example.py\n",
            "spark-3.0.1-bin-hadoop2.7/examples/src/main/python/ml/aft_survival_regression.py\n",
            "spark-3.0.1-bin-hadoop2.7/examples/src/main/python/ml/onehot_encoder_example.py\n",
            "spark-3.0.1-bin-hadoop2.7/examples/src/main/python/ml/normalizer_example.py\n",
            "spark-3.0.1-bin-hadoop2.7/examples/src/main/python/ml/random_forest_regressor_example.py\n",
            "spark-3.0.1-bin-hadoop2.7/examples/src/main/python/ml/random_forest_classifier_example.py\n",
            "spark-3.0.1-bin-hadoop2.7/examples/src/main/python/ml/vector_assembler_example.py\n",
            "spark-3.0.1-bin-hadoop2.7/examples/src/main/python/ml/power_iteration_clustering_example.py\n",
            "spark-3.0.1-bin-hadoop2.7/examples/src/main/python/ml/linear_regression_with_elastic_net.py\n",
            "spark-3.0.1-bin-hadoop2.7/examples/src/main/python/ml/count_vectorizer_example.py\n",
            "spark-3.0.1-bin-hadoop2.7/examples/src/main/python/ml/standard_scaler_example.py\n",
            "spark-3.0.1-bin-hadoop2.7/examples/src/main/python/ml/bucketizer_example.py\n",
            "spark-3.0.1-bin-hadoop2.7/examples/src/main/python/ml/multilayer_perceptron_classification.py\n",
            "spark-3.0.1-bin-hadoop2.7/examples/src/main/python/ml/dct_example.py\n",
            "spark-3.0.1-bin-hadoop2.7/examples/src/main/python/ml/linearsvc.py\n",
            "spark-3.0.1-bin-hadoop2.7/examples/src/main/python/ml/polynomial_expansion_example.py\n",
            "spark-3.0.1-bin-hadoop2.7/examples/src/main/python/ml/isotonic_regression_example.py\n",
            "spark-3.0.1-bin-hadoop2.7/examples/src/main/python/ml/n_gram_example.py\n",
            "spark-3.0.1-bin-hadoop2.7/examples/src/main/python/ml/word2vec_example.py\n",
            "spark-3.0.1-bin-hadoop2.7/examples/src/main/python/ml/min_max_scaler_example.py\n",
            "spark-3.0.1-bin-hadoop2.7/examples/src/main/python/ml/bucketed_random_projection_lsh_example.py\n",
            "spark-3.0.1-bin-hadoop2.7/examples/src/main/python/ml/one_vs_rest_example.py\n",
            "spark-3.0.1-bin-hadoop2.7/examples/src/main/python/ml/pipeline_example.py\n",
            "spark-3.0.1-bin-hadoop2.7/examples/src/main/python/mllib/\n",
            "spark-3.0.1-bin-hadoop2.7/examples/src/main/python/mllib/bisecting_k_means_example.py\n",
            "spark-3.0.1-bin-hadoop2.7/examples/src/main/python/mllib/multi_class_metrics_example.py\n",
            "spark-3.0.1-bin-hadoop2.7/examples/src/main/python/mllib/regression_metrics_example.py\n",
            "spark-3.0.1-bin-hadoop2.7/examples/src/main/python/mllib/correlations.py\n",
            "spark-3.0.1-bin-hadoop2.7/examples/src/main/python/mllib/elementwise_product_example.py\n",
            "spark-3.0.1-bin-hadoop2.7/examples/src/main/python/mllib/svd_example.py\n",
            "spark-3.0.1-bin-hadoop2.7/examples/src/main/python/mllib/tf_idf_example.py\n",
            "spark-3.0.1-bin-hadoop2.7/examples/src/main/python/mllib/kernel_density_estimation_example.py\n",
            "spark-3.0.1-bin-hadoop2.7/examples/src/main/python/mllib/pca_rowmatrix_example.py\n",
            "spark-3.0.1-bin-hadoop2.7/examples/src/main/python/mllib/ranking_metrics_example.py\n",
            "spark-3.0.1-bin-hadoop2.7/examples/src/main/python/mllib/gradient_boosting_regression_example.py\n",
            "spark-3.0.1-bin-hadoop2.7/examples/src/main/python/mllib/fpgrowth_example.py\n",
            "spark-3.0.1-bin-hadoop2.7/examples/src/main/python/mllib/random_rdd_generation.py\n",
            "spark-3.0.1-bin-hadoop2.7/examples/src/main/python/mllib/word2vec.py\n",
            "spark-3.0.1-bin-hadoop2.7/examples/src/main/python/mllib/linear_regression_with_sgd_example.py\n",
            "spark-3.0.1-bin-hadoop2.7/examples/src/main/python/mllib/logistic_regression_with_lbfgs_example.py\n",
            "spark-3.0.1-bin-hadoop2.7/examples/src/main/python/mllib/kmeans.py\n",
            "spark-3.0.1-bin-hadoop2.7/examples/src/main/python/mllib/streaming_k_means_example.py\n",
            "spark-3.0.1-bin-hadoop2.7/examples/src/main/python/mllib/decision_tree_classification_example.py\n",
            "spark-3.0.1-bin-hadoop2.7/examples/src/main/python/mllib/correlations_example.py\n",
            "spark-3.0.1-bin-hadoop2.7/examples/src/main/python/mllib/naive_bayes_example.py\n",
            "spark-3.0.1-bin-hadoop2.7/examples/src/main/python/mllib/decision_tree_regression_example.py\n",
            "spark-3.0.1-bin-hadoop2.7/examples/src/main/python/mllib/sampled_rdds.py\n",
            "spark-3.0.1-bin-hadoop2.7/examples/src/main/python/mllib/gaussian_mixture_example.py\n",
            "spark-3.0.1-bin-hadoop2.7/examples/src/main/python/mllib/hypothesis_testing_example.py\n",
            "spark-3.0.1-bin-hadoop2.7/examples/src/main/python/mllib/streaming_linear_regression_example.py\n",
            "spark-3.0.1-bin-hadoop2.7/examples/src/main/python/mllib/stratified_sampling_example.py\n",
            "spark-3.0.1-bin-hadoop2.7/examples/src/main/python/mllib/gaussian_mixture_model.py\n",
            "spark-3.0.1-bin-hadoop2.7/examples/src/main/python/mllib/normalizer_example.py\n",
            "spark-3.0.1-bin-hadoop2.7/examples/src/main/python/mllib/summary_statistics_example.py\n",
            "spark-3.0.1-bin-hadoop2.7/examples/src/main/python/mllib/svm_with_sgd_example.py\n",
            "spark-3.0.1-bin-hadoop2.7/examples/src/main/python/mllib/logistic_regression.py\n",
            "spark-3.0.1-bin-hadoop2.7/examples/src/main/python/mllib/power_iteration_clustering_example.py\n",
            "spark-3.0.1-bin-hadoop2.7/examples/src/main/python/mllib/standard_scaler_example.py\n",
            "spark-3.0.1-bin-hadoop2.7/examples/src/main/python/mllib/random_forest_classification_example.py\n",
            "spark-3.0.1-bin-hadoop2.7/examples/src/main/python/mllib/gradient_boosting_classification_example.py\n",
            "spark-3.0.1-bin-hadoop2.7/examples/src/main/python/mllib/random_forest_regression_example.py\n",
            "spark-3.0.1-bin-hadoop2.7/examples/src/main/python/mllib/isotonic_regression_example.py\n",
            "spark-3.0.1-bin-hadoop2.7/examples/src/main/python/mllib/k_means_example.py\n",
            "spark-3.0.1-bin-hadoop2.7/examples/src/main/python/mllib/word2vec_example.py\n",
            "spark-3.0.1-bin-hadoop2.7/examples/src/main/python/mllib/binary_classification_metrics_example.py\n",
            "spark-3.0.1-bin-hadoop2.7/examples/src/main/python/mllib/multi_label_metrics_example.py\n",
            "spark-3.0.1-bin-hadoop2.7/examples/src/main/python/mllib/hypothesis_testing_kolmogorov_smirnov_test_example.py\n",
            "spark-3.0.1-bin-hadoop2.7/examples/src/main/python/mllib/latent_dirichlet_allocation_example.py\n",
            "spark-3.0.1-bin-hadoop2.7/examples/src/main/python/mllib/recommendation_example.py\n",
            "spark-3.0.1-bin-hadoop2.7/examples/src/main/python/transitive_closure.py\n",
            "spark-3.0.1-bin-hadoop2.7/examples/src/main/python/parquet_inputformat.py\n",
            "spark-3.0.1-bin-hadoop2.7/examples/src/main/python/streaming/\n",
            "spark-3.0.1-bin-hadoop2.7/examples/src/main/python/streaming/sql_network_wordcount.py\n",
            "spark-3.0.1-bin-hadoop2.7/examples/src/main/python/streaming/queue_stream.py\n",
            "spark-3.0.1-bin-hadoop2.7/examples/src/main/python/streaming/recoverable_network_wordcount.py\n",
            "spark-3.0.1-bin-hadoop2.7/examples/src/main/python/streaming/network_wordjoinsentiments.py\n",
            "spark-3.0.1-bin-hadoop2.7/examples/src/main/python/streaming/network_wordcount.py\n",
            "spark-3.0.1-bin-hadoop2.7/examples/src/main/python/streaming/hdfs_wordcount.py\n",
            "spark-3.0.1-bin-hadoop2.7/examples/src/main/python/streaming/stateful_network_wordcount.py\n",
            "spark-3.0.1-bin-hadoop2.7/examples/src/main/python/kmeans.py\n",
            "spark-3.0.1-bin-hadoop2.7/examples/src/main/python/als.py\n",
            "spark-3.0.1-bin-hadoop2.7/examples/src/main/python/sql/\n",
            "spark-3.0.1-bin-hadoop2.7/examples/src/main/python/sql/streaming/\n",
            "spark-3.0.1-bin-hadoop2.7/examples/src/main/python/sql/streaming/structured_kafka_wordcount.py\n",
            "spark-3.0.1-bin-hadoop2.7/examples/src/main/python/sql/streaming/structured_network_wordcount_windowed.py\n",
            "spark-3.0.1-bin-hadoop2.7/examples/src/main/python/sql/streaming/structured_network_wordcount.py\n",
            "spark-3.0.1-bin-hadoop2.7/examples/src/main/python/sql/basic.py\n",
            "spark-3.0.1-bin-hadoop2.7/examples/src/main/python/sql/datasource.py\n",
            "spark-3.0.1-bin-hadoop2.7/examples/src/main/python/sql/hive.py\n",
            "spark-3.0.1-bin-hadoop2.7/examples/src/main/python/sql/arrow.py\n",
            "spark-3.0.1-bin-hadoop2.7/examples/src/main/python/pagerank.py\n",
            "spark-3.0.1-bin-hadoop2.7/examples/src/main/python/logistic_regression.py\n",
            "spark-3.0.1-bin-hadoop2.7/examples/src/main/python/wordcount.py\n",
            "spark-3.0.1-bin-hadoop2.7/examples/src/main/python/status_api_demo.py\n",
            "spark-3.0.1-bin-hadoop2.7/examples/src/main/python/avro_inputformat.py\n",
            "spark-3.0.1-bin-hadoop2.7/examples/src/main/python/pi.py\n",
            "spark-3.0.1-bin-hadoop2.7/examples/src/main/python/sort.py\n",
            "spark-3.0.1-bin-hadoop2.7/examples/jars/\n",
            "spark-3.0.1-bin-hadoop2.7/examples/jars/spark-examples_2.12-3.0.1.jar\n",
            "spark-3.0.1-bin-hadoop2.7/examples/jars/scopt_2.12-3.7.1.jar\n",
            "spark-3.0.1-bin-hadoop2.7/data/\n",
            "spark-3.0.1-bin-hadoop2.7/data/mllib/\n",
            "spark-3.0.1-bin-hadoop2.7/data/mllib/ridge-data/\n",
            "spark-3.0.1-bin-hadoop2.7/data/mllib/ridge-data/lpsa.data\n",
            "spark-3.0.1-bin-hadoop2.7/data/mllib/streaming_kmeans_data_test.txt\n",
            "spark-3.0.1-bin-hadoop2.7/data/mllib/sample_multiclass_classification_data.txt\n",
            "spark-3.0.1-bin-hadoop2.7/data/mllib/sample_isotonic_regression_libsvm_data.txt\n",
            "spark-3.0.1-bin-hadoop2.7/data/mllib/sample_svm_data.txt\n",
            "spark-3.0.1-bin-hadoop2.7/data/mllib/iris_libsvm.txt\n",
            "spark-3.0.1-bin-hadoop2.7/data/mllib/sample_lda_data.txt\n",
            "spark-3.0.1-bin-hadoop2.7/data/mllib/sample_lda_libsvm_data.txt\n",
            "spark-3.0.1-bin-hadoop2.7/data/mllib/sample_movielens_data.txt\n",
            "spark-3.0.1-bin-hadoop2.7/data/mllib/sample_libsvm_data.txt\n",
            "spark-3.0.1-bin-hadoop2.7/data/mllib/sample_binary_classification_data.txt\n",
            "spark-3.0.1-bin-hadoop2.7/data/mllib/sample_fpgrowth.txt\n",
            "spark-3.0.1-bin-hadoop2.7/data/mllib/images/\n",
            "spark-3.0.1-bin-hadoop2.7/data/mllib/images/partitioned/\n",
            "spark-3.0.1-bin-hadoop2.7/data/mllib/images/partitioned/cls=multichannel/\n",
            "spark-3.0.1-bin-hadoop2.7/data/mllib/images/partitioned/cls=multichannel/date=2018-01/\n",
            "spark-3.0.1-bin-hadoop2.7/data/mllib/images/partitioned/cls=multichannel/date=2018-01/BGRA_alpha_60.png\n",
            "spark-3.0.1-bin-hadoop2.7/data/mllib/images/partitioned/cls=multichannel/date=2018-01/BGRA.png\n",
            "spark-3.0.1-bin-hadoop2.7/data/mllib/images/partitioned/cls=multichannel/date=2018-02/\n",
            "spark-3.0.1-bin-hadoop2.7/data/mllib/images/partitioned/cls=multichannel/date=2018-02/chr30.4.184.jpg\n",
            "spark-3.0.1-bin-hadoop2.7/data/mllib/images/partitioned/cls=multichannel/date=2018-02/grayscale.jpg\n",
            "spark-3.0.1-bin-hadoop2.7/data/mllib/images/partitioned/cls=kittens/\n",
            "spark-3.0.1-bin-hadoop2.7/data/mllib/images/partitioned/cls=kittens/date=2018-01/\n",
            "spark-3.0.1-bin-hadoop2.7/data/mllib/images/partitioned/cls=kittens/date=2018-01/not-image.txt\n",
            "spark-3.0.1-bin-hadoop2.7/data/mllib/images/partitioned/cls=kittens/date=2018-01/29.5.a_b_EGDP022204.jpg\n",
            "spark-3.0.1-bin-hadoop2.7/data/mllib/images/partitioned/cls=kittens/date=2018-02/\n",
            "spark-3.0.1-bin-hadoop2.7/data/mllib/images/partitioned/cls=kittens/date=2018-02/DP153539.jpg\n",
            "spark-3.0.1-bin-hadoop2.7/data/mllib/images/partitioned/cls=kittens/date=2018-02/54893.jpg\n",
            "spark-3.0.1-bin-hadoop2.7/data/mllib/images/partitioned/cls=kittens/date=2018-02/DP802813.jpg\n",
            "spark-3.0.1-bin-hadoop2.7/data/mllib/images/origin/\n",
            "spark-3.0.1-bin-hadoop2.7/data/mllib/images/origin/multi-channel/\n",
            "spark-3.0.1-bin-hadoop2.7/data/mllib/images/origin/multi-channel/BGRA_alpha_60.png\n",
            "spark-3.0.1-bin-hadoop2.7/data/mllib/images/origin/multi-channel/chr30.4.184.jpg\n",
            "spark-3.0.1-bin-hadoop2.7/data/mllib/images/origin/multi-channel/BGRA.png\n",
            "spark-3.0.1-bin-hadoop2.7/data/mllib/images/origin/multi-channel/grayscale.jpg\n",
            "spark-3.0.1-bin-hadoop2.7/data/mllib/images/origin/license.txt\n",
            "spark-3.0.1-bin-hadoop2.7/data/mllib/images/origin/kittens/\n",
            "spark-3.0.1-bin-hadoop2.7/data/mllib/images/origin/kittens/not-image.txt\n",
            "spark-3.0.1-bin-hadoop2.7/data/mllib/images/origin/kittens/DP153539.jpg\n",
            "spark-3.0.1-bin-hadoop2.7/data/mllib/images/origin/kittens/54893.jpg\n",
            "spark-3.0.1-bin-hadoop2.7/data/mllib/images/origin/kittens/29.5.a_b_EGDP022204.jpg\n",
            "spark-3.0.1-bin-hadoop2.7/data/mllib/images/origin/kittens/DP802813.jpg\n",
            "spark-3.0.1-bin-hadoop2.7/data/mllib/images/license.txt\n",
            "spark-3.0.1-bin-hadoop2.7/data/mllib/gmm_data.txt\n",
            "spark-3.0.1-bin-hadoop2.7/data/mllib/sample_linear_regression_data.txt\n",
            "spark-3.0.1-bin-hadoop2.7/data/mllib/kmeans_data.txt\n",
            "spark-3.0.1-bin-hadoop2.7/data/mllib/pagerank_data.txt\n",
            "spark-3.0.1-bin-hadoop2.7/data/mllib/pic_data.txt\n",
            "spark-3.0.1-bin-hadoop2.7/data/mllib/sample_kmeans_data.txt\n",
            "spark-3.0.1-bin-hadoop2.7/data/mllib/als/\n",
            "spark-3.0.1-bin-hadoop2.7/data/mllib/als/sample_movielens_ratings.txt\n",
            "spark-3.0.1-bin-hadoop2.7/data/mllib/als/test.data\n",
            "spark-3.0.1-bin-hadoop2.7/data/streaming/\n",
            "spark-3.0.1-bin-hadoop2.7/data/streaming/AFINN-111.txt\n",
            "spark-3.0.1-bin-hadoop2.7/data/graphx/\n",
            "spark-3.0.1-bin-hadoop2.7/data/graphx/followers.txt\n",
            "spark-3.0.1-bin-hadoop2.7/data/graphx/users.txt\n",
            "spark-3.0.1-bin-hadoop2.7/yarn/\n",
            "spark-3.0.1-bin-hadoop2.7/yarn/spark-3.0.1-yarn-shuffle.jar\n",
            "spark-3.0.1-bin-hadoop2.7/bin/\n",
            "spark-3.0.1-bin-hadoop2.7/bin/spark-class.cmd\n",
            "spark-3.0.1-bin-hadoop2.7/bin/run-example\n",
            "spark-3.0.1-bin-hadoop2.7/bin/run-example.cmd\n",
            "spark-3.0.1-bin-hadoop2.7/bin/spark-class\n",
            "spark-3.0.1-bin-hadoop2.7/bin/spark-class2.cmd\n",
            "spark-3.0.1-bin-hadoop2.7/bin/find-spark-home\n",
            "spark-3.0.1-bin-hadoop2.7/bin/spark-submit\n",
            "spark-3.0.1-bin-hadoop2.7/bin/pyspark\n",
            "spark-3.0.1-bin-hadoop2.7/bin/find-spark-home.cmd\n",
            "spark-3.0.1-bin-hadoop2.7/bin/docker-image-tool.sh\n",
            "spark-3.0.1-bin-hadoop2.7/bin/spark-shell.cmd\n",
            "spark-3.0.1-bin-hadoop2.7/bin/spark-sql.cmd\n",
            "spark-3.0.1-bin-hadoop2.7/bin/load-spark-env.cmd\n",
            "spark-3.0.1-bin-hadoop2.7/bin/sparkR2.cmd\n",
            "spark-3.0.1-bin-hadoop2.7/bin/beeline.cmd\n",
            "spark-3.0.1-bin-hadoop2.7/bin/pyspark.cmd\n",
            "spark-3.0.1-bin-hadoop2.7/bin/spark-shell2.cmd\n",
            "spark-3.0.1-bin-hadoop2.7/bin/spark-sql2.cmd\n",
            "spark-3.0.1-bin-hadoop2.7/bin/sparkR\n",
            "spark-3.0.1-bin-hadoop2.7/bin/spark-sql\n",
            "spark-3.0.1-bin-hadoop2.7/bin/spark-shell\n",
            "spark-3.0.1-bin-hadoop2.7/bin/spark-submit.cmd\n",
            "spark-3.0.1-bin-hadoop2.7/bin/load-spark-env.sh\n",
            "spark-3.0.1-bin-hadoop2.7/bin/beeline\n",
            "spark-3.0.1-bin-hadoop2.7/bin/sparkR.cmd\n",
            "spark-3.0.1-bin-hadoop2.7/bin/pyspark2.cmd\n",
            "spark-3.0.1-bin-hadoop2.7/bin/spark-submit2.cmd\n",
            "spark-3.0.1-bin-hadoop2.7/sbin/\n",
            "spark-3.0.1-bin-hadoop2.7/sbin/stop-thriftserver.sh\n",
            "spark-3.0.1-bin-hadoop2.7/sbin/stop-slaves.sh\n",
            "spark-3.0.1-bin-hadoop2.7/sbin/spark-config.sh\n",
            "spark-3.0.1-bin-hadoop2.7/sbin/start-mesos-dispatcher.sh\n",
            "spark-3.0.1-bin-hadoop2.7/sbin/stop-mesos-dispatcher.sh\n",
            "spark-3.0.1-bin-hadoop2.7/sbin/stop-master.sh\n",
            "spark-3.0.1-bin-hadoop2.7/sbin/start-thriftserver.sh\n",
            "spark-3.0.1-bin-hadoop2.7/sbin/spark-daemons.sh\n",
            "spark-3.0.1-bin-hadoop2.7/sbin/stop-all.sh\n",
            "spark-3.0.1-bin-hadoop2.7/sbin/start-master.sh\n",
            "spark-3.0.1-bin-hadoop2.7/sbin/start-slave.sh\n",
            "spark-3.0.1-bin-hadoop2.7/sbin/stop-slave.sh\n",
            "spark-3.0.1-bin-hadoop2.7/sbin/start-slaves.sh\n",
            "spark-3.0.1-bin-hadoop2.7/sbin/start-history-server.sh\n",
            "spark-3.0.1-bin-hadoop2.7/sbin/stop-mesos-shuffle-service.sh\n",
            "spark-3.0.1-bin-hadoop2.7/sbin/stop-history-server.sh\n",
            "spark-3.0.1-bin-hadoop2.7/sbin/start-all.sh\n",
            "spark-3.0.1-bin-hadoop2.7/sbin/start-mesos-shuffle-service.sh\n",
            "spark-3.0.1-bin-hadoop2.7/sbin/slaves.sh\n",
            "spark-3.0.1-bin-hadoop2.7/sbin/spark-daemon.sh\n",
            "spark-3.0.1-bin-hadoop2.7/README.md\n",
            "spark-3.0.1-bin-hadoop2.7/licenses/\n",
            "spark-3.0.1-bin-hadoop2.7/licenses/LICENSE-zstd.txt\n",
            "spark-3.0.1-bin-hadoop2.7/licenses/LICENSE-scala.txt\n",
            "spark-3.0.1-bin-hadoop2.7/licenses/LICENSE-JTransforms.txt\n",
            "spark-3.0.1-bin-hadoop2.7/licenses/LICENSE-pyrolite.txt\n",
            "spark-3.0.1-bin-hadoop2.7/licenses/LICENSE-mustache.txt\n",
            "spark-3.0.1-bin-hadoop2.7/licenses/LICENSE-scopt.txt\n",
            "spark-3.0.1-bin-hadoop2.7/licenses/LICENSE-paranamer.txt\n",
            "spark-3.0.1-bin-hadoop2.7/licenses/LICENSE-istack-commons-runtime.txt\n",
            "spark-3.0.1-bin-hadoop2.7/licenses/LICENSE-vis-timeline.txt\n",
            "spark-3.0.1-bin-hadoop2.7/licenses/LICENSE-bootstrap.txt\n",
            "spark-3.0.1-bin-hadoop2.7/licenses/LICENSE-javax-transaction-transaction-api.txt\n",
            "spark-3.0.1-bin-hadoop2.7/licenses/LICENSE-arpack.txt\n",
            "spark-3.0.1-bin-hadoop2.7/licenses/LICENSE-xmlenc.txt\n",
            "spark-3.0.1-bin-hadoop2.7/licenses/LICENSE-zstd-jni.txt\n",
            "spark-3.0.1-bin-hadoop2.7/licenses/LICENSE-spire.txt\n",
            "spark-3.0.1-bin-hadoop2.7/licenses/LICENSE-cloudpickle.txt\n",
            "spark-3.0.1-bin-hadoop2.7/licenses/LICENSE-automaton.txt\n",
            "spark-3.0.1-bin-hadoop2.7/licenses/LICENSE-sbt-launch-lib.txt\n",
            "spark-3.0.1-bin-hadoop2.7/licenses/LICENSE-slf4j.txt\n",
            "spark-3.0.1-bin-hadoop2.7/licenses/LICENSE-jquery.txt\n",
            "spark-3.0.1-bin-hadoop2.7/licenses/LICENSE-jakarta.activation-api.txt\n",
            "spark-3.0.1-bin-hadoop2.7/licenses/LICENSE-matchMedia-polyfill.txt\n",
            "spark-3.0.1-bin-hadoop2.7/licenses/LICENSE-kryo.txt\n",
            "spark-3.0.1-bin-hadoop2.7/licenses/LICENSE-JLargeArrays.txt\n",
            "spark-3.0.1-bin-hadoop2.7/licenses/LICENSE-netlib.txt\n",
            "spark-3.0.1-bin-hadoop2.7/licenses/LICENSE-jakarta.xml.bind-api.txt\n",
            "spark-3.0.1-bin-hadoop2.7/licenses/LICENSE-graphlib-dot.txt\n",
            "spark-3.0.1-bin-hadoop2.7/licenses/LICENSE-jakarta-ws-rs-api\n",
            "spark-3.0.1-bin-hadoop2.7/licenses/LICENSE-f2j.txt\n",
            "spark-3.0.1-bin-hadoop2.7/licenses/LICENSE-d3.min.js.txt\n",
            "spark-3.0.1-bin-hadoop2.7/licenses/LICENSE-javolution.txt\n",
            "spark-3.0.1-bin-hadoop2.7/licenses/LICENSE-modernizr.txt\n",
            "spark-3.0.1-bin-hadoop2.7/licenses/LICENSE-join.txt\n",
            "spark-3.0.1-bin-hadoop2.7/licenses/LICENSE-py4j.txt\n",
            "spark-3.0.1-bin-hadoop2.7/licenses/LICENSE-javassist.html\n",
            "spark-3.0.1-bin-hadoop2.7/licenses/LICENSE-respond.txt\n",
            "spark-3.0.1-bin-hadoop2.7/licenses/LICENSE-jakarta-annotation-api\n",
            "spark-3.0.1-bin-hadoop2.7/licenses/LICENSE-datatables.txt\n",
            "spark-3.0.1-bin-hadoop2.7/licenses/LICENSE-re2j.txt\n",
            "spark-3.0.1-bin-hadoop2.7/licenses/LICENSE-janino.txt\n",
            "spark-3.0.1-bin-hadoop2.7/licenses/LICENSE-CC0.txt\n",
            "spark-3.0.1-bin-hadoop2.7/licenses/LICENSE-json-formatter.txt\n",
            "spark-3.0.1-bin-hadoop2.7/licenses/LICENSE-heapq.txt\n",
            "spark-3.0.1-bin-hadoop2.7/licenses/LICENSE-jodd.txt\n",
            "spark-3.0.1-bin-hadoop2.7/licenses/LICENSE-jsp-api.txt\n",
            "spark-3.0.1-bin-hadoop2.7/licenses/LICENSE-reflectasm.txt\n",
            "spark-3.0.1-bin-hadoop2.7/licenses/LICENSE-jline.txt\n",
            "spark-3.0.1-bin-hadoop2.7/licenses/LICENSE-pmml-model.txt\n",
            "spark-3.0.1-bin-hadoop2.7/licenses/LICENSE-machinist.txt\n",
            "spark-3.0.1-bin-hadoop2.7/licenses/LICENSE-sorttable.js.txt\n",
            "spark-3.0.1-bin-hadoop2.7/licenses/LICENSE-leveldbjni.txt\n",
            "spark-3.0.1-bin-hadoop2.7/licenses/LICENSE-protobuf.txt\n",
            "spark-3.0.1-bin-hadoop2.7/licenses/LICENSE-dagre-d3.txt\n",
            "spark-3.0.1-bin-hadoop2.7/licenses/LICENSE-jaxb-runtime.txt\n",
            "spark-3.0.1-bin-hadoop2.7/licenses/LICENSE-antlr.txt\n",
            "spark-3.0.1-bin-hadoop2.7/licenses/LICENSE-minlog.txt\n",
            "spark-3.0.1-bin-hadoop2.7/licenses/LICENSE-AnchorJS.txt\n",
            "spark-3.0.1-bin-hadoop2.7/licenses/LICENSE-dnsjava.txt\n",
            "spark-3.0.1-bin-hadoop2.7/LICENSE\n",
            "spark-3.0.1-bin-hadoop2.7/kubernetes/\n",
            "spark-3.0.1-bin-hadoop2.7/kubernetes/dockerfiles/\n",
            "spark-3.0.1-bin-hadoop2.7/kubernetes/dockerfiles/spark/\n",
            "spark-3.0.1-bin-hadoop2.7/kubernetes/dockerfiles/spark/entrypoint.sh\n",
            "spark-3.0.1-bin-hadoop2.7/kubernetes/dockerfiles/spark/bindings/\n",
            "spark-3.0.1-bin-hadoop2.7/kubernetes/dockerfiles/spark/bindings/R/\n",
            "spark-3.0.1-bin-hadoop2.7/kubernetes/dockerfiles/spark/bindings/R/Dockerfile\n",
            "spark-3.0.1-bin-hadoop2.7/kubernetes/dockerfiles/spark/bindings/python/\n",
            "spark-3.0.1-bin-hadoop2.7/kubernetes/dockerfiles/spark/bindings/python/Dockerfile\n",
            "spark-3.0.1-bin-hadoop2.7/kubernetes/dockerfiles/spark/Dockerfile\n",
            "spark-3.0.1-bin-hadoop2.7/kubernetes/tests/\n",
            "spark-3.0.1-bin-hadoop2.7/kubernetes/tests/pyfiles.py\n",
            "spark-3.0.1-bin-hadoop2.7/kubernetes/tests/worker_memory_check.py\n",
            "spark-3.0.1-bin-hadoop2.7/kubernetes/tests/py_container_checks.py\n",
            "spark-3.0.1-bin-hadoop2.7/R/\n",
            "spark-3.0.1-bin-hadoop2.7/R/lib/\n",
            "spark-3.0.1-bin-hadoop2.7/R/lib/sparkr.zip\n",
            "spark-3.0.1-bin-hadoop2.7/R/lib/SparkR/\n",
            "spark-3.0.1-bin-hadoop2.7/R/lib/SparkR/html/\n",
            "spark-3.0.1-bin-hadoop2.7/R/lib/SparkR/html/00Index.html\n",
            "spark-3.0.1-bin-hadoop2.7/R/lib/SparkR/html/R.css\n",
            "spark-3.0.1-bin-hadoop2.7/R/lib/SparkR/help/\n",
            "spark-3.0.1-bin-hadoop2.7/R/lib/SparkR/help/aliases.rds\n",
            "spark-3.0.1-bin-hadoop2.7/R/lib/SparkR/help/AnIndex\n",
            "spark-3.0.1-bin-hadoop2.7/R/lib/SparkR/help/paths.rds\n",
            "spark-3.0.1-bin-hadoop2.7/R/lib/SparkR/help/SparkR.rdx\n",
            "spark-3.0.1-bin-hadoop2.7/R/lib/SparkR/help/SparkR.rdb\n",
            "spark-3.0.1-bin-hadoop2.7/R/lib/SparkR/DESCRIPTION\n",
            "spark-3.0.1-bin-hadoop2.7/R/lib/SparkR/Meta/\n",
            "spark-3.0.1-bin-hadoop2.7/R/lib/SparkR/Meta/vignette.rds\n",
            "spark-3.0.1-bin-hadoop2.7/R/lib/SparkR/Meta/features.rds\n",
            "spark-3.0.1-bin-hadoop2.7/R/lib/SparkR/Meta/nsInfo.rds\n",
            "spark-3.0.1-bin-hadoop2.7/R/lib/SparkR/Meta/links.rds\n",
            "spark-3.0.1-bin-hadoop2.7/R/lib/SparkR/Meta/Rd.rds\n",
            "spark-3.0.1-bin-hadoop2.7/R/lib/SparkR/Meta/package.rds\n",
            "spark-3.0.1-bin-hadoop2.7/R/lib/SparkR/Meta/hsearch.rds\n",
            "spark-3.0.1-bin-hadoop2.7/R/lib/SparkR/doc/\n",
            "spark-3.0.1-bin-hadoop2.7/R/lib/SparkR/doc/sparkr-vignettes.R\n",
            "spark-3.0.1-bin-hadoop2.7/R/lib/SparkR/doc/sparkr-vignettes.Rmd\n",
            "spark-3.0.1-bin-hadoop2.7/R/lib/SparkR/doc/sparkr-vignettes.html\n",
            "spark-3.0.1-bin-hadoop2.7/R/lib/SparkR/doc/index.html\n",
            "spark-3.0.1-bin-hadoop2.7/R/lib/SparkR/INDEX\n",
            "spark-3.0.1-bin-hadoop2.7/R/lib/SparkR/profile/\n",
            "spark-3.0.1-bin-hadoop2.7/R/lib/SparkR/profile/general.R\n",
            "spark-3.0.1-bin-hadoop2.7/R/lib/SparkR/profile/shell.R\n",
            "spark-3.0.1-bin-hadoop2.7/R/lib/SparkR/R/\n",
            "spark-3.0.1-bin-hadoop2.7/R/lib/SparkR/R/SparkR\n",
            "spark-3.0.1-bin-hadoop2.7/R/lib/SparkR/R/SparkR.rdx\n",
            "spark-3.0.1-bin-hadoop2.7/R/lib/SparkR/R/SparkR.rdb\n",
            "spark-3.0.1-bin-hadoop2.7/R/lib/SparkR/worker/\n",
            "spark-3.0.1-bin-hadoop2.7/R/lib/SparkR/worker/worker.R\n",
            "spark-3.0.1-bin-hadoop2.7/R/lib/SparkR/worker/daemon.R\n",
            "spark-3.0.1-bin-hadoop2.7/R/lib/SparkR/NAMESPACE\n",
            "spark-3.0.1-bin-hadoop2.7/R/lib/SparkR/tests/\n",
            "spark-3.0.1-bin-hadoop2.7/R/lib/SparkR/tests/testthat/\n",
            "spark-3.0.1-bin-hadoop2.7/R/lib/SparkR/tests/testthat/test_basic.R\n",
            "spark-3.0.1-bin-hadoop2.7/NOTICE\n",
            "spark-3.0.1-bin-hadoop2.7/jars/\n",
            "spark-3.0.1-bin-hadoop2.7/jars/pyrolite-4.30.jar\n",
            "spark-3.0.1-bin-hadoop2.7/jars/parquet-hadoop-1.10.1.jar\n",
            "spark-3.0.1-bin-hadoop2.7/jars/apacheds-kerberos-codec-2.0.0-M15.jar\n",
            "spark-3.0.1-bin-hadoop2.7/jars/hive-shims-2.3.7.jar\n",
            "spark-3.0.1-bin-hadoop2.7/jars/jackson-databind-2.10.0.jar\n",
            "spark-3.0.1-bin-hadoop2.7/jars/spire_2.12-0.17.0-M1.jar\n",
            "spark-3.0.1-bin-hadoop2.7/jars/jul-to-slf4j-1.7.30.jar\n",
            "spark-3.0.1-bin-hadoop2.7/jars/json4s-ast_2.12-3.6.6.jar\n",
            "spark-3.0.1-bin-hadoop2.7/jars/jersey-media-jaxb-2.30.jar\n",
            "spark-3.0.1-bin-hadoop2.7/jars/hadoop-common-2.7.4.jar\n",
            "spark-3.0.1-bin-hadoop2.7/jars/xbean-asm7-shaded-4.15.jar\n",
            "spark-3.0.1-bin-hadoop2.7/jars/spark-catalyst_2.12-3.0.1.jar\n",
            "spark-3.0.1-bin-hadoop2.7/jars/commons-logging-1.1.3.jar\n",
            "spark-3.0.1-bin-hadoop2.7/jars/RoaringBitmap-0.7.45.jar\n",
            "spark-3.0.1-bin-hadoop2.7/jars/hadoop-mapreduce-client-common-2.7.4.jar\n",
            "spark-3.0.1-bin-hadoop2.7/jars/jakarta.inject-2.6.1.jar\n",
            "spark-3.0.1-bin-hadoop2.7/jars/jackson-xc-1.9.13.jar\n",
            "spark-3.0.1-bin-hadoop2.7/jars/flatbuffers-java-1.9.0.jar\n",
            "spark-3.0.1-bin-hadoop2.7/jars/kubernetes-model-common-4.9.2.jar\n",
            "spark-3.0.1-bin-hadoop2.7/jars/json-1.8.jar\n",
            "spark-3.0.1-bin-hadoop2.7/jars/jaxb-runtime-2.3.2.jar\n",
            "spark-3.0.1-bin-hadoop2.7/jars/hadoop-hdfs-2.7.4.jar\n",
            "spark-3.0.1-bin-hadoop2.7/jars/hadoop-client-2.7.4.jar\n",
            "spark-3.0.1-bin-hadoop2.7/jars/mesos-1.4.0-shaded-protobuf.jar\n",
            "spark-3.0.1-bin-hadoop2.7/jars/orc-core-1.5.10.jar\n",
            "spark-3.0.1-bin-hadoop2.7/jars/commons-configuration-1.6.jar\n",
            "spark-3.0.1-bin-hadoop2.7/jars/chill_2.12-0.9.5.jar\n",
            "spark-3.0.1-bin-hadoop2.7/jars/hadoop-yarn-api-2.7.4.jar\n",
            "spark-3.0.1-bin-hadoop2.7/jars/leveldbjni-all-1.8.jar\n",
            "spark-3.0.1-bin-hadoop2.7/jars/kryo-shaded-4.0.2.jar\n",
            "spark-3.0.1-bin-hadoop2.7/jars/jackson-annotations-2.10.0.jar\n",
            "spark-3.0.1-bin-hadoop2.7/jars/hk2-api-2.6.1.jar\n",
            "spark-3.0.1-bin-hadoop2.7/jars/hadoop-annotations-2.7.4.jar\n",
            "spark-3.0.1-bin-hadoop2.7/jars/hadoop-yarn-client-2.7.4.jar\n",
            "spark-3.0.1-bin-hadoop2.7/jars/hk2-locator-2.6.1.jar\n",
            "spark-3.0.1-bin-hadoop2.7/jars/commons-beanutils-1.9.4.jar\n",
            "spark-3.0.1-bin-hadoop2.7/jars/osgi-resource-locator-1.0.3.jar\n",
            "spark-3.0.1-bin-hadoop2.7/jars/antlr4-runtime-4.7.1.jar\n",
            "spark-3.0.1-bin-hadoop2.7/jars/jersey-client-2.30.jar\n",
            "spark-3.0.1-bin-hadoop2.7/jars/json4s-scalap_2.12-3.6.6.jar\n",
            "spark-3.0.1-bin-hadoop2.7/jars/joda-time-2.10.5.jar\n",
            "spark-3.0.1-bin-hadoop2.7/jars/okio-1.15.0.jar\n",
            "spark-3.0.1-bin-hadoop2.7/jars/libthrift-0.12.0.jar\n",
            "spark-3.0.1-bin-hadoop2.7/jars/hadoop-yarn-server-web-proxy-2.7.4.jar\n",
            "spark-3.0.1-bin-hadoop2.7/jars/gson-2.2.4.jar\n",
            "spark-3.0.1-bin-hadoop2.7/jars/jta-1.1.jar\n",
            "spark-3.0.1-bin-hadoop2.7/jars/parquet-jackson-1.10.1.jar\n",
            "spark-3.0.1-bin-hadoop2.7/jars/super-csv-2.2.0.jar\n",
            "spark-3.0.1-bin-hadoop2.7/jars/commons-httpclient-3.1.jar\n",
            "spark-3.0.1-bin-hadoop2.7/jars/javax.jdo-3.2.0-m3.jar\n",
            "spark-3.0.1-bin-hadoop2.7/jars/httpclient-4.5.6.jar\n",
            "spark-3.0.1-bin-hadoop2.7/jars/datanucleus-api-jdo-4.2.4.jar\n",
            "spark-3.0.1-bin-hadoop2.7/jars/aopalliance-1.0.jar\n",
            "spark-3.0.1-bin-hadoop2.7/jars/commons-digester-1.8.jar\n",
            "spark-3.0.1-bin-hadoop2.7/jars/hadoop-yarn-common-2.7.4.jar\n",
            "spark-3.0.1-bin-hadoop2.7/jars/jetty-6.1.26.jar\n",
            "spark-3.0.1-bin-hadoop2.7/jars/slf4j-api-1.7.30.jar\n",
            "spark-3.0.1-bin-hadoop2.7/jars/univocity-parsers-2.9.0.jar\n",
            "spark-3.0.1-bin-hadoop2.7/jars/scala-compiler-2.12.10.jar\n",
            "spark-3.0.1-bin-hadoop2.7/jars/transaction-api-1.1.jar\n",
            "spark-3.0.1-bin-hadoop2.7/jars/curator-client-2.7.1.jar\n",
            "spark-3.0.1-bin-hadoop2.7/jars/hive-serde-2.3.7.jar\n",
            "spark-3.0.1-bin-hadoop2.7/jars/JLargeArrays-1.5.jar\n",
            "spark-3.0.1-bin-hadoop2.7/jars/libfb303-0.9.3.jar\n",
            "spark-3.0.1-bin-hadoop2.7/jars/jakarta.ws.rs-api-2.1.6.jar\n",
            "spark-3.0.1-bin-hadoop2.7/jars/hive-shims-0.23-2.3.7.jar\n",
            "spark-3.0.1-bin-hadoop2.7/jars/snappy-java-1.1.7.5.jar\n",
            "spark-3.0.1-bin-hadoop2.7/jars/compress-lzf-1.0.3.jar\n",
            "spark-3.0.1-bin-hadoop2.7/jars/commons-io-2.4.jar\n",
            "spark-3.0.1-bin-hadoop2.7/jars/hadoop-yarn-server-common-2.7.4.jar\n",
            "spark-3.0.1-bin-hadoop2.7/jars/snakeyaml-1.24.jar\n",
            "spark-3.0.1-bin-hadoop2.7/jars/spark-hive-thriftserver_2.12-3.0.1.jar\n",
            "spark-3.0.1-bin-hadoop2.7/jars/breeze-macros_2.12-1.0.jar\n",
            "spark-3.0.1-bin-hadoop2.7/jars/metrics-json-4.1.1.jar\n",
            "spark-3.0.1-bin-hadoop2.7/jars/hk2-utils-2.6.1.jar\n",
            "spark-3.0.1-bin-hadoop2.7/jars/bonecp-0.8.0.RELEASE.jar\n",
            "spark-3.0.1-bin-hadoop2.7/jars/automaton-1.11-8.jar\n",
            "spark-3.0.1-bin-hadoop2.7/jars/avro-ipc-1.8.2.jar\n",
            "spark-3.0.1-bin-hadoop2.7/jars/jetty-util-6.1.26.jar\n",
            "spark-3.0.1-bin-hadoop2.7/jars/spark-core_2.12-3.0.1.jar\n",
            "spark-3.0.1-bin-hadoop2.7/jars/htrace-core-3.1.0-incubating.jar\n",
            "spark-3.0.1-bin-hadoop2.7/jars/okhttp-3.12.6.jar\n",
            "spark-3.0.1-bin-hadoop2.7/jars/jackson-datatype-jsr310-2.10.3.jar\n",
            "spark-3.0.1-bin-hadoop2.7/jars/metrics-jvm-4.1.1.jar\n",
            "spark-3.0.1-bin-hadoop2.7/jars/avro-mapred-1.8.2-hadoop2.jar\n",
            "spark-3.0.1-bin-hadoop2.7/jars/guava-14.0.1.jar\n",
            "spark-3.0.1-bin-hadoop2.7/jars/algebra_2.12-2.0.0-M2.jar\n",
            "spark-3.0.1-bin-hadoop2.7/jars/protobuf-java-2.5.0.jar\n",
            "spark-3.0.1-bin-hadoop2.7/jars/stream-2.9.6.jar\n",
            "spark-3.0.1-bin-hadoop2.7/jars/spark-tags_2.12-3.0.1.jar\n",
            "spark-3.0.1-bin-hadoop2.7/jars/metrics-core-4.1.1.jar\n",
            "spark-3.0.1-bin-hadoop2.7/jars/stax-api-1.0.1.jar\n",
            "spark-3.0.1-bin-hadoop2.7/jars/jackson-module-scala_2.12-2.10.0.jar\n",
            "spark-3.0.1-bin-hadoop2.7/jars/commons-cli-1.2.jar\n",
            "spark-3.0.1-bin-hadoop2.7/jars/spark-kvstore_2.12-3.0.1.jar\n",
            "spark-3.0.1-bin-hadoop2.7/jars/aopalliance-repackaged-2.6.1.jar\n",
            "spark-3.0.1-bin-hadoop2.7/jars/arrow-vector-0.15.1.jar\n",
            "spark-3.0.1-bin-hadoop2.7/jars/datanucleus-core-4.1.17.jar\n",
            "spark-3.0.1-bin-hadoop2.7/jars/spark-network-shuffle_2.12-3.0.1.jar\n",
            "spark-3.0.1-bin-hadoop2.7/jars/lz4-java-1.7.1.jar\n",
            "spark-3.0.1-bin-hadoop2.7/jars/hive-jdbc-2.3.7.jar\n",
            "spark-3.0.1-bin-hadoop2.7/jars/janino-3.0.16.jar\n",
            "spark-3.0.1-bin-hadoop2.7/jars/jackson-jaxrs-1.9.13.jar\n",
            "spark-3.0.1-bin-hadoop2.7/jars/ivy-2.4.0.jar\n",
            "spark-3.0.1-bin-hadoop2.7/jars/commons-lang3-3.9.jar\n",
            "spark-3.0.1-bin-hadoop2.7/jars/arpack_combined_all-0.1.jar\n",
            "spark-3.0.1-bin-hadoop2.7/jars/spark-hive_2.12-3.0.1.jar\n",
            "spark-3.0.1-bin-hadoop2.7/jars/xml-apis-1.4.01.jar\n",
            "spark-3.0.1-bin-hadoop2.7/jars/stax-api-1.0-2.jar\n",
            "spark-3.0.1-bin-hadoop2.7/jars/derby-10.12.1.1.jar\n",
            "spark-3.0.1-bin-hadoop2.7/jars/commons-text-1.6.jar\n",
            "spark-3.0.1-bin-hadoop2.7/jars/macro-compat_2.12-1.1.1.jar\n",
            "spark-3.0.1-bin-hadoop2.7/jars/hive-beeline-2.3.7.jar\n",
            "spark-3.0.1-bin-hadoop2.7/jars/slf4j-log4j12-1.7.30.jar\n",
            "spark-3.0.1-bin-hadoop2.7/jars/scala-collection-compat_2.12-2.1.1.jar\n",
            "spark-3.0.1-bin-hadoop2.7/jars/hive-llap-common-2.3.7.jar\n",
            "spark-3.0.1-bin-hadoop2.7/jars/jakarta.xml.bind-api-2.3.2.jar\n",
            "spark-3.0.1-bin-hadoop2.7/jars/hive-shims-common-2.3.7.jar\n",
            "spark-3.0.1-bin-hadoop2.7/jars/generex-1.0.2.jar\n",
            "spark-3.0.1-bin-hadoop2.7/jars/objenesis-2.5.1.jar\n",
            "spark-3.0.1-bin-hadoop2.7/jars/commons-math3-3.4.1.jar\n",
            "spark-3.0.1-bin-hadoop2.7/jars/metrics-graphite-4.1.1.jar\n",
            "spark-3.0.1-bin-hadoop2.7/jars/logging-interceptor-3.12.6.jar\n",
            "spark-3.0.1-bin-hadoop2.7/jars/commons-codec-1.10.jar\n",
            "spark-3.0.1-bin-hadoop2.7/jars/HikariCP-2.5.1.jar\n",
            "spark-3.0.1-bin-hadoop2.7/jars/jackson-core-asl-1.9.13.jar\n",
            "spark-3.0.1-bin-hadoop2.7/jars/core-1.1.2.jar\n",
            "spark-3.0.1-bin-hadoop2.7/jars/hadoop-mapreduce-client-jobclient-2.7.4.jar\n",
            "spark-3.0.1-bin-hadoop2.7/jars/spark-tags_2.12-3.0.1-tests.jar\n",
            "spark-3.0.1-bin-hadoop2.7/jars/arrow-format-0.15.1.jar\n",
            "spark-3.0.1-bin-hadoop2.7/jars/orc-shims-1.5.10.jar\n",
            "spark-3.0.1-bin-hadoop2.7/jars/jdo-api-3.0.1.jar\n",
            "spark-3.0.1-bin-hadoop2.7/jars/log4j-1.2.17.jar\n",
            "spark-3.0.1-bin-hadoop2.7/jars/paranamer-2.8.jar\n",
            "spark-3.0.1-bin-hadoop2.7/jars/jodd-core-3.5.2.jar\n",
            "spark-3.0.1-bin-hadoop2.7/jars/kubernetes-model-4.9.2.jar\n",
            "spark-3.0.1-bin-hadoop2.7/jars/curator-framework-2.7.1.jar\n",
            "spark-3.0.1-bin-hadoop2.7/jars/spire-util_2.12-0.17.0-M1.jar\n",
            "spark-3.0.1-bin-hadoop2.7/jars/jcl-over-slf4j-1.7.30.jar\n",
            "spark-3.0.1-bin-hadoop2.7/jars/shapeless_2.12-2.3.3.jar\n",
            "spark-3.0.1-bin-hadoop2.7/jars/hive-metastore-2.3.7.jar\n",
            "spark-3.0.1-bin-hadoop2.7/jars/parquet-common-1.10.1.jar\n",
            "spark-3.0.1-bin-hadoop2.7/jars/zstd-jni-1.4.4-3.jar\n",
            "spark-3.0.1-bin-hadoop2.7/jars/hive-vector-code-gen-2.3.7.jar\n",
            "spark-3.0.1-bin-hadoop2.7/jars/jakarta.validation-api-2.0.2.jar\n",
            "spark-3.0.1-bin-hadoop2.7/jars/jersey-container-servlet-core-2.30.jar\n",
            "spark-3.0.1-bin-hadoop2.7/jars/scala-parser-combinators_2.12-1.1.2.jar\n",
            "spark-3.0.1-bin-hadoop2.7/jars/curator-recipes-2.7.1.jar\n",
            "spark-3.0.1-bin-hadoop2.7/jars/javassist-3.25.0-GA.jar\n",
            "spark-3.0.1-bin-hadoop2.7/jars/commons-lang-2.6.jar\n",
            "spark-3.0.1-bin-hadoop2.7/jars/hive-shims-scheduler-2.3.7.jar\n",
            "spark-3.0.1-bin-hadoop2.7/jars/spire-macros_2.12-0.17.0-M1.jar\n",
            "spark-3.0.1-bin-hadoop2.7/jars/xercesImpl-2.12.0.jar\n",
            "spark-3.0.1-bin-hadoop2.7/jars/parquet-format-2.4.0.jar\n",
            "spark-3.0.1-bin-hadoop2.7/jars/commons-compiler-3.0.16.jar\n",
            "spark-3.0.1-bin-hadoop2.7/jars/opencsv-2.3.jar\n",
            "spark-3.0.1-bin-hadoop2.7/jars/guice-servlet-3.0.jar\n",
            "spark-3.0.1-bin-hadoop2.7/jars/jakarta.annotation-api-1.3.5.jar\n",
            "spark-3.0.1-bin-hadoop2.7/jars/jpam-1.1.jar\n",
            "spark-3.0.1-bin-hadoop2.7/jars/py4j-0.10.9.jar\n",
            "spark-3.0.1-bin-hadoop2.7/jars/istack-commons-runtime-3.0.8.jar\n",
            "spark-3.0.1-bin-hadoop2.7/jars/spire-platform_2.12-0.17.0-M1.jar\n",
            "spark-3.0.1-bin-hadoop2.7/jars/datanucleus-rdbms-4.1.19.jar\n",
            "spark-3.0.1-bin-hadoop2.7/jars/spark-repl_2.12-3.0.1.jar\n",
            "spark-3.0.1-bin-hadoop2.7/jars/spark-mesos_2.12-3.0.1.jar\n",
            "spark-3.0.1-bin-hadoop2.7/jars/json4s-jackson_2.12-3.6.6.jar\n",
            "spark-3.0.1-bin-hadoop2.7/jars/jackson-module-paranamer-2.10.0.jar\n",
            "spark-3.0.1-bin-hadoop2.7/jars/jetty-sslengine-6.1.26.jar\n",
            "spark-3.0.1-bin-hadoop2.7/jars/hive-cli-2.3.7.jar\n",
            "spark-3.0.1-bin-hadoop2.7/jars/javax.inject-1.jar\n",
            "spark-3.0.1-bin-hadoop2.7/jars/jersey-container-servlet-2.30.jar\n",
            "spark-3.0.1-bin-hadoop2.7/jars/jersey-common-2.30.jar\n",
            "spark-3.0.1-bin-hadoop2.7/jars/api-asn1-api-1.0.0-M20.jar\n",
            "spark-3.0.1-bin-hadoop2.7/jars/commons-pool-1.5.4.jar\n",
            "spark-3.0.1-bin-hadoop2.7/jars/shims-0.7.45.jar\n",
            "spark-3.0.1-bin-hadoop2.7/jars/jackson-core-2.10.0.jar\n",
            "spark-3.0.1-bin-hadoop2.7/jars/jline-2.14.6.jar\n",
            "spark-3.0.1-bin-hadoop2.7/jars/jsp-api-2.1.jar\n",
            "spark-3.0.1-bin-hadoop2.7/jars/jakarta.activation-api-1.2.1.jar\n",
            "spark-3.0.1-bin-hadoop2.7/jars/httpcore-4.4.12.jar\n",
            "spark-3.0.1-bin-hadoop2.7/jars/ST4-4.0.4.jar\n",
            "spark-3.0.1-bin-hadoop2.7/jars/metrics-jmx-4.1.1.jar\n",
            "spark-3.0.1-bin-hadoop2.7/jars/apacheds-i18n-2.0.0-M15.jar\n",
            "spark-3.0.1-bin-hadoop2.7/jars/jackson-module-jaxb-annotations-2.10.0.jar\n",
            "spark-3.0.1-bin-hadoop2.7/jars/jersey-hk2-2.30.jar\n",
            "spark-3.0.1-bin-hadoop2.7/jars/hadoop-auth-2.7.4.jar\n",
            "spark-3.0.1-bin-hadoop2.7/jars/orc-mapreduce-1.5.10.jar\n",
            "spark-3.0.1-bin-hadoop2.7/jars/jersey-server-2.30.jar\n",
            "spark-3.0.1-bin-hadoop2.7/jars/JTransforms-3.1.jar\n",
            "spark-3.0.1-bin-hadoop2.7/jars/javax.servlet-api-3.1.0.jar\n",
            "spark-3.0.1-bin-hadoop2.7/jars/spark-graphx_2.12-3.0.1.jar\n",
            "spark-3.0.1-bin-hadoop2.7/jars/spark-unsafe_2.12-3.0.1.jar\n",
            "spark-3.0.1-bin-hadoop2.7/jars/guice-3.0.jar\n",
            "spark-3.0.1-bin-hadoop2.7/jars/arrow-memory-0.15.1.jar\n",
            "spark-3.0.1-bin-hadoop2.7/jars/spark-sketch_2.12-3.0.1.jar\n",
            "spark-3.0.1-bin-hadoop2.7/jars/hive-exec-2.3.7-core.jar\n",
            "spark-3.0.1-bin-hadoop2.7/jars/machinist_2.12-0.6.8.jar\n",
            "spark-3.0.1-bin-hadoop2.7/jars/antlr-runtime-3.5.2.jar\n",
            "spark-3.0.1-bin-hadoop2.7/jars/spark-streaming_2.12-3.0.1.jar\n",
            "spark-3.0.1-bin-hadoop2.7/jars/commons-net-3.1.jar\n",
            "spark-3.0.1-bin-hadoop2.7/jars/audience-annotations-0.5.0.jar\n",
            "spark-3.0.1-bin-hadoop2.7/jars/velocity-1.5.jar\n",
            "spark-3.0.1-bin-hadoop2.7/jars/hive-storage-api-2.7.1.jar\n",
            "spark-3.0.1-bin-hadoop2.7/jars/commons-compress-1.8.1.jar\n",
            "spark-3.0.1-bin-hadoop2.7/jars/breeze_2.12-1.0.jar\n",
            "spark-3.0.1-bin-hadoop2.7/jars/xmlenc-0.52.jar\n",
            "spark-3.0.1-bin-hadoop2.7/jars/hadoop-mapreduce-client-core-2.7.4.jar\n",
            "spark-3.0.1-bin-hadoop2.7/jars/netty-all-4.1.47.Final.jar\n",
            "spark-3.0.1-bin-hadoop2.7/jars/zjsonpatch-0.3.0.jar\n",
            "spark-3.0.1-bin-hadoop2.7/jars/chill-java-0.9.5.jar\n",
            "spark-3.0.1-bin-hadoop2.7/jars/activation-1.1.1.jar\n",
            "spark-3.0.1-bin-hadoop2.7/jars/spark-mllib_2.12-3.0.1.jar\n",
            "spark-3.0.1-bin-hadoop2.7/jars/dropwizard-metrics-hadoop-metrics2-reporter-0.1.2.jar\n",
            "spark-3.0.1-bin-hadoop2.7/jars/spark-launcher_2.12-3.0.1.jar\n",
            "spark-3.0.1-bin-hadoop2.7/jars/api-util-1.0.0-M20.jar\n",
            "spark-3.0.1-bin-hadoop2.7/jars/spark-network-common_2.12-3.0.1.jar\n",
            "spark-3.0.1-bin-hadoop2.7/jars/jackson-mapper-asl-1.9.13.jar\n",
            "spark-3.0.1-bin-hadoop2.7/jars/oro-2.0.8.jar\n",
            "spark-3.0.1-bin-hadoop2.7/jars/kubernetes-client-4.9.2.jar\n",
            "spark-3.0.1-bin-hadoop2.7/jars/jsr305-3.0.0.jar\n",
            "spark-3.0.1-bin-hadoop2.7/jars/jaxb-api-2.2.2.jar\n",
            "spark-3.0.1-bin-hadoop2.7/jars/spark-yarn_2.12-3.0.1.jar\n",
            "spark-3.0.1-bin-hadoop2.7/jars/spark-mllib-local_2.12-3.0.1.jar\n",
            "spark-3.0.1-bin-hadoop2.7/jars/json4s-core_2.12-3.6.6.jar\n",
            "spark-3.0.1-bin-hadoop2.7/jars/xz-1.5.jar\n",
            "spark-3.0.1-bin-hadoop2.7/jars/zookeeper-3.4.14.jar\n",
            "spark-3.0.1-bin-hadoop2.7/jars/threeten-extra-1.5.0.jar\n",
            "spark-3.0.1-bin-hadoop2.7/jars/parquet-column-1.10.1.jar\n",
            "spark-3.0.1-bin-hadoop2.7/jars/hadoop-mapreduce-client-shuffle-2.7.4.jar\n",
            "spark-3.0.1-bin-hadoop2.7/jars/spark-sql_2.12-3.0.1.jar\n",
            "spark-3.0.1-bin-hadoop2.7/jars/commons-crypto-1.0.0.jar\n",
            "spark-3.0.1-bin-hadoop2.7/jars/javolution-5.5.1.jar\n",
            "spark-3.0.1-bin-hadoop2.7/jars/aircompressor-0.10.jar\n",
            "spark-3.0.1-bin-hadoop2.7/jars/scala-library-2.12.10.jar\n",
            "spark-3.0.1-bin-hadoop2.7/jars/hadoop-mapreduce-client-app-2.7.4.jar\n",
            "spark-3.0.1-bin-hadoop2.7/jars/hive-common-2.3.7.jar\n",
            "spark-3.0.1-bin-hadoop2.7/jars/commons-dbcp-1.4.jar\n",
            "spark-3.0.1-bin-hadoop2.7/jars/parquet-encoding-1.10.1.jar\n",
            "spark-3.0.1-bin-hadoop2.7/jars/commons-collections-3.2.2.jar\n",
            "spark-3.0.1-bin-hadoop2.7/jars/scala-xml_2.12-1.2.0.jar\n",
            "spark-3.0.1-bin-hadoop2.7/jars/jackson-dataformat-yaml-2.10.0.jar\n",
            "spark-3.0.1-bin-hadoop2.7/jars/cats-kernel_2.12-2.0.0-M4.jar\n",
            "spark-3.0.1-bin-hadoop2.7/jars/scala-reflect-2.12.10.jar\n",
            "spark-3.0.1-bin-hadoop2.7/jars/avro-1.8.2.jar\n",
            "spark-3.0.1-bin-hadoop2.7/jars/minlog-1.3.0.jar\n",
            "spark-3.0.1-bin-hadoop2.7/jars/spark-kubernetes_2.12-3.0.1.jar\n",
            "spark-3.0.1-bin-hadoop2.7/python/\n",
            "spark-3.0.1-bin-hadoop2.7/python/setup.py\n",
            "spark-3.0.1-bin-hadoop2.7/python/pyspark/\n",
            "spark-3.0.1-bin-hadoop2.7/python/pyspark/ml/\n",
            "spark-3.0.1-bin-hadoop2.7/python/pyspark/ml/functions.py\n",
            "spark-3.0.1-bin-hadoop2.7/python/pyspark/ml/util.py\n",
            "spark-3.0.1-bin-hadoop2.7/python/pyspark/ml/regression.py\n",
            "spark-3.0.1-bin-hadoop2.7/python/pyspark/ml/evaluation.py\n",
            "spark-3.0.1-bin-hadoop2.7/python/pyspark/ml/feature.py\n",
            "spark-3.0.1-bin-hadoop2.7/python/pyspark/ml/base.py\n",
            "spark-3.0.1-bin-hadoop2.7/python/pyspark/ml/tuning.py\n",
            "spark-3.0.1-bin-hadoop2.7/python/pyspark/ml/clustering.py\n",
            "spark-3.0.1-bin-hadoop2.7/python/pyspark/ml/stat.py\n",
            "spark-3.0.1-bin-hadoop2.7/python/pyspark/ml/image.py\n",
            "spark-3.0.1-bin-hadoop2.7/python/pyspark/ml/fpm.py\n",
            "spark-3.0.1-bin-hadoop2.7/python/pyspark/ml/recommendation.py\n",
            "spark-3.0.1-bin-hadoop2.7/python/pyspark/ml/pipeline.py\n",
            "spark-3.0.1-bin-hadoop2.7/python/pyspark/ml/param/\n",
            "spark-3.0.1-bin-hadoop2.7/python/pyspark/ml/param/_shared_params_code_gen.py\n",
            "spark-3.0.1-bin-hadoop2.7/python/pyspark/ml/param/__init__.py\n",
            "spark-3.0.1-bin-hadoop2.7/python/pyspark/ml/param/shared.py\n",
            "spark-3.0.1-bin-hadoop2.7/python/pyspark/ml/common.py\n",
            "spark-3.0.1-bin-hadoop2.7/python/pyspark/ml/linalg/\n",
            "spark-3.0.1-bin-hadoop2.7/python/pyspark/ml/linalg/__init__.py\n",
            "spark-3.0.1-bin-hadoop2.7/python/pyspark/ml/classification.py\n",
            "spark-3.0.1-bin-hadoop2.7/python/pyspark/ml/tree.py\n",
            "spark-3.0.1-bin-hadoop2.7/python/pyspark/ml/wrapper.py\n",
            "spark-3.0.1-bin-hadoop2.7/python/pyspark/ml/__init__.py\n",
            "spark-3.0.1-bin-hadoop2.7/python/pyspark/ml/tests/\n",
            "spark-3.0.1-bin-hadoop2.7/python/pyspark/ml/tests/test_wrapper.py\n",
            "spark-3.0.1-bin-hadoop2.7/python/pyspark/ml/tests/test_tuning.py\n",
            "spark-3.0.1-bin-hadoop2.7/python/pyspark/ml/tests/test_base.py\n",
            "spark-3.0.1-bin-hadoop2.7/python/pyspark/ml/tests/test_evaluation.py\n",
            "spark-3.0.1-bin-hadoop2.7/python/pyspark/ml/tests/test_linalg.py\n",
            "spark-3.0.1-bin-hadoop2.7/python/pyspark/ml/tests/test_image.py\n",
            "spark-3.0.1-bin-hadoop2.7/python/pyspark/ml/tests/test_persistence.py\n",
            "spark-3.0.1-bin-hadoop2.7/python/pyspark/ml/tests/test_feature.py\n",
            "spark-3.0.1-bin-hadoop2.7/python/pyspark/ml/tests/test_param.py\n",
            "spark-3.0.1-bin-hadoop2.7/python/pyspark/ml/tests/test_algorithms.py\n",
            "spark-3.0.1-bin-hadoop2.7/python/pyspark/ml/tests/test_pipeline.py\n",
            "spark-3.0.1-bin-hadoop2.7/python/pyspark/ml/tests/__init__.py\n",
            "spark-3.0.1-bin-hadoop2.7/python/pyspark/ml/tests/test_training_summary.py\n",
            "spark-3.0.1-bin-hadoop2.7/python/pyspark/ml/tests/test_stat.py\n",
            "spark-3.0.1-bin-hadoop2.7/python/pyspark/statcounter.py\n",
            "spark-3.0.1-bin-hadoop2.7/python/pyspark/status.py\n",
            "spark-3.0.1-bin-hadoop2.7/python/pyspark/java_gateway.py\n",
            "spark-3.0.1-bin-hadoop2.7/python/pyspark/mllib/\n",
            "spark-3.0.1-bin-hadoop2.7/python/pyspark/mllib/util.py\n",
            "spark-3.0.1-bin-hadoop2.7/python/pyspark/mllib/regression.py\n",
            "spark-3.0.1-bin-hadoop2.7/python/pyspark/mllib/evaluation.py\n",
            "spark-3.0.1-bin-hadoop2.7/python/pyspark/mllib/feature.py\n",
            "spark-3.0.1-bin-hadoop2.7/python/pyspark/mllib/clustering.py\n",
            "spark-3.0.1-bin-hadoop2.7/python/pyspark/mllib/stat/\n",
            "spark-3.0.1-bin-hadoop2.7/python/pyspark/mllib/stat/test.py\n",
            "spark-3.0.1-bin-hadoop2.7/python/pyspark/mllib/stat/_statistics.py\n",
            "spark-3.0.1-bin-hadoop2.7/python/pyspark/mllib/stat/distribution.py\n",
            "spark-3.0.1-bin-hadoop2.7/python/pyspark/mllib/stat/KernelDensity.py\n",
            "spark-3.0.1-bin-hadoop2.7/python/pyspark/mllib/stat/__init__.py\n",
            "spark-3.0.1-bin-hadoop2.7/python/pyspark/mllib/fpm.py\n",
            "spark-3.0.1-bin-hadoop2.7/python/pyspark/mllib/recommendation.py\n",
            "spark-3.0.1-bin-hadoop2.7/python/pyspark/mllib/common.py\n",
            "spark-3.0.1-bin-hadoop2.7/python/pyspark/mllib/linalg/\n",
            "spark-3.0.1-bin-hadoop2.7/python/pyspark/mllib/linalg/distributed.py\n",
            "spark-3.0.1-bin-hadoop2.7/python/pyspark/mllib/linalg/__init__.py\n",
            "spark-3.0.1-bin-hadoop2.7/python/pyspark/mllib/classification.py\n",
            "spark-3.0.1-bin-hadoop2.7/python/pyspark/mllib/tree.py\n",
            "spark-3.0.1-bin-hadoop2.7/python/pyspark/mllib/__init__.py\n",
            "spark-3.0.1-bin-hadoop2.7/python/pyspark/mllib/random.py\n",
            "spark-3.0.1-bin-hadoop2.7/python/pyspark/mllib/tests/\n",
            "spark-3.0.1-bin-hadoop2.7/python/pyspark/mllib/tests/test_util.py\n",
            "spark-3.0.1-bin-hadoop2.7/python/pyspark/mllib/tests/test_linalg.py\n",
            "spark-3.0.1-bin-hadoop2.7/python/pyspark/mllib/tests/test_feature.py\n",
            "spark-3.0.1-bin-hadoop2.7/python/pyspark/mllib/tests/test_algorithms.py\n",
            "spark-3.0.1-bin-hadoop2.7/python/pyspark/mllib/tests/__init__.py\n",
            "spark-3.0.1-bin-hadoop2.7/python/pyspark/mllib/tests/test_streaming_algorithms.py\n",
            "spark-3.0.1-bin-hadoop2.7/python/pyspark/mllib/tests/test_stat.py\n",
            "spark-3.0.1-bin-hadoop2.7/python/pyspark/resource.py\n",
            "spark-3.0.1-bin-hadoop2.7/python/pyspark/serializers.py\n",
            "spark-3.0.1-bin-hadoop2.7/python/pyspark/util.py\n",
            "spark-3.0.1-bin-hadoop2.7/python/pyspark/daemon.py\n",
            "spark-3.0.1-bin-hadoop2.7/python/pyspark/context.py\n",
            "spark-3.0.1-bin-hadoop2.7/python/pyspark/broadcast.py\n",
            "spark-3.0.1-bin-hadoop2.7/python/pyspark/streaming/\n",
            "spark-3.0.1-bin-hadoop2.7/python/pyspark/streaming/util.py\n",
            "spark-3.0.1-bin-hadoop2.7/python/pyspark/streaming/listener.py\n",
            "spark-3.0.1-bin-hadoop2.7/python/pyspark/streaming/kinesis.py\n",
            "spark-3.0.1-bin-hadoop2.7/python/pyspark/streaming/context.py\n",
            "spark-3.0.1-bin-hadoop2.7/python/pyspark/streaming/dstream.py\n",
            "spark-3.0.1-bin-hadoop2.7/python/pyspark/streaming/__init__.py\n",
            "spark-3.0.1-bin-hadoop2.7/python/pyspark/streaming/tests/\n",
            "spark-3.0.1-bin-hadoop2.7/python/pyspark/streaming/tests/test_kinesis.py\n",
            "spark-3.0.1-bin-hadoop2.7/python/pyspark/streaming/tests/test_context.py\n",
            "spark-3.0.1-bin-hadoop2.7/python/pyspark/streaming/tests/test_dstream.py\n",
            "spark-3.0.1-bin-hadoop2.7/python/pyspark/streaming/tests/test_listener.py\n",
            "spark-3.0.1-bin-hadoop2.7/python/pyspark/streaming/tests/__init__.py\n",
            "spark-3.0.1-bin-hadoop2.7/python/pyspark/testing/\n",
            "spark-3.0.1-bin-hadoop2.7/python/pyspark/testing/mllibutils.py\n",
            "spark-3.0.1-bin-hadoop2.7/python/pyspark/testing/utils.py\n",
            "spark-3.0.1-bin-hadoop2.7/python/pyspark/testing/mlutils.py\n",
            "spark-3.0.1-bin-hadoop2.7/python/pyspark/testing/sqlutils.py\n",
            "spark-3.0.1-bin-hadoop2.7/python/pyspark/testing/streamingutils.py\n",
            "spark-3.0.1-bin-hadoop2.7/python/pyspark/testing/__init__.py\n",
            "spark-3.0.1-bin-hadoop2.7/python/pyspark/shell.py\n",
            "spark-3.0.1-bin-hadoop2.7/python/pyspark/heapq3.py\n",
            "spark-3.0.1-bin-hadoop2.7/python/pyspark/version.py\n",
            "spark-3.0.1-bin-hadoop2.7/python/pyspark/rddsampler.py\n",
            "spark-3.0.1-bin-hadoop2.7/python/pyspark/worker.py\n",
            "spark-3.0.1-bin-hadoop2.7/python/pyspark/cloudpickle.py\n",
            "spark-3.0.1-bin-hadoop2.7/python/pyspark/sql/\n",
            "spark-3.0.1-bin-hadoop2.7/python/pyspark/sql/functions.py\n",
            "spark-3.0.1-bin-hadoop2.7/python/pyspark/sql/column.py\n",
            "spark-3.0.1-bin-hadoop2.7/python/pyspark/sql/readwriter.py\n",
            "spark-3.0.1-bin-hadoop2.7/python/pyspark/sql/utils.py\n",
            "spark-3.0.1-bin-hadoop2.7/python/pyspark/sql/context.py\n",
            "spark-3.0.1-bin-hadoop2.7/python/pyspark/sql/avro/\n",
            "spark-3.0.1-bin-hadoop2.7/python/pyspark/sql/avro/functions.py\n",
            "spark-3.0.1-bin-hadoop2.7/python/pyspark/sql/avro/__init__.py\n",
            "spark-3.0.1-bin-hadoop2.7/python/pyspark/sql/window.py\n",
            "spark-3.0.1-bin-hadoop2.7/python/pyspark/sql/session.py\n",
            "spark-3.0.1-bin-hadoop2.7/python/pyspark/sql/types.py\n",
            "spark-3.0.1-bin-hadoop2.7/python/pyspark/sql/group.py\n",
            "spark-3.0.1-bin-hadoop2.7/python/pyspark/sql/dataframe.py\n",
            "spark-3.0.1-bin-hadoop2.7/python/pyspark/sql/catalog.py\n",
            "spark-3.0.1-bin-hadoop2.7/python/pyspark/sql/udf.py\n",
            "spark-3.0.1-bin-hadoop2.7/python/pyspark/sql/pandas/\n",
            "spark-3.0.1-bin-hadoop2.7/python/pyspark/sql/pandas/group_ops.py\n",
            "spark-3.0.1-bin-hadoop2.7/python/pyspark/sql/pandas/serializers.py\n",
            "spark-3.0.1-bin-hadoop2.7/python/pyspark/sql/pandas/functions.py\n",
            "spark-3.0.1-bin-hadoop2.7/python/pyspark/sql/pandas/utils.py\n",
            "spark-3.0.1-bin-hadoop2.7/python/pyspark/sql/pandas/typehints.py\n",
            "spark-3.0.1-bin-hadoop2.7/python/pyspark/sql/pandas/types.py\n",
            "spark-3.0.1-bin-hadoop2.7/python/pyspark/sql/pandas/conversion.py\n",
            "spark-3.0.1-bin-hadoop2.7/python/pyspark/sql/pandas/__init__.py\n",
            "spark-3.0.1-bin-hadoop2.7/python/pyspark/sql/pandas/map_ops.py\n",
            "spark-3.0.1-bin-hadoop2.7/python/pyspark/sql/__init__.py\n",
            "spark-3.0.1-bin-hadoop2.7/python/pyspark/sql/conf.py\n",
            "spark-3.0.1-bin-hadoop2.7/python/pyspark/sql/streaming.py\n",
            "spark-3.0.1-bin-hadoop2.7/python/pyspark/sql/tests/\n",
            "spark-3.0.1-bin-hadoop2.7/python/pyspark/sql/tests/test_column.py\n",
            "spark-3.0.1-bin-hadoop2.7/python/pyspark/sql/tests/test_arrow.py\n",
            "spark-3.0.1-bin-hadoop2.7/python/pyspark/sql/tests/test_conf.py\n",
            "spark-3.0.1-bin-hadoop2.7/python/pyspark/sql/tests/test_pandas_grouped_map.py\n",
            "spark-3.0.1-bin-hadoop2.7/python/pyspark/sql/tests/test_catalog.py\n",
            "spark-3.0.1-bin-hadoop2.7/python/pyspark/sql/tests/test_pandas_cogrouped_map.py\n",
            "spark-3.0.1-bin-hadoop2.7/python/pyspark/sql/tests/test_pandas_udf_typehints.py\n",
            "spark-3.0.1-bin-hadoop2.7/python/pyspark/sql/tests/test_serde.py\n",
            "spark-3.0.1-bin-hadoop2.7/python/pyspark/sql/tests/test_types.py\n",
            "spark-3.0.1-bin-hadoop2.7/python/pyspark/sql/tests/test_pandas_udf_scalar.py\n",
            "spark-3.0.1-bin-hadoop2.7/python/pyspark/sql/tests/test_utils.py\n",
            "spark-3.0.1-bin-hadoop2.7/python/pyspark/sql/tests/test_pandas_map.py\n",
            "spark-3.0.1-bin-hadoop2.7/python/pyspark/sql/tests/test_streaming.py\n",
            "spark-3.0.1-bin-hadoop2.7/python/pyspark/sql/tests/test_functions.py\n",
            "spark-3.0.1-bin-hadoop2.7/python/pyspark/sql/tests/test_context.py\n",
            "spark-3.0.1-bin-hadoop2.7/python/pyspark/sql/tests/test_group.py\n",
            "spark-3.0.1-bin-hadoop2.7/python/pyspark/sql/tests/test_datasources.py\n",
            "spark-3.0.1-bin-hadoop2.7/python/pyspark/sql/tests/test_readwriter.py\n",
            "spark-3.0.1-bin-hadoop2.7/python/pyspark/sql/tests/test_pandas_udf_window.py\n",
            "spark-3.0.1-bin-hadoop2.7/python/pyspark/sql/tests/test_udf.py\n",
            "spark-3.0.1-bin-hadoop2.7/python/pyspark/sql/tests/__init__.py\n",
            "spark-3.0.1-bin-hadoop2.7/python/pyspark/sql/tests/test_session.py\n",
            "spark-3.0.1-bin-hadoop2.7/python/pyspark/sql/tests/test_pandas_udf.py\n",
            "spark-3.0.1-bin-hadoop2.7/python/pyspark/sql/tests/test_pandas_udf_grouped_agg.py\n",
            "spark-3.0.1-bin-hadoop2.7/python/pyspark/sql/tests/test_dataframe.py\n",
            "spark-3.0.1-bin-hadoop2.7/python/pyspark/join.py\n",
            "spark-3.0.1-bin-hadoop2.7/python/pyspark/accumulators.py\n",
            "spark-3.0.1-bin-hadoop2.7/python/pyspark/resultiterable.py\n",
            "spark-3.0.1-bin-hadoop2.7/python/pyspark/profiler.py\n",
            "spark-3.0.1-bin-hadoop2.7/python/pyspark/taskcontext.py\n",
            "spark-3.0.1-bin-hadoop2.7/python/pyspark/storagelevel.py\n",
            "spark-3.0.1-bin-hadoop2.7/python/pyspark/traceback_utils.py\n",
            "spark-3.0.1-bin-hadoop2.7/python/pyspark/files.py\n",
            "spark-3.0.1-bin-hadoop2.7/python/pyspark/_globals.py\n",
            "spark-3.0.1-bin-hadoop2.7/python/pyspark/python/\n",
            "spark-3.0.1-bin-hadoop2.7/python/pyspark/python/pyspark/\n",
            "spark-3.0.1-bin-hadoop2.7/python/pyspark/python/pyspark/shell.py\n",
            "spark-3.0.1-bin-hadoop2.7/python/pyspark/shuffle.py\n",
            "spark-3.0.1-bin-hadoop2.7/python/pyspark/__init__.py\n",
            "spark-3.0.1-bin-hadoop2.7/python/pyspark/rdd.py\n",
            "spark-3.0.1-bin-hadoop2.7/python/pyspark/find_spark_home.py\n",
            "spark-3.0.1-bin-hadoop2.7/python/pyspark/conf.py\n",
            "spark-3.0.1-bin-hadoop2.7/python/pyspark/tests/\n",
            "spark-3.0.1-bin-hadoop2.7/python/pyspark/tests/test_taskcontext.py\n",
            "spark-3.0.1-bin-hadoop2.7/python/pyspark/tests/test_appsubmit.py\n",
            "spark-3.0.1-bin-hadoop2.7/python/pyspark/tests/test_util.py\n",
            "spark-3.0.1-bin-hadoop2.7/python/pyspark/tests/test_conf.py\n",
            "spark-3.0.1-bin-hadoop2.7/python/pyspark/tests/test_daemon.py\n",
            "spark-3.0.1-bin-hadoop2.7/python/pyspark/tests/test_pin_thread.py\n",
            "spark-3.0.1-bin-hadoop2.7/python/pyspark/tests/test_profiler.py\n",
            "spark-3.0.1-bin-hadoop2.7/python/pyspark/tests/test_shuffle.py\n",
            "spark-3.0.1-bin-hadoop2.7/python/pyspark/tests/test_readwrite.py\n",
            "spark-3.0.1-bin-hadoop2.7/python/pyspark/tests/test_serializers.py\n",
            "spark-3.0.1-bin-hadoop2.7/python/pyspark/tests/test_broadcast.py\n",
            "spark-3.0.1-bin-hadoop2.7/python/pyspark/tests/test_rddbarrier.py\n",
            "spark-3.0.1-bin-hadoop2.7/python/pyspark/tests/test_context.py\n",
            "spark-3.0.1-bin-hadoop2.7/python/pyspark/tests/test_join.py\n",
            "spark-3.0.1-bin-hadoop2.7/python/pyspark/tests/__init__.py\n",
            "spark-3.0.1-bin-hadoop2.7/python/pyspark/tests/test_worker.py\n",
            "spark-3.0.1-bin-hadoop2.7/python/pyspark/tests/test_rdd.py\n",
            "spark-3.0.1-bin-hadoop2.7/python/test_coverage/\n",
            "spark-3.0.1-bin-hadoop2.7/python/test_coverage/sitecustomize.py\n",
            "spark-3.0.1-bin-hadoop2.7/python/test_coverage/coverage_daemon.py\n",
            "spark-3.0.1-bin-hadoop2.7/python/test_coverage/conf/\n",
            "spark-3.0.1-bin-hadoop2.7/python/test_coverage/conf/spark-defaults.conf\n",
            "spark-3.0.1-bin-hadoop2.7/python/test_support/\n",
            "spark-3.0.1-bin-hadoop2.7/python/test_support/SimpleHTTPServer.py\n",
            "spark-3.0.1-bin-hadoop2.7/python/test_support/userlibrary.py\n",
            "spark-3.0.1-bin-hadoop2.7/python/test_support/userlib-0.1.zip\n",
            "spark-3.0.1-bin-hadoop2.7/python/test_support/sql/\n",
            "spark-3.0.1-bin-hadoop2.7/python/test_support/sql/streaming/\n",
            "spark-3.0.1-bin-hadoop2.7/python/test_support/sql/streaming/text-test.txt\n",
            "spark-3.0.1-bin-hadoop2.7/python/test_support/sql/people_array_utf16le.json\n",
            "spark-3.0.1-bin-hadoop2.7/python/test_support/sql/ages.csv\n",
            "spark-3.0.1-bin-hadoop2.7/python/test_support/sql/ages_newlines.csv\n",
            "spark-3.0.1-bin-hadoop2.7/python/test_support/sql/text-test.txt\n",
            "spark-3.0.1-bin-hadoop2.7/python/test_support/sql/people1.json\n",
            "spark-3.0.1-bin-hadoop2.7/python/test_support/sql/orc_partitioned/\n",
            "spark-3.0.1-bin-hadoop2.7/python/test_support/sql/orc_partitioned/b=0/\n",
            "spark-3.0.1-bin-hadoop2.7/python/test_support/sql/orc_partitioned/b=0/c=0/\n",
            "spark-3.0.1-bin-hadoop2.7/python/test_support/sql/orc_partitioned/b=0/c=0/.part-r-00000-829af031-b970-49d6-ad39-30460a0be2c8.orc.crc\n",
            "spark-3.0.1-bin-hadoop2.7/python/test_support/sql/orc_partitioned/b=0/c=0/part-r-00000-829af031-b970-49d6-ad39-30460a0be2c8.orc\n",
            "spark-3.0.1-bin-hadoop2.7/python/test_support/sql/orc_partitioned/_SUCCESS\n",
            "spark-3.0.1-bin-hadoop2.7/python/test_support/sql/orc_partitioned/b=1/\n",
            "spark-3.0.1-bin-hadoop2.7/python/test_support/sql/orc_partitioned/b=1/c=1/\n",
            "spark-3.0.1-bin-hadoop2.7/python/test_support/sql/orc_partitioned/b=1/c=1/.part-r-00000-829af031-b970-49d6-ad39-30460a0be2c8.orc.crc\n",
            "spark-3.0.1-bin-hadoop2.7/python/test_support/sql/orc_partitioned/b=1/c=1/part-r-00000-829af031-b970-49d6-ad39-30460a0be2c8.orc\n",
            "spark-3.0.1-bin-hadoop2.7/python/test_support/sql/parquet_partitioned/\n",
            "spark-3.0.1-bin-hadoop2.7/python/test_support/sql/parquet_partitioned/_metadata\n",
            "spark-3.0.1-bin-hadoop2.7/python/test_support/sql/parquet_partitioned/_SUCCESS\n",
            "spark-3.0.1-bin-hadoop2.7/python/test_support/sql/parquet_partitioned/year=2015/\n",
            "spark-3.0.1-bin-hadoop2.7/python/test_support/sql/parquet_partitioned/year=2015/month=10/\n",
            "spark-3.0.1-bin-hadoop2.7/python/test_support/sql/parquet_partitioned/year=2015/month=10/day=26/\n",
            "spark-3.0.1-bin-hadoop2.7/python/test_support/sql/parquet_partitioned/year=2015/month=10/day=26/.part-r-00005.gz.parquet.crc\n",
            "spark-3.0.1-bin-hadoop2.7/python/test_support/sql/parquet_partitioned/year=2015/month=10/day=26/part-r-00005.gz.parquet\n",
            "spark-3.0.1-bin-hadoop2.7/python/test_support/sql/parquet_partitioned/year=2015/month=10/day=25/\n",
            "spark-3.0.1-bin-hadoop2.7/python/test_support/sql/parquet_partitioned/year=2015/month=10/day=25/.part-r-00004.gz.parquet.crc\n",
            "spark-3.0.1-bin-hadoop2.7/python/test_support/sql/parquet_partitioned/year=2015/month=10/day=25/part-r-00002.gz.parquet\n",
            "spark-3.0.1-bin-hadoop2.7/python/test_support/sql/parquet_partitioned/year=2015/month=10/day=25/.part-r-00002.gz.parquet.crc\n",
            "spark-3.0.1-bin-hadoop2.7/python/test_support/sql/parquet_partitioned/year=2015/month=10/day=25/part-r-00004.gz.parquet\n",
            "spark-3.0.1-bin-hadoop2.7/python/test_support/sql/parquet_partitioned/year=2015/month=9/\n",
            "spark-3.0.1-bin-hadoop2.7/python/test_support/sql/parquet_partitioned/year=2015/month=9/day=1/\n",
            "spark-3.0.1-bin-hadoop2.7/python/test_support/sql/parquet_partitioned/year=2015/month=9/day=1/.part-r-00007.gz.parquet.crc\n",
            "spark-3.0.1-bin-hadoop2.7/python/test_support/sql/parquet_partitioned/year=2015/month=9/day=1/part-r-00007.gz.parquet\n",
            "spark-3.0.1-bin-hadoop2.7/python/test_support/sql/parquet_partitioned/_common_metadata\n",
            "spark-3.0.1-bin-hadoop2.7/python/test_support/sql/parquet_partitioned/year=2014/\n",
            "spark-3.0.1-bin-hadoop2.7/python/test_support/sql/parquet_partitioned/year=2014/month=9/\n",
            "spark-3.0.1-bin-hadoop2.7/python/test_support/sql/parquet_partitioned/year=2014/month=9/day=1/\n",
            "spark-3.0.1-bin-hadoop2.7/python/test_support/sql/parquet_partitioned/year=2014/month=9/day=1/.part-r-00008.gz.parquet.crc\n",
            "spark-3.0.1-bin-hadoop2.7/python/test_support/sql/parquet_partitioned/year=2014/month=9/day=1/part-r-00008.gz.parquet\n",
            "spark-3.0.1-bin-hadoop2.7/python/test_support/sql/people_array.json\n",
            "spark-3.0.1-bin-hadoop2.7/python/test_support/sql/people.json\n",
            "spark-3.0.1-bin-hadoop2.7/python/test_support/hello/\n",
            "spark-3.0.1-bin-hadoop2.7/python/test_support/hello/hello.txt\n",
            "spark-3.0.1-bin-hadoop2.7/python/test_support/hello/sub_hello/\n",
            "spark-3.0.1-bin-hadoop2.7/python/test_support/hello/sub_hello/sub_hello.txt\n",
            "spark-3.0.1-bin-hadoop2.7/python/README.md\n",
            "spark-3.0.1-bin-hadoop2.7/python/run-tests-with-coverage\n",
            "spark-3.0.1-bin-hadoop2.7/python/MANIFEST.in\n",
            "spark-3.0.1-bin-hadoop2.7/python/.coveragerc\n",
            "spark-3.0.1-bin-hadoop2.7/python/docs/\n",
            "spark-3.0.1-bin-hadoop2.7/python/docs/pyspark.mllib.rst\n",
            "spark-3.0.1-bin-hadoop2.7/python/docs/index.rst\n",
            "spark-3.0.1-bin-hadoop2.7/python/docs/pyspark.sql.rst\n",
            "spark-3.0.1-bin-hadoop2.7/python/docs/_static/\n",
            "spark-3.0.1-bin-hadoop2.7/python/docs/_static/pyspark.css\n",
            "spark-3.0.1-bin-hadoop2.7/python/docs/_static/copybutton.js\n",
            "spark-3.0.1-bin-hadoop2.7/python/docs/_static/pyspark.js\n",
            "spark-3.0.1-bin-hadoop2.7/python/docs/make.bat\n",
            "spark-3.0.1-bin-hadoop2.7/python/docs/pyspark.resource.rst\n",
            "spark-3.0.1-bin-hadoop2.7/python/docs/pyspark.rst\n",
            "spark-3.0.1-bin-hadoop2.7/python/docs/make2.bat\n",
            "spark-3.0.1-bin-hadoop2.7/python/docs/_templates/\n",
            "spark-3.0.1-bin-hadoop2.7/python/docs/_templates/layout.html\n",
            "spark-3.0.1-bin-hadoop2.7/python/docs/pyspark.streaming.rst\n",
            "spark-3.0.1-bin-hadoop2.7/python/docs/Makefile\n",
            "spark-3.0.1-bin-hadoop2.7/python/docs/conf.py\n",
            "spark-3.0.1-bin-hadoop2.7/python/docs/pyspark.ml.rst\n",
            "spark-3.0.1-bin-hadoop2.7/python/lib/\n",
            "spark-3.0.1-bin-hadoop2.7/python/lib/py4j-0.10.9-src.zip\n",
            "spark-3.0.1-bin-hadoop2.7/python/lib/pyspark.zip\n",
            "spark-3.0.1-bin-hadoop2.7/python/lib/PY4J_LICENSE.txt\n",
            "spark-3.0.1-bin-hadoop2.7/python/run-tests.py\n",
            "spark-3.0.1-bin-hadoop2.7/python/pylintrc\n",
            "spark-3.0.1-bin-hadoop2.7/python/run-tests\n",
            "spark-3.0.1-bin-hadoop2.7/python/pyspark.egg-info/\n",
            "spark-3.0.1-bin-hadoop2.7/python/pyspark.egg-info/dependency_links.txt\n",
            "spark-3.0.1-bin-hadoop2.7/python/pyspark.egg-info/requires.txt\n",
            "spark-3.0.1-bin-hadoop2.7/python/pyspark.egg-info/PKG-INFO\n",
            "spark-3.0.1-bin-hadoop2.7/python/pyspark.egg-info/SOURCES.txt\n",
            "spark-3.0.1-bin-hadoop2.7/python/pyspark.egg-info/top_level.txt\n",
            "spark-3.0.1-bin-hadoop2.7/python/setup.cfg\n",
            "spark-3.0.1-bin-hadoop2.7/python/dist/\n",
            "spark-3.0.1-bin-hadoop2.7/python/.gitignore\n",
            "spark-3.0.1-bin-hadoop2.7/conf/\n",
            "spark-3.0.1-bin-hadoop2.7/conf/fairscheduler.xml.template\n",
            "spark-3.0.1-bin-hadoop2.7/conf/log4j.properties.template\n",
            "spark-3.0.1-bin-hadoop2.7/conf/spark-defaults.conf.template\n",
            "spark-3.0.1-bin-hadoop2.7/conf/metrics.properties.template\n",
            "spark-3.0.1-bin-hadoop2.7/conf/spark-env.sh.template\n",
            "spark-3.0.1-bin-hadoop2.7/conf/slaves.template\n"
          ],
          "name": "stdout"
        }
      ]
    },
    {
      "cell_type": "code",
      "metadata": {
        "id": "KdzTEkkbYKiY"
      },
      "source": [
        "import numpy as np # linear algebra\n",
        "import pandas as pd # data processing, CSV file I/O (e.g. pd.read_csv)\n",
        "import pandas_profiling\n",
        "import os\n",
        "\n",
        "\n",
        "for dirname, _, filenames in os.walk('/content/AB_NYC_2019.csv'):\n",
        "    for filename in filenames:\n",
        "        print(os.path.join(dirname, filename))\n",
        "\n",
        "# Any results you write to the current directory are saved as output."
      ],
      "execution_count": 2,
      "outputs": []
    },
    {
      "cell_type": "code",
      "metadata": {
        "colab": {
          "base_uri": "https://localhost:8080/"
        },
        "id": "EVSf5tuxZo_h",
        "outputId": "98d79a89-2fa3-45f0-c4bf-258501cb669f"
      },
      "source": [
        "#installing pyspark version 2.3.4\n",
        "!pip install pyspark==3.0.1"
      ],
      "execution_count": 3,
      "outputs": [
        {
          "output_type": "stream",
          "text": [
            "Collecting pyspark==3.0.1\n",
            "\u001b[?25l  Downloading https://files.pythonhosted.org/packages/f0/26/198fc8c0b98580f617cb03cb298c6056587b8f0447e20fa40c5b634ced77/pyspark-3.0.1.tar.gz (204.2MB)\n",
            "\u001b[K     |████████████████████████████████| 204.2MB 73kB/s \n",
            "\u001b[?25hCollecting py4j==0.10.9\n",
            "\u001b[?25l  Downloading https://files.pythonhosted.org/packages/9e/b6/6a4fb90cd235dc8e265a6a2067f2a2c99f0d91787f06aca4bcf7c23f3f80/py4j-0.10.9-py2.py3-none-any.whl (198kB)\n",
            "\u001b[K     |████████████████████████████████| 204kB 42.9MB/s \n",
            "\u001b[?25hBuilding wheels for collected packages: pyspark\n",
            "  Building wheel for pyspark (setup.py) ... \u001b[?25l\u001b[?25hdone\n",
            "  Created wheel for pyspark: filename=pyspark-3.0.1-py2.py3-none-any.whl size=204612243 sha256=ce702ffa4bf9c25db24dfe5d4046f5ec2ae3bdb26d8c396c973395f4ae04405b\n",
            "  Stored in directory: /root/.cache/pip/wheels/5e/bd/07/031766ca628adec8435bb40f0bd83bb676ce65ff4007f8e73f\n",
            "Successfully built pyspark\n",
            "Installing collected packages: py4j, pyspark\n",
            "Successfully installed py4j-0.10.9 pyspark-3.0.1\n"
          ],
          "name": "stdout"
        }
      ]
    },
    {
      "cell_type": "code",
      "metadata": {
        "id": "IEXVgi2tZsHi"
      },
      "source": [
        "import pyspark\n",
        "from pyspark import SparkContext\n",
        "#Starting SparkContext\n",
        "sc = SparkContext(\"local\",\"prasannjit\")"
      ],
      "execution_count": 4,
      "outputs": []
    },
    {
      "cell_type": "code",
      "metadata": {
        "id": "GZkHwGlUZt-O"
      },
      "source": [
        "sqlContext = pyspark.SQLContext(sc)"
      ],
      "execution_count": 5,
      "outputs": []
    },
    {
      "cell_type": "code",
      "metadata": {
        "colab": {
          "base_uri": "https://localhost:8080/",
          "height": 35
        },
        "id": "Pa1mWun2Z7Ld",
        "outputId": "3041c267-a0bb-4a4d-ba41-d612eeb0834d"
      },
      "source": [
        "sc.version"
      ],
      "execution_count": 6,
      "outputs": [
        {
          "output_type": "execute_result",
          "data": {
            "application/vnd.google.colaboratory.intrinsic+json": {
              "type": "string"
            },
            "text/plain": [
              "'3.0.1'"
            ]
          },
          "metadata": {
            "tags": []
          },
          "execution_count": 6
        }
      ]
    },
    {
      "cell_type": "code",
      "metadata": {
        "id": "15KaT9ZSZ86D"
      },
      "source": [
        "from pyspark.sql.types import *"
      ],
      "execution_count": 7,
      "outputs": []
    },
    {
      "cell_type": "code",
      "metadata": {
        "id": "BnV3wJXPZ_GN"
      },
      "source": [
        "#Defining own schema\n",
        "#This is done so that there would not be any conflict between datatypes\n",
        "data_schema = [StructField('id', IntegerType(), True), \n",
        "               StructField('name', StringType(), True),\n",
        "               StructField('host_id', IntegerType(), True),\n",
        "               StructField('host_name', StringType(), True),\n",
        "               StructField('neighbourhood_group', StringType(), True),\n",
        "               StructField('neighbourhood', StringType(), True),\n",
        "               StructField('latitude', FloatType(), True),\n",
        "               StructField('longitude', FloatType(), True),\n",
        "               StructField('room_type', StringType(), True),\n",
        "               StructField('price', IntegerType(), True),\n",
        "               StructField('minimum_nights', IntegerType(), True),\n",
        "               StructField('number_of_reviews', IntegerType(), True),\n",
        "               StructField('last_review', DateType(), True),\n",
        "               StructField('reviews_per_month', FloatType(), True),\n",
        "               StructField('calculated_host_listings_count', IntegerType(), True),\n",
        "               StructField('availability_365', IntegerType(), True),\n",
        "              ]"
      ],
      "execution_count": 8,
      "outputs": []
    },
    {
      "cell_type": "code",
      "metadata": {
        "id": "YwgfUP6oaSX3"
      },
      "source": [
        "final_struc = StructType(data_schema)"
      ],
      "execution_count": 9,
      "outputs": []
    },
    {
      "cell_type": "code",
      "metadata": {
        "id": "kAMpEy7OaXmB"
      },
      "source": [
        "#Reading csv file into spark dataframe using our schema \n",
        "df = sqlContext.read.csv('/content/AB_NYC_2019.csv', header = True,schema = final_struc,mode=\"DROPMALFORMED\")"
      ],
      "execution_count": 11,
      "outputs": []
    },
    {
      "cell_type": "code",
      "metadata": {
        "colab": {
          "base_uri": "https://localhost:8080/"
        },
        "id": "sXCWINDHadLz",
        "outputId": "d666b2a0-b7c2-4f6e-e04f-347b6237846e"
      },
      "source": [
        "df.printSchema()"
      ],
      "execution_count": 12,
      "outputs": [
        {
          "output_type": "stream",
          "text": [
            "root\n",
            " |-- id: integer (nullable = true)\n",
            " |-- name: string (nullable = true)\n",
            " |-- host_id: integer (nullable = true)\n",
            " |-- host_name: string (nullable = true)\n",
            " |-- neighbourhood_group: string (nullable = true)\n",
            " |-- neighbourhood: string (nullable = true)\n",
            " |-- latitude: float (nullable = true)\n",
            " |-- longitude: float (nullable = true)\n",
            " |-- room_type: string (nullable = true)\n",
            " |-- price: integer (nullable = true)\n",
            " |-- minimum_nights: integer (nullable = true)\n",
            " |-- number_of_reviews: integer (nullable = true)\n",
            " |-- last_review: date (nullable = true)\n",
            " |-- reviews_per_month: float (nullable = true)\n",
            " |-- calculated_host_listings_count: integer (nullable = true)\n",
            " |-- availability_365: integer (nullable = true)\n",
            "\n"
          ],
          "name": "stdout"
        }
      ]
    },
    {
      "cell_type": "markdown",
      "metadata": {
        "id": "lEwgqRzIaoUR"
      },
      "source": [
        "#Creating a plot showing top 10 neighbourhoods/neighbourhood_group with highest hotel prices."
      ]
    },
    {
      "cell_type": "code",
      "metadata": {
        "id": "oMjzKf06ahOF"
      },
      "source": [
        "import seaborn as sns\n",
        "sns.set()\n",
        "\n",
        "import matplotlib.pyplot as plt\n",
        "%matplotlib inline\n",
        "\n",
        "import pandas as pd\n",
        "import pyspark.sql.functions as func"
      ],
      "execution_count": 13,
      "outputs": []
    },
    {
      "cell_type": "code",
      "metadata": {
        "id": "zWSI8fMlazT-"
      },
      "source": [
        "df_neigh_gr_pd = df.groupBy(\"neighbourhood_group\").agg(func.mean(\"price\").alias(\"mean_price\")).orderBy('mean_price', ascending=False).toPandas().head(10)"
      ],
      "execution_count": 14,
      "outputs": []
    },
    {
      "cell_type": "code",
      "metadata": {
        "colab": {
          "base_uri": "https://localhost:8080/",
          "height": 359
        },
        "id": "jEbQMk1Lbrtj",
        "outputId": "d702876f-65b9-4b41-a578-b9431acfd2c0"
      },
      "source": [
        "df_neigh_gr_pd"
      ],
      "execution_count": 15,
      "outputs": [
        {
          "output_type": "execute_result",
          "data": {
            "text/html": [
              "<div>\n",
              "<style scoped>\n",
              "    .dataframe tbody tr th:only-of-type {\n",
              "        vertical-align: middle;\n",
              "    }\n",
              "\n",
              "    .dataframe tbody tr th {\n",
              "        vertical-align: top;\n",
              "    }\n",
              "\n",
              "    .dataframe thead th {\n",
              "        text-align: right;\n",
              "    }\n",
              "</style>\n",
              "<table border=\"1\" class=\"dataframe\">\n",
              "  <thead>\n",
              "    <tr style=\"text-align: right;\">\n",
              "      <th></th>\n",
              "      <th>neighbourhood_group</th>\n",
              "      <th>mean_price</th>\n",
              "    </tr>\n",
              "  </thead>\n",
              "  <tbody>\n",
              "    <tr>\n",
              "      <th>0</th>\n",
              "      <td>Manhattan</td>\n",
              "      <td>196.743216</td>\n",
              "    </tr>\n",
              "    <tr>\n",
              "      <th>1</th>\n",
              "      <td>Brooklyn</td>\n",
              "      <td>124.398404</td>\n",
              "    </tr>\n",
              "    <tr>\n",
              "      <th>2</th>\n",
              "      <td>Staten Island</td>\n",
              "      <td>114.994595</td>\n",
              "    </tr>\n",
              "    <tr>\n",
              "      <th>3</th>\n",
              "      <td>Queens</td>\n",
              "      <td>99.576909</td>\n",
              "    </tr>\n",
              "    <tr>\n",
              "      <th>4</th>\n",
              "      <td>Bronx</td>\n",
              "      <td>87.728704</td>\n",
              "    </tr>\n",
              "    <tr>\n",
              "      <th>5</th>\n",
              "      <td>Greenwich Village</td>\n",
              "      <td>55.500000</td>\n",
              "    </tr>\n",
              "    <tr>\n",
              "      <th>6</th>\n",
              "      <td>Jackson Heights</td>\n",
              "      <td>16.000000</td>\n",
              "    </tr>\n",
              "    <tr>\n",
              "      <th>7</th>\n",
              "      <td>Clinton Hill</td>\n",
              "      <td>14.000000</td>\n",
              "    </tr>\n",
              "    <tr>\n",
              "      <th>8</th>\n",
              "      <td>Brooklyn Heights</td>\n",
              "      <td>14.000000</td>\n",
              "    </tr>\n",
              "    <tr>\n",
              "      <th>9</th>\n",
              "      <td>Upper West Side</td>\n",
              "      <td>13.000000</td>\n",
              "    </tr>\n",
              "  </tbody>\n",
              "</table>\n",
              "</div>"
            ],
            "text/plain": [
              "  neighbourhood_group  mean_price\n",
              "0           Manhattan  196.743216\n",
              "1            Brooklyn  124.398404\n",
              "2       Staten Island  114.994595\n",
              "3              Queens   99.576909\n",
              "4               Bronx   87.728704\n",
              "5   Greenwich Village   55.500000\n",
              "6     Jackson Heights   16.000000\n",
              "7        Clinton Hill   14.000000\n",
              "8    Brooklyn Heights   14.000000\n",
              "9     Upper West Side   13.000000"
            ]
          },
          "metadata": {
            "tags": []
          },
          "execution_count": 15
        }
      ]
    },
    {
      "cell_type": "code",
      "metadata": {
        "colab": {
          "base_uri": "https://localhost:8080/",
          "height": 419
        },
        "id": "beqSUguQbyzC",
        "outputId": "7fbbc2d2-43b0-4127-e455-373862f36278"
      },
      "source": [
        "plt.figure(figsize=(25, 10))\n",
        "sns.barplot(x=\"neighbourhood_group\", y=\"mean_price\", data=df_neigh_gr_pd)"
      ],
      "execution_count": 16,
      "outputs": [
        {
          "output_type": "execute_result",
          "data": {
            "text/plain": [
              "<matplotlib.axes._subplots.AxesSubplot at 0x7f902c932cc0>"
            ]
          },
          "metadata": {
            "tags": []
          },
          "execution_count": 16
        },
        {
          "output_type": "display_data",
          "data": {
            "image/png": "[encoded data removed]",
            "text/plain": [
              "<Figure size 1800x720 with 1 Axes>"
            ]
          },
          "metadata": {
            "tags": [],
            "needs_background": "light"
          }
        }
      ]
    },
    {
      "cell_type": "markdown",
      "metadata": {
        "id": "-uEsc6vpj8Ll"
      },
      "source": [
        "#Finding out the neighbourhood’s average price so that I am able to pick an economical location to book my hotel."
      ]
    },
    {
      "cell_type": "code",
      "metadata": {
        "id": "QVTH3a94b5hA"
      },
      "source": [
        "#This will calculate mean price of each distinct neighbourhood\n",
        "df_neigh_pd = df.groupBy('neighbourhood').agg(func.mean(\"price\").alias(\"mean_price\")).orderBy('mean_price', ascending=True).toPandas().head(500)"
      ],
      "execution_count": 17,
      "outputs": []
    },
    {
      "cell_type": "code",
      "metadata": {
        "colab": {
          "base_uri": "https://localhost:8080/",
          "height": 419
        },
        "id": "TgwHQ49koi4t",
        "outputId": "36772c96-8867-4883-bc11-3d847fc3317b"
      },
      "source": [
        "df_neigh_pd"
      ],
      "execution_count": 18,
      "outputs": [
        {
          "output_type": "execute_result",
          "data": {
            "text/html": [
              "<div>\n",
              "<style scoped>\n",
              "    .dataframe tbody tr th:only-of-type {\n",
              "        vertical-align: middle;\n",
              "    }\n",
              "\n",
              "    .dataframe tbody tr th {\n",
              "        vertical-align: top;\n",
              "    }\n",
              "\n",
              "    .dataframe thead th {\n",
              "        text-align: right;\n",
              "    }\n",
              "</style>\n",
              "<table border=\"1\" class=\"dataframe\">\n",
              "  <thead>\n",
              "    <tr style=\"text-align: right;\">\n",
              "      <th></th>\n",
              "      <th>neighbourhood</th>\n",
              "      <th>mean_price</th>\n",
              "    </tr>\n",
              "  </thead>\n",
              "  <tbody>\n",
              "    <tr>\n",
              "      <th>0</th>\n",
              "      <td>None</td>\n",
              "      <td>NaN</td>\n",
              "    </tr>\n",
              "    <tr>\n",
              "      <th>1</th>\n",
              "      <td>40.83166</td>\n",
              "      <td>1.000000</td>\n",
              "    </tr>\n",
              "    <tr>\n",
              "      <th>2</th>\n",
              "      <td>40.7578</td>\n",
              "      <td>1.000000</td>\n",
              "    </tr>\n",
              "    <tr>\n",
              "      <th>3</th>\n",
              "      <td>40.80958</td>\n",
              "      <td>1.000000</td>\n",
              "    </tr>\n",
              "    <tr>\n",
              "      <th>4</th>\n",
              "      <td>40.76805</td>\n",
              "      <td>1.000000</td>\n",
              "    </tr>\n",
              "    <tr>\n",
              "      <th>...</th>\n",
              "      <td>...</td>\n",
              "      <td>...</td>\n",
              "    </tr>\n",
              "    <tr>\n",
              "      <th>373</th>\n",
              "      <td>Riverdale</td>\n",
              "      <td>442.090909</td>\n",
              "    </tr>\n",
              "    <tr>\n",
              "      <th>374</th>\n",
              "      <td>Tribeca</td>\n",
              "      <td>490.638418</td>\n",
              "    </tr>\n",
              "    <tr>\n",
              "      <th>375</th>\n",
              "      <td>Sea Gate</td>\n",
              "      <td>548.333333</td>\n",
              "    </tr>\n",
              "    <tr>\n",
              "      <th>376</th>\n",
              "      <td>Woodrow</td>\n",
              "      <td>700.000000</td>\n",
              "    </tr>\n",
              "    <tr>\n",
              "      <th>377</th>\n",
              "      <td>Fort Wadsworth</td>\n",
              "      <td>800.000000</td>\n",
              "    </tr>\n",
              "  </tbody>\n",
              "</table>\n",
              "<p>378 rows × 2 columns</p>\n",
              "</div>"
            ],
            "text/plain": [
              "      neighbourhood  mean_price\n",
              "0              None         NaN\n",
              "1          40.83166    1.000000\n",
              "2           40.7578    1.000000\n",
              "3          40.80958    1.000000\n",
              "4          40.76805    1.000000\n",
              "..              ...         ...\n",
              "373       Riverdale  442.090909\n",
              "374         Tribeca  490.638418\n",
              "375        Sea Gate  548.333333\n",
              "376         Woodrow  700.000000\n",
              "377  Fort Wadsworth  800.000000\n",
              "\n",
              "[378 rows x 2 columns]"
            ]
          },
          "metadata": {
            "tags": []
          },
          "execution_count": 18
        }
      ]
    },
    {
      "cell_type": "code",
      "metadata": {
        "id": "itVIPbUtkWaD"
      },
      "source": [
        "df_neigh_pd = df_neigh_pd.head(20)"
      ],
      "execution_count": 19,
      "outputs": []
    },
    {
      "cell_type": "code",
      "metadata": {
        "colab": {
          "base_uri": "https://localhost:8080/",
          "height": 420
        },
        "id": "j6D_5Oq0kYQC",
        "outputId": "a52002b7-96ef-4ff2-fc9a-069fbfb87861"
      },
      "source": [
        "plt.figure(figsize=(25, 10))\n",
        "sns.barplot(x=\"neighbourhood\", y=\"mean_price\", data=df_neigh_pd)"
      ],
      "execution_count": 20,
      "outputs": [
        {
          "output_type": "execute_result",
          "data": {
            "text/plain": [
              "<matplotlib.axes._subplots.AxesSubplot at 0x7f902c97f438>"
            ]
          },
          "metadata": {
            "tags": []
          },
          "execution_count": 20
        },
        {
          "output_type": "display_data",
          "data": {
            "image/png": "[encoded data removed]",
            "text/plain": [
              "<Figure size 1800x720 with 1 Axes>"
            ]
          },
          "metadata": {
            "tags": [],
            "needs_background": "light"
          }
        }
      ]
    },
    {
      "cell_type": "markdown",
      "metadata": {
        "id": "XruVb6p_1x2-"
      },
      "source": [
        "Finding out the 10 most popular hosts based on number_of_reviews and \n",
        "Creating a column named popularity_index depicting popularity of the host."
      ]
    },
    {
      "cell_type": "code",
      "metadata": {
        "id": "BFVCnHGckfHD"
      },
      "source": [
        "#calculating sum of reviews for each host_id\n",
        "df_host_popularity = df.groupby('host_id').agg(func.sum('number_of_reviews').alias('sum_review'))"
      ],
      "execution_count": 21,
      "outputs": []
    },
    {
      "cell_type": "code",
      "metadata": {
        "colab": {
          "base_uri": "https://localhost:8080/"
        },
        "id": "m3mvzfFF2Jzp",
        "outputId": "cc74b494-81cb-4d2f-8f1c-72297d5dd56e"
      },
      "source": [
        "df_host_popularity"
      ],
      "execution_count": 22,
      "outputs": [
        {
          "output_type": "execute_result",
          "data": {
            "text/plain": [
              "DataFrame[host_id: int, sum_review: bigint]"
            ]
          },
          "metadata": {
            "tags": []
          },
          "execution_count": 22
        }
      ]
    },
    {
      "cell_type": "code",
      "metadata": {
        "id": "sl4KJyuK13PX"
      },
      "source": [
        "#calculating total reviews for complete data\n",
        "total_reviews = df.select(func.sum('number_of_reviews')).head()[0]"
      ],
      "execution_count": 23,
      "outputs": []
    },
    {
      "cell_type": "code",
      "metadata": {
        "colab": {
          "base_uri": "https://localhost:8080/"
        },
        "id": "kFx-0unr161M",
        "outputId": "b32ebff3-dc46-43e1-96a1-a4074846964b"
      },
      "source": [
        "total_reviews"
      ],
      "execution_count": 24,
      "outputs": [
        {
          "output_type": "execute_result",
          "data": {
            "text/plain": [
              "1133522"
            ]
          },
          "metadata": {
            "tags": []
          },
          "execution_count": 24
        }
      ]
    },
    {
      "cell_type": "code",
      "metadata": {
        "id": "Od92lUep18iy"
      },
      "source": [
        "#import udf\n",
        "from pyspark.sql import udf\n",
        "\n",
        "import pyspark.sql.functions as F"
      ],
      "execution_count": 25,
      "outputs": []
    },
    {
      "cell_type": "code",
      "metadata": {
        "id": "-YY28Lhz2x4C"
      },
      "source": [
        "#Defining function for withcolumn operation and then udf\n",
        "def func_divide(a1,a2):\n",
        "  return a1*100.0/float(a2)"
      ],
      "execution_count": 26,
      "outputs": []
    },
    {
      "cell_type": "code",
      "metadata": {
        "id": "eH_ls8ps2Wvt"
      },
      "source": [
        "\n",
        "divide_func_sp = F.udf(func_divide,FloatType())"
      ],
      "execution_count": 27,
      "outputs": []
    },
    {
      "cell_type": "code",
      "metadata": {
        "colab": {
          "base_uri": "https://localhost:8080/"
        },
        "id": "spndd7iJ2aSc",
        "outputId": "c21453c2-8818-4135-da90-e1fdd7d95120"
      },
      "source": [
        "divide_func_sp"
      ],
      "execution_count": 28,
      "outputs": [
        {
          "output_type": "execute_result",
          "data": {
            "text/plain": [
              "<function __main__.func_divide>"
            ]
          },
          "metadata": {
            "tags": []
          },
          "execution_count": 28
        }
      ]
    },
    {
      "cell_type": "code",
      "metadata": {
        "id": "HPcSZpRK21cp"
      },
      "source": [
        "#withColumn adds new column and applied the function to make new column\n",
        "df_host_popularity = df_host_popularity.withColumn('total_sum_reviews', F.lit(total_reviews))"
      ],
      "execution_count": 29,
      "outputs": []
    },
    {
      "cell_type": "code",
      "metadata": {
        "colab": {
          "base_uri": "https://localhost:8080/"
        },
        "id": "JhGGHQlo28pO",
        "outputId": "90cbe5fd-246a-4763-f17a-c3f9e72a5acc"
      },
      "source": [
        "df_host_popularity.show()"
      ],
      "execution_count": 30,
      "outputs": [
        {
          "output_type": "stream",
          "text": [
            "+--------+----------+-----------------+\n",
            "| host_id|sum_review|total_sum_reviews|\n",
            "+--------+----------+-----------------+\n",
            "|  291112|        35|          1133522|\n",
            "| 1384111|       103|          1133522|\n",
            "| 1597481|        13|          1133522|\n",
            "| 2108853|        18|          1133522|\n",
            "| 2429432|        27|          1133522|\n",
            "| 2530670|       134|          1133522|\n",
            "| 3432742|         2|          1133522|\n",
            "| 1360296|        13|          1133522|\n",
            "| 2124690|         1|          1133522|\n",
            "| 6414252|         1|          1133522|\n",
            "| 9637768|        47|          1133522|\n",
            "| 9947836|        87|          1133522|\n",
            "| 9430366|       159|          1133522|\n",
            "| 7974574|         5|          1133522|\n",
            "| 5907325|        32|          1133522|\n",
            "|13749425|       198|          1133522|\n",
            "| 5771331|        20|          1133522|\n",
            "| 9784206|       204|          1133522|\n",
            "| 4702135|         0|          1133522|\n",
            "|19239110|        25|          1133522|\n",
            "+--------+----------+-----------------+\n",
            "only showing top 20 rows\n",
            "\n"
          ],
          "name": "stdout"
        }
      ]
    },
    {
      "cell_type": "code",
      "metadata": {
        "id": "t11zcGVq2-96"
      },
      "source": [
        "#creating popularity_index column by diving each host_id reviews by total no. of reviews\n",
        "df_host_popularity = df_host_popularity.withColumn('popularity_index',divide_func_sp('sum_review','total_sum_reviews'))"
      ],
      "execution_count": 31,
      "outputs": []
    },
    {
      "cell_type": "code",
      "metadata": {
        "id": "MHx2rL254SIv"
      },
      "source": [
        "df_host_popularity = df_host_popularity.select('host_id','popularity_index')"
      ],
      "execution_count": 32,
      "outputs": []
    },
    {
      "cell_type": "code",
      "metadata": {
        "colab": {
          "base_uri": "https://localhost:8080/"
        },
        "id": "EMoKUGiJ4yoh",
        "outputId": "abbf3069-0b9d-47dc-8d49-045cfcc01172"
      },
      "source": [
        "df_host_popularity.show(10)"
      ],
      "execution_count": 33,
      "outputs": [
        {
          "output_type": "stream",
          "text": [
            "+-------+----------------+\n",
            "|host_id|popularity_index|\n",
            "+-------+----------------+\n",
            "| 291112|    0.0030877213|\n",
            "|1384111|    0.0090867225|\n",
            "|1597481|    0.0011468679|\n",
            "|2108853|     0.001587971|\n",
            "|2429432|    0.0023819564|\n",
            "|2530670|    0.0118215615|\n",
            "|3432742|    1.7644122E-4|\n",
            "|1360296|    0.0011468679|\n",
            "|2124690|     8.822061E-5|\n",
            "|6414252|     8.822061E-5|\n",
            "+-------+----------------+\n",
            "only showing top 10 rows\n",
            "\n"
          ],
          "name": "stdout"
        }
      ]
    },
    {
      "cell_type": "code",
      "metadata": {
        "id": "mP_M322j6CbH"
      },
      "source": [
        "#merging the popularity_index to the main dataframe\n",
        "df = df.join(df_host_popularity, \"host_id\", \"left\")"
      ],
      "execution_count": 34,
      "outputs": []
    },
    {
      "cell_type": "code",
      "metadata": {
        "colab": {
          "base_uri": "https://localhost:8080/"
        },
        "id": "3AdMxwKM773c",
        "outputId": "f5b5d82a-15a5-4b1c-b99a-8d751a5acb6f"
      },
      "source": [
        "df.show(2)"
      ],
      "execution_count": 35,
      "outputs": [
        {
          "output_type": "stream",
          "text": [
            "+-------+----+--------------------+---------+-------------------+-------------+--------+---------+---------------+-----+--------------+-----------------+-----------+-----------------+------------------------------+----------------+----------------+\n",
            "|host_id|  id|                name|host_name|neighbourhood_group|neighbourhood|latitude|longitude|      room_type|price|minimum_nights|number_of_reviews|last_review|reviews_per_month|calculated_host_listings_count|availability_365|popularity_index|\n",
            "+-------+----+--------------------+---------+-------------------+-------------+--------+---------+---------------+-----+--------------+-----------------+-----------+-----------------+------------------------------+----------------+----------------+\n",
            "|   2787|2539|Clean & quiet apt...|     John|           Brooklyn|   Kensington|40.64749|-73.97237|   Private room|  149|             1|                9| 2018-10-19|             0.21|                             6|             365|     0.009263163|\n",
            "|   2845|2595|Skylit Midtown Ca...| Jennifer|          Manhattan|      Midtown|40.75362|-73.98377|Entire home/apt|  225|             1|               45| 2019-05-21|             0.38|                             2|             355|     0.004058148|\n",
            "+-------+----+--------------------+---------+-------------------+-------------+--------+---------+---------------+-----+--------------+-----------------+-----------+-----------------+------------------------------+----------------+----------------+\n",
            "only showing top 2 rows\n",
            "\n"
          ],
          "name": "stdout"
        }
      ]
    },
    {
      "cell_type": "markdown",
      "metadata": {
        "id": "uERAT3c58MgU"
      },
      "source": [
        "#Finding out the top locations where people tend to stay for a longer duration (more than a week) and sorting those by their popularity index."
      ]
    },
    {
      "cell_type": "code",
      "metadata": {
        "colab": {
          "base_uri": "https://localhost:8080/"
        },
        "id": "j9jf2B0y7_DV",
        "outputId": "c0335cd7-28b1-41cb-a6e3-6ea14c02ca5a"
      },
      "source": [
        "#spark filter and sorting\n",
        "df.filter(df['minimum_nights'] > 10).orderBy('popularity_index', ascending=False).select(df['neighbourhood']).show(20)"
      ],
      "execution_count": 36,
      "outputs": [
        {
          "output_type": "stream",
          "text": [
            "+------------------+\n",
            "|     neighbourhood|\n",
            "+------------------+\n",
            "|       Murray Hill|\n",
            "|   Upper East Side|\n",
            "|       Murray Hill|\n",
            "|Financial District|\n",
            "|       Murray Hill|\n",
            "|Financial District|\n",
            "|       Murray Hill|\n",
            "|    Hell's Kitchen|\n",
            "|       Murray Hill|\n",
            "|Financial District|\n",
            "|       Murray Hill|\n",
            "|       Murray Hill|\n",
            "|           Midtown|\n",
            "|       Murray Hill|\n",
            "|  Theater District|\n",
            "|       Murray Hill|\n",
            "|           Chelsea|\n",
            "|       Murray Hill|\n",
            "|  Theater District|\n",
            "|  Theater District|\n",
            "+------------------+\n",
            "only showing top 20 rows\n",
            "\n"
          ],
          "name": "stdout"
        }
      ]
    },
    {
      "cell_type": "markdown",
      "metadata": {
        "id": "TQnZigkr8Tma"
      },
      "source": [
        "Finding out the most popular regions based on the host_id’s popularity_index"
      ]
    },
    {
      "cell_type": "code",
      "metadata": {
        "id": "FTcxKQ348Qgw"
      },
      "source": [
        "df_popular_regions = df.groupby('neighbourhood').agg(func.sum('popularity_index').alias('pop_reg'))"
      ],
      "execution_count": 37,
      "outputs": []
    },
    {
      "cell_type": "code",
      "metadata": {
        "colab": {
          "base_uri": "https://localhost:8080/"
        },
        "id": "LfYv4cbk_4BD",
        "outputId": "3376376c-208d-420a-c63b-a020948269e1"
      },
      "source": [
        "df_popular_regions.show()"
      ],
      "execution_count": 38,
      "outputs": [
        {
          "output_type": "stream",
          "text": [
            "+------------------+--------------------+\n",
            "|     neighbourhood|             pop_reg|\n",
            "+------------------+--------------------+\n",
            "|            Corona|  0.3798779395292513|\n",
            "|      Richmondtown|0.006969428155571222|\n",
            "|      Prince's Bay|0.002029074006713927|\n",
            "|       Westerleigh|0.001587970909895...|\n",
            "|        Mill Basin|0.006087222136557102|\n",
            "|      Civic Center| 0.09210231501492672|\n",
            "|        Douglaston|0.021966931177303195|\n",
            "|        Mount Hope| 0.06351883811294101|\n",
            "|       Marble Hill|  0.0169383569736965|\n",
            "|         Rego Park|   0.402727072883863|\n",
            "|     Dyker Heights| 0.07419353185105138|\n",
            "| Kew Gardens Hills| 0.03793486161157489|\n",
            "|      Dongan Hills| 0.01817344536539167|\n",
            "|Financial District|   26.01537540461868|\n",
            "|       Bay Terrace| 0.02302557899383828|\n",
            "|           Midtown|   6.244784004520625|\n",
            "|   Jackson Heights|  1.0536187172110658|\n",
            "|           Bayside|  0.1852632757218089|\n",
            "|    Hell's Kitchen|  15.650335770944366|\n",
            "|        Highbridge|  0.3594107596145477|\n",
            "+------------------+--------------------+\n",
            "only showing top 20 rows\n",
            "\n"
          ],
          "name": "stdout"
        }
      ]
    },
    {
      "cell_type": "code",
      "metadata": {
        "id": "6ZOsTE-i_6Fu"
      },
      "source": [
        "df_popular_regions = df_popular_regions.orderBy('pop_reg', ascending=False).toPandas().head(10)"
      ],
      "execution_count": 39,
      "outputs": []
    },
    {
      "cell_type": "code",
      "metadata": {
        "colab": {
          "base_uri": "https://localhost:8080/",
          "height": 204
        },
        "id": "19i5_bBR_8en",
        "outputId": "56f0b54d-a49d-4134-983b-989205ec843f"
      },
      "source": [
        "df_popular_regions.head()"
      ],
      "execution_count": 40,
      "outputs": [
        {
          "output_type": "execute_result",
          "data": {
            "text/html": [
              "<div>\n",
              "<style scoped>\n",
              "    .dataframe tbody tr th:only-of-type {\n",
              "        vertical-align: middle;\n",
              "    }\n",
              "\n",
              "    .dataframe tbody tr th {\n",
              "        vertical-align: top;\n",
              "    }\n",
              "\n",
              "    .dataframe thead th {\n",
              "        text-align: right;\n",
              "    }\n",
              "</style>\n",
              "<table border=\"1\" class=\"dataframe\">\n",
              "  <thead>\n",
              "    <tr style=\"text-align: right;\">\n",
              "      <th></th>\n",
              "      <th>neighbourhood</th>\n",
              "      <th>pop_reg</th>\n",
              "    </tr>\n",
              "  </thead>\n",
              "  <tbody>\n",
              "    <tr>\n",
              "      <th>0</th>\n",
              "      <td>Financial District</td>\n",
              "      <td>26.015375</td>\n",
              "    </tr>\n",
              "    <tr>\n",
              "      <th>1</th>\n",
              "      <td>Bedford-Stuyvesant</td>\n",
              "      <td>23.880260</td>\n",
              "    </tr>\n",
              "    <tr>\n",
              "      <th>2</th>\n",
              "      <td>Hell's Kitchen</td>\n",
              "      <td>15.650336</td>\n",
              "    </tr>\n",
              "    <tr>\n",
              "      <th>3</th>\n",
              "      <td>Harlem</td>\n",
              "      <td>12.463102</td>\n",
              "    </tr>\n",
              "    <tr>\n",
              "      <th>4</th>\n",
              "      <td>Williamsburg</td>\n",
              "      <td>12.265223</td>\n",
              "    </tr>\n",
              "  </tbody>\n",
              "</table>\n",
              "</div>"
            ],
            "text/plain": [
              "        neighbourhood    pop_reg\n",
              "0  Financial District  26.015375\n",
              "1  Bedford-Stuyvesant  23.880260\n",
              "2      Hell's Kitchen  15.650336\n",
              "3              Harlem  12.463102\n",
              "4        Williamsburg  12.265223"
            ]
          },
          "metadata": {
            "tags": []
          },
          "execution_count": 40
        }
      ]
    },
    {
      "cell_type": "code",
      "metadata": {
        "colab": {
          "base_uri": "https://localhost:8080/",
          "height": 409
        },
        "id": "xPCMdsPn_-mY",
        "outputId": "9a0ea868-067e-47ec-f703-2a403c1b410a"
      },
      "source": [
        "plt.figure(figsize=(16, 6))\n",
        "sns.barplot(x='neighbourhood', y='pop_reg', data=df_popular_regions)"
      ],
      "execution_count": 41,
      "outputs": [
        {
          "output_type": "execute_result",
          "data": {
            "text/plain": [
              "<matplotlib.axes._subplots.AxesSubplot at 0x7f902c8a80f0>"
            ]
          },
          "metadata": {
            "tags": []
          },
          "execution_count": 41
        },
        {
          "output_type": "display_data",
          "data": {
            "image/png": "[encoded data removed]",
            "text/plain": [
              "<Figure size 1152x432 with 1 Axes>"
            ]
          },
          "metadata": {
            "tags": [],
            "needs_background": "light"
          }
        }
      ]
    },
    {
      "cell_type": "markdown",
      "metadata": {
        "id": "ytFMaSrbAGks"
      },
      "source": [
        "* Calculating host_id’s popularity in its neighbourhood \n",
        "* Creating a column host_neighbourhood_popularity by calculating relative percentage of reviews of host among total reviews in that region.\n"
      ]
    },
    {
      "cell_type": "code",
      "metadata": {
        "id": "tJ1kvZQQAA1z"
      },
      "source": [
        "#Summing no. of reviews for each neighbourhood\n",
        "df_neighbourhood_sum = df.groupby('neighbourhood').agg(func.sum('number_of_reviews').alias('sum_reviews_ne'))"
      ],
      "execution_count": 42,
      "outputs": []
    },
    {
      "cell_type": "code",
      "metadata": {
        "colab": {
          "base_uri": "https://localhost:8080/"
        },
        "id": "oyvxRsIVALQv",
        "outputId": "b6fb147e-2f6c-44dc-ba13-12eda19ed2ee"
      },
      "source": [
        "df_neighbourhood_sum.show(5)"
      ],
      "execution_count": 43,
      "outputs": [
        {
          "output_type": "stream",
          "text": [
            "+-------------+--------------+\n",
            "|neighbourhood|sum_reviews_ne|\n",
            "+-------------+--------------+\n",
            "|       Corona|          1806|\n",
            "| Richmondtown|            79|\n",
            "| Prince's Bay|            23|\n",
            "|  Westerleigh|            18|\n",
            "|   Mill Basin|            69|\n",
            "+-------------+--------------+\n",
            "only showing top 5 rows\n",
            "\n"
          ],
          "name": "stdout"
        }
      ]
    },
    {
      "cell_type": "code",
      "metadata": {
        "id": "kpBcgj7YANS4"
      },
      "source": [
        "df_neighbourhood_host_sum = df.groupby('host_id','neighbourhood').agg(func.sum('number_of_reviews').alias('sum_reviews_id_ne'))"
      ],
      "execution_count": 44,
      "outputs": []
    },
    {
      "cell_type": "code",
      "metadata": {
        "colab": {
          "base_uri": "https://localhost:8080/"
        },
        "id": "aW3JI1kMAQv2",
        "outputId": "f8f5717a-ac93-4bf4-e967-1affe6cf2cb5"
      },
      "source": [
        "df_neighbourhood_host_sum.show()"
      ],
      "execution_count": 45,
      "outputs": [
        {
          "output_type": "stream",
          "text": [
            "+--------+--------------------+-----------------+\n",
            "| host_id|       neighbourhood|sum_reviews_id_ne|\n",
            "+--------+--------------------+-----------------+\n",
            "|  829652|            Gramercy|              105|\n",
            "| 1269455|        West Village|               37|\n",
            "| 1498424|         Fort Greene|               35|\n",
            "| 1633100|            Bushwick|               42|\n",
            "|  160565|  Bedford-Stuyvesant|                3|\n",
            "| 4241953|            Flushing|               81|\n",
            "| 3898812|             Astoria|               58|\n",
            "| 6873370|         Sunset Park|               24|\n",
            "|  173980|  Bedford-Stuyvesant|              181|\n",
            "| 1472225|        East Village|               59|\n",
            "|11192207|     Upper West Side|                2|\n",
            "|10930874|        Forest Hills|                1|\n",
            "|16288928|          Park Slope|              136|\n",
            "| 9604972|     Lower East Side|                1|\n",
            "|17604079|              Harlem|                1|\n",
            "|17773625|             Tribeca|               73|\n",
            "| 2119276|     Upper East Side|               20|\n",
            "|21019043|        Clinton Hill|               14|\n",
            "|20289059|     Upper East Side|              160|\n",
            "| 2770375|Prospect-Lefferts...|               12|\n",
            "+--------+--------------------+-----------------+\n",
            "only showing top 20 rows\n",
            "\n"
          ],
          "name": "stdout"
        }
      ]
    },
    {
      "cell_type": "code",
      "metadata": {
        "id": "th7ke_dRAT7_"
      },
      "source": [
        "#merging column\n",
        "df_neighbourhood_host_merged = df_neighbourhood_host_sum.join(df_neighbourhood_sum,'neighbourhood','left')"
      ],
      "execution_count": 46,
      "outputs": []
    },
    {
      "cell_type": "code",
      "metadata": {
        "colab": {
          "base_uri": "https://localhost:8080/"
        },
        "id": "3OTy40RSAWF1",
        "outputId": "0e137590-acde-4f98-997a-6e255563ff01"
      },
      "source": [
        "df_neighbourhood_host_merged.filter(df['neighbourhood'] == 'Williamsburg').orderBy('host_id', ascending=True).show(10)"
      ],
      "execution_count": 47,
      "outputs": [
        {
          "output_type": "stream",
          "text": [
            "+-------------+-------+-----------------+--------------+\n",
            "|neighbourhood|host_id|sum_reviews_id_ne|sum_reviews_ne|\n",
            "+-------------+-------+-----------------+--------------+\n",
            "| Williamsburg|   2438|                1|         85368|\n",
            "| Williamsburg|  10889|              383|         85368|\n",
            "| Williamsburg|  15991|              148|         85368|\n",
            "| Williamsburg|  19402|               37|         85368|\n",
            "| Williamsburg|  21207|                9|         85368|\n",
            "| Williamsburg|  21306|                2|         85368|\n",
            "| Williamsburg|  39304|                0|         85368|\n",
            "| Williamsburg|  45384|               20|         85368|\n",
            "| Williamsburg|  51414|                9|         85368|\n",
            "| Williamsburg|  52043|               53|         85368|\n",
            "+-------------+-------+-----------------+--------------+\n",
            "only showing top 10 rows\n",
            "\n"
          ],
          "name": "stdout"
        }
      ]
    },
    {
      "cell_type": "code",
      "metadata": {
        "id": "rxiKf-zQAYwk"
      },
      "source": [
        "def func_divide(a1,a2):\n",
        "  if(a2!=0):\n",
        "    ans = a1*100.0/float(a2)\n",
        "  else:\n",
        "    ans = 0\n",
        "  return ans"
      ],
      "execution_count": 48,
      "outputs": []
    },
    {
      "cell_type": "code",
      "metadata": {
        "id": "kaBv9x7uAeY-"
      },
      "source": [
        "divide_func_sp = F.udf(func_divide,FloatType())"
      ],
      "execution_count": 49,
      "outputs": []
    },
    {
      "cell_type": "code",
      "metadata": {
        "id": "JA40DttjAg_V"
      },
      "source": [
        "df_neighbourhood_host_merged = df_neighbourhood_host_merged.withColumn('host_neighbourhood_popularity',divide_func_sp('sum_reviews_id_ne','sum_reviews_ne'))"
      ],
      "execution_count": 50,
      "outputs": []
    },
    {
      "cell_type": "code",
      "metadata": {
        "colab": {
          "base_uri": "https://localhost:8080/"
        },
        "id": "AcocF7A1Ajbe",
        "outputId": "30aa8ecc-31b5-48d6-ce75-06467cea09a3"
      },
      "source": [
        "df_neighbourhood_host_merged.show()"
      ],
      "execution_count": 51,
      "outputs": [
        {
          "output_type": "stream",
          "text": [
            "+-------------+---------+-----------------+--------------+-----------------------------+\n",
            "|neighbourhood|  host_id|sum_reviews_id_ne|sum_reviews_ne|host_neighbourhood_popularity|\n",
            "+-------------+---------+-----------------+--------------+-----------------------------+\n",
            "|       Corona|265288059|                7|          1806|                    0.3875969|\n",
            "|       Corona|176679165|              156|          1806|                     8.637874|\n",
            "|       Corona| 32446721|              100|          1806|                    5.5370984|\n",
            "|       Corona|124042625|                4|          1806|                   0.22148395|\n",
            "|       Corona| 44620317|              114|          1806|                    6.3122926|\n",
            "|       Corona| 34129674|                0|          1806|                          0.0|\n",
            "|       Corona|  5261297|               45|          1806|                    2.4916945|\n",
            "|       Corona| 98697139|               43|          1806|                    2.3809524|\n",
            "|       Corona| 31307789|               29|          1806|                    1.6057585|\n",
            "|       Corona|253304582|                4|          1806|                   0.22148395|\n",
            "|       Corona|215778245|               65|          1806|                    3.5991142|\n",
            "|       Corona| 38260715|               74|          1806|                     4.097453|\n",
            "|       Corona|190096034|              166|          1806|                     9.191584|\n",
            "|       Corona| 83616984|               60|          1806|                    3.3222592|\n",
            "|       Corona|155989291|               10|          1806|                   0.55370986|\n",
            "|       Corona|253118370|                6|          1806|                   0.33222592|\n",
            "|       Corona|223087887|               33|          1806|                    1.8272425|\n",
            "|       Corona| 69117812|              105|          1806|                    5.8139534|\n",
            "|       Corona| 12621774|               69|          1806|                    3.8205981|\n",
            "|       Corona|155529225|                0|          1806|                          0.0|\n",
            "+-------------+---------+-----------------+--------------+-----------------------------+\n",
            "only showing top 20 rows\n",
            "\n"
          ],
          "name": "stdout"
        }
      ]
    },
    {
      "cell_type": "code",
      "metadata": {
        "colab": {
          "base_uri": "https://localhost:8080/"
        },
        "id": "RC7IQhS3Alpt",
        "outputId": "7f38cb46-0025-4bab-fef0-606d22c3c3a9"
      },
      "source": [
        "df_neighbourhood_host_merged.show()\n",
        "#error when trying to sort according to the output column i.e., host_neighbourhood_popularity"
      ],
      "execution_count": 52,
      "outputs": [
        {
          "output_type": "stream",
          "text": [
            "+-------------+---------+-----------------+--------------+-----------------------------+\n",
            "|neighbourhood|  host_id|sum_reviews_id_ne|sum_reviews_ne|host_neighbourhood_popularity|\n",
            "+-------------+---------+-----------------+--------------+-----------------------------+\n",
            "|       Corona|265288059|                7|          1806|                    0.3875969|\n",
            "|       Corona|176679165|              156|          1806|                     8.637874|\n",
            "|       Corona| 32446721|              100|          1806|                    5.5370984|\n",
            "|       Corona|124042625|                4|          1806|                   0.22148395|\n",
            "|       Corona| 44620317|              114|          1806|                    6.3122926|\n",
            "|       Corona| 34129674|                0|          1806|                          0.0|\n",
            "|       Corona|  5261297|               45|          1806|                    2.4916945|\n",
            "|       Corona| 98697139|               43|          1806|                    2.3809524|\n",
            "|       Corona| 31307789|               29|          1806|                    1.6057585|\n",
            "|       Corona|253304582|                4|          1806|                   0.22148395|\n",
            "|       Corona|215778245|               65|          1806|                    3.5991142|\n",
            "|       Corona| 38260715|               74|          1806|                     4.097453|\n",
            "|       Corona|190096034|              166|          1806|                     9.191584|\n",
            "|       Corona| 83616984|               60|          1806|                    3.3222592|\n",
            "|       Corona|155989291|               10|          1806|                   0.55370986|\n",
            "|       Corona|253118370|                6|          1806|                   0.33222592|\n",
            "|       Corona|223087887|               33|          1806|                    1.8272425|\n",
            "|       Corona| 69117812|              105|          1806|                    5.8139534|\n",
            "|       Corona| 12621774|               69|          1806|                    3.8205981|\n",
            "|       Corona|155529225|                0|          1806|                          0.0|\n",
            "+-------------+---------+-----------------+--------------+-----------------------------+\n",
            "only showing top 20 rows\n",
            "\n"
          ],
          "name": "stdout"
        }
      ]
    },
    {
      "cell_type": "code",
      "metadata": {
        "id": "TYOja7N5AqXO"
      },
      "source": [
        "df_neighbourhood_host_merged = df_neighbourhood_host_merged.select('host_id','neighbourhood','host_neighbourhood_popularity')"
      ],
      "execution_count": 53,
      "outputs": []
    },
    {
      "cell_type": "code",
      "metadata": {
        "colab": {
          "base_uri": "https://localhost:8080/"
        },
        "id": "uejA7JMvA8XP",
        "outputId": "6d4bf733-1e83-4a13-c8f5-077b5e8dd7e0"
      },
      "source": [
        "df_neighbourhood_host_merged.show(5)"
      ],
      "execution_count": 54,
      "outputs": [
        {
          "output_type": "stream",
          "text": [
            "+---------+-------------+-----------------------------+\n",
            "|  host_id|neighbourhood|host_neighbourhood_popularity|\n",
            "+---------+-------------+-----------------------------+\n",
            "|265288059|       Corona|                    0.3875969|\n",
            "|176679165|       Corona|                     8.637874|\n",
            "| 32446721|       Corona|                    5.5370984|\n",
            "|124042625|       Corona|                   0.22148395|\n",
            "| 44620317|       Corona|                    6.3122926|\n",
            "+---------+-------------+-----------------------------+\n",
            "only showing top 5 rows\n",
            "\n"
          ],
          "name": "stdout"
        }
      ]
    },
    {
      "cell_type": "code",
      "metadata": {
        "colab": {
          "base_uri": "https://localhost:8080/"
        },
        "id": "EQC_3EWOBLxf",
        "outputId": "89e55de4-a392-45d4-d59c-166e127e8416"
      },
      "source": [
        "#To validate results, for baychester the sum of all the host_neighbourhood_popularity = 100.0\n",
        "df_neighbourhood_host_merged.filter(df_neighbourhood_host_merged['neighbourhood']=='Baychester').show()"
      ],
      "execution_count": 55,
      "outputs": [
        {
          "output_type": "stream",
          "text": [
            "+---------+-------------+-----------------------------+\n",
            "|  host_id|neighbourhood|host_neighbourhood_popularity|\n",
            "+---------+-------------+-----------------------------+\n",
            "|209306758|   Baychester|                     6.774194|\n",
            "| 64425305|   Baychester|                    0.9677419|\n",
            "|246653349|   Baychester|                     3.548387|\n",
            "|129890157|   Baychester|                          0.0|\n",
            "| 57165692|   Baychester|                     88.70968|\n",
            "+---------+-------------+-----------------------------+\n",
            "\n"
          ],
          "name": "stdout"
        }
      ]
    },
    {
      "cell_type": "code",
      "metadata": {
        "id": "Z6GEaPWEBODn"
      },
      "source": [
        "df = df.join(df_neighbourhood_host_merged,['host_id','neighbourhood'],'left')"
      ],
      "execution_count": 56,
      "outputs": []
    },
    {
      "cell_type": "code",
      "metadata": {
        "colab": {
          "base_uri": "https://localhost:8080/"
        },
        "id": "RVCYGkBiBQQD",
        "outputId": "c56b4fba-a0a7-432f-9d31-633e02049222"
      },
      "source": [
        "df.filter(df['host_neighbourhood_popularity']>90).show(2)"
      ],
      "execution_count": 57,
      "outputs": [
        {
          "output_type": "stream",
          "text": [
            "+--------+-------------+--------+--------------------+---------+-------------------+--------+---------+---------------+-----+--------------+-----------------+-----------+-----------------+------------------------------+----------------+----------------+-----------------------------+\n",
            "| host_id|neighbourhood|      id|                name|host_name|neighbourhood_group|latitude|longitude|      room_type|price|minimum_nights|number_of_reviews|last_review|reviews_per_month|calculated_host_listings_count|availability_365|popularity_index|host_neighbourhood_popularity|\n",
            "+--------+-------------+--------+--------------------+---------+-------------------+--------+---------+---------------+-----+--------------+-----------------+-----------+-----------------+------------------------------+----------------+----------------+-----------------------------+\n",
            "| 6402171|    Rossville|26258351|Escape NYC in the...|    Taryn|      Staten Island| 40.5479|-74.21017|Entire home/apt|   75|             3|               21| 2019-07-01|             1.69|                             1|              59|    0.0018526327|                        100.0|\n",
            "|18996093|  Little Neck|20227428|Douglaston Apartm...|  Leonard|             Queens|40.75794|-73.72956|   Private room|   45|             1|               12| 2019-06-22|             0.55|                             5|             133|    0.0033523832|                     92.30769|\n",
            "+--------+-------------+--------+--------------------+---------+-------------------+--------+---------+---------------+-----+--------------+-----------------+-----------+-----------------+------------------------------+----------------+----------------+-----------------------------+\n",
            "only showing top 2 rows\n",
            "\n"
          ],
          "name": "stdout"
        }
      ]
    },
    {
      "cell_type": "markdown",
      "metadata": {
        "id": "-twCO9ZH2n5u"
      },
      "source": [
        "Finding:\n",
        "\n",
        "* Maximum revenue in Private Rooms\n",
        "* Minimum revenue in Private Rooms\n",
        "* Maximum revenue in Entire Homes\n",
        "* Minimum revenue in Entire Homes"
      ]
    },
    {
      "cell_type": "code",
      "metadata": {
        "id": "T8UztL3-BSVF"
      },
      "source": [
        "#Filtering only private room and entire room\n",
        "df_neighbourhood_room_type = df.filter(df['room_type'] != 'Shared room')"
      ],
      "execution_count": 58,
      "outputs": []
    },
    {
      "cell_type": "code",
      "metadata": {
        "id": "_TpJW9ug2vbE"
      },
      "source": [
        "df_neighbourhood_room_type = df_neighbourhood_room_type.groupby('neighbourhood','room_type').agg(func.sum('price').alias('price_sum'))"
      ],
      "execution_count": 59,
      "outputs": []
    },
    {
      "cell_type": "code",
      "metadata": {
        "colab": {
          "base_uri": "https://localhost:8080/"
        },
        "id": "lnUESnGl8IAy",
        "outputId": "8c32ced7-b458-499d-9f34-480d2b831d8d"
      },
      "source": [
        "df_neighbourhood_room_type.show()"
      ],
      "execution_count": 60,
      "outputs": [
        {
          "output_type": "stream",
          "text": [
            "+-----------------+---------------+---------+\n",
            "|    neighbourhood|      room_type|price_sum|\n",
            "+-----------------+---------------+---------+\n",
            "|Battery Park City|Entire home/apt|    23450|\n",
            "|   Morris Heights|Entire home/apt|      421|\n",
            "|     Coney Island|   Private room|      480|\n",
            "|Battery Park City|   Private room|     2224|\n",
            "|        Unionport|   Private room|      225|\n",
            "|   Williamsbridge|Entire home/apt|     2818|\n",
            "|          Arverne|   Private room|     2369|\n",
            "|       Morrisania|   Private room|      623|\n",
            "|       Kensington|   Private room|     5819|\n",
            "|    Schuylerville|   Private room|      624|\n",
            "|             NoHo|Entire home/apt|    21474|\n",
            "|      Murray Hill|   Private room|    10335|\n",
            "|        Laurelton|   Private room|      552|\n",
            "|         Glendale|Entire home/apt|     3420|\n",
            "|      Boerum Hill|Entire home/apt|    27624|\n",
            "|       Ozone Park|Entire home/apt|     3649|\n",
            "|     Williamsburg|   Private room|   170841|\n",
            "|  Upper West Side|Entire home/apt|   328724|\n",
            "|  East Morrisania|   Private room|      470|\n",
            "|      Hunts Point|Entire home/apt|      150|\n",
            "+-----------------+---------------+---------+\n",
            "only showing top 20 rows\n",
            "\n"
          ],
          "name": "stdout"
        }
      ]
    },
    {
      "cell_type": "code",
      "metadata": {
        "id": "-US8eZCw8LGj"
      },
      "source": [
        "#pivot operation \n",
        "df_neighbourhood_room_type = df_neighbourhood_room_type.groupby('neighbourhood').pivot('room_type').sum('price_sum')"
      ],
      "execution_count": 61,
      "outputs": []
    },
    {
      "cell_type": "code",
      "metadata": {
        "colab": {
          "base_uri": "https://localhost:8080/"
        },
        "id": "3bnsuG318M2J",
        "outputId": "334e2c5c-b5a7-4d9c-ee87-eb62e17d8c8f"
      },
      "source": [
        "df_neighbourhood_room_type.show()"
      ],
      "execution_count": 62,
      "outputs": [
        {
          "output_type": "stream",
          "text": [
            "+------------------+---------------+------------+\n",
            "|     neighbourhood|Entire home/apt|Private room|\n",
            "+------------------+---------------+------------+\n",
            "|            Corona|           1549|        1485|\n",
            "|      Prince's Bay|           1520|         118|\n",
            "|      Richmondtown|             78|        null|\n",
            "|        Mill Basin|            719|        null|\n",
            "|       Westerleigh|            103|          40|\n",
            "|      Civic Center|           7925|        2056|\n",
            "|        Douglaston|            402|         215|\n",
            "|        Mount Hope|           1079|         471|\n",
            "|       Marble Hill|            459|         611|\n",
            "|         Rego Park|           5085|        3486|\n",
            "|     Dyker Heights|            804|         278|\n",
            "| Kew Gardens Hills|           2052|         868|\n",
            "|      Dongan Hills|            405|         151|\n",
            "|       Bay Terrace|            631|         189|\n",
            "|Financial District|         138853|       26831|\n",
            "|           Bayside|           4616|        1544|\n",
            "|   Jackson Heights|           7232|        7137|\n",
            "|           Midtown|         330364|      103149|\n",
            "|    Hell's Kitchen|         301786|       88597|\n",
            "|        Highbridge|            753|        1167|\n",
            "+------------------+---------------+------------+\n",
            "only showing top 20 rows\n",
            "\n"
          ],
          "name": "stdout"
        }
      ]
    },
    {
      "cell_type": "code",
      "metadata": {
        "colab": {
          "base_uri": "https://localhost:8080/"
        },
        "id": "dVQ-QV7p8T__",
        "outputId": "45a8f210-9092-4a09-926d-7e2a2a6f42d4"
      },
      "source": [
        "#Maximum revenue in Private Rooms\n",
        "df_neighbourhood_room_type.orderBy('Private room', ascending=False).show(1)"
      ],
      "execution_count": 63,
      "outputs": [
        {
          "output_type": "stream",
          "text": [
            "+-------------+---------------+------------+\n",
            "|neighbourhood|Entire home/apt|Private room|\n",
            "+-------------+---------------+------------+\n",
            "| Williamsburg|         389426|      170841|\n",
            "+-------------+---------------+------------+\n",
            "only showing top 1 row\n",
            "\n"
          ],
          "name": "stdout"
        }
      ]
    },
    {
      "cell_type": "code",
      "metadata": {
        "id": "sOf_2DYk8Wh-"
      },
      "source": [
        "df_min = df_neighbourhood_room_type.orderBy('Private room', ascending=True)"
      ],
      "execution_count": 64,
      "outputs": []
    },
    {
      "cell_type": "code",
      "metadata": {
        "colab": {
          "base_uri": "https://localhost:8080/"
        },
        "id": "XyotSztP8Yht",
        "outputId": "12c81b96-6cf6-46f2-9b59-0c82919e6992"
      },
      "source": [
        "#Minimum revenue in Private Rooms after filetering out null values\n",
        "df_min[df_min['Private room'].isNotNull()].show(1)"
      ],
      "execution_count": 65,
      "outputs": [
        {
          "output_type": "stream",
          "text": [
            "+-------------+---------------+------------+\n",
            "|neighbourhood|Entire home/apt|Private room|\n",
            "+-------------+---------------+------------+\n",
            "| Graniteville|            186|          20|\n",
            "+-------------+---------------+------------+\n",
            "only showing top 1 row\n",
            "\n"
          ],
          "name": "stdout"
        }
      ]
    },
    {
      "cell_type": "code",
      "metadata": {
        "colab": {
          "base_uri": "https://localhost:8080/"
        },
        "id": "kFtEkD-E8bDz",
        "outputId": "71a8370b-69f0-445a-a290-38437fc43454"
      },
      "source": [
        "##minimum revenue in Entire home/apt Rooms\n",
        "df_neighbourhood_room_type.orderBy('Entire home/apt', ascending=True).filter(df_neighbourhood_room_type['Entire home/apt'].isNotNull()).show(1)"
      ],
      "execution_count": 66,
      "outputs": [
        {
          "output_type": "stream",
          "text": [
            "+-------------+---------------+------------+\n",
            "|neighbourhood|Entire home/apt|Private room|\n",
            "+-------------+---------------+------------+\n",
            "|     New Dorp|             57|        null|\n",
            "+-------------+---------------+------------+\n",
            "only showing top 1 row\n",
            "\n"
          ],
          "name": "stdout"
        }
      ]
    },
    {
      "cell_type": "code",
      "metadata": {
        "colab": {
          "base_uri": "https://localhost:8080/"
        },
        "id": "a4WF81NG8dA5",
        "outputId": "28b168a7-02d9-48b1-fa55-7f557f8e19ed"
      },
      "source": [
        "###maximum revenue in Entire home/apt Rooms\n",
        "\n",
        "df_neighbourhood_room_type.orderBy('Entire home/apt', ascending=False).show(1)"
      ],
      "execution_count": 67,
      "outputs": [
        {
          "output_type": "stream",
          "text": [
            "+-------------+---------------+------------+\n",
            "|neighbourhood|Entire home/apt|Private room|\n",
            "+-------------+---------------+------------+\n",
            "| Williamsburg|         389426|      170841|\n",
            "+-------------+---------------+------------+\n",
            "only showing top 1 row\n",
            "\n"
          ],
          "name": "stdout"
        }
      ]
    },
    {
      "cell_type": "markdown",
      "metadata": {
        "id": "riZ4ZSgt8ihx"
      },
      "source": [
        "#Calculating the average price income for private rooms and entire homes for each of the neighbourhoods "
      ]
    },
    {
      "cell_type": "code",
      "metadata": {
        "id": "ep0vFOOo8e-R"
      },
      "source": [
        "df_neighbourhood_room_type_mean = df.filter(df['room_type'] != 'Shared room')"
      ],
      "execution_count": 68,
      "outputs": []
    },
    {
      "cell_type": "code",
      "metadata": {
        "id": "N9oYSVXl8mFh"
      },
      "source": [
        "df_neighbourhood_room_type_mean = df_neighbourhood_room_type_mean.groupby('neighbourhood','room_type').agg(func.mean('price').alias('average_region_price'))"
      ],
      "execution_count": 69,
      "outputs": []
    },
    {
      "cell_type": "code",
      "metadata": {
        "id": "-xGGfvLf8nv_"
      },
      "source": [
        "df_neighbourhood_room_type_mean_pivot = df_neighbourhood_room_type_mean.groupby('neighbourhood').pivot('room_type').sum('average_region_price')"
      ],
      "execution_count": 70,
      "outputs": []
    },
    {
      "cell_type": "code",
      "metadata": {
        "colab": {
          "base_uri": "https://localhost:8080/"
        },
        "id": "H-_NgwtB8tIF",
        "outputId": "655c2e25-46ec-47fd-e936-cc18e85fbb54"
      },
      "source": [
        "\n",
        "df_neighbourhood_room_type_mean_pivot.show()"
      ],
      "execution_count": 71,
      "outputs": [
        {
          "output_type": "stream",
          "text": [
            "+------------------+------------------+------------------+\n",
            "|     neighbourhood|   Entire home/apt|      Private room|\n",
            "+------------------+------------------+------------------+\n",
            "|            Corona|119.15384615384616|              55.0|\n",
            "|      Prince's Bay| 506.6666666666667|             118.0|\n",
            "|      Richmondtown|              78.0|              null|\n",
            "|        Mill Basin|            179.75|              null|\n",
            "|       Westerleigh|             103.0|              40.0|\n",
            "|      Civic Center|226.42857142857142|120.94117647058823|\n",
            "|        Douglaston|             134.0|             53.75|\n",
            "|        Mount Hope|             107.9|              47.1|\n",
            "|       Marble Hill|              91.8| 87.28571428571429|\n",
            "|         Rego Park|           127.125| 59.08474576271186|\n",
            "|     Dyker Heights|114.85714285714286|              69.5|\n",
            "| Kew Gardens Hills|120.70588235294117| 96.44444444444444|\n",
            "|      Dongan Hills|            101.25|50.333333333333336|\n",
            "|       Bay Terrace|210.33333333333334|              94.5|\n",
            "|Financial District|            242.75|165.62345679012347|\n",
            "|           Bayside| 355.0769230769231| 59.38461538461539|\n",
            "|   Jackson Heights| 124.6896551724138|63.723214285714285|\n",
            "|           Midtown| 301.4270072992701|244.42890995260663|\n",
            "|    Hell's Kitchen|254.24262847514743|133.02852852852854|\n",
            "|        Highbridge|107.57142857142857|             58.35|\n",
            "+------------------+------------------+------------------+\n",
            "only showing top 20 rows\n",
            "\n"
          ],
          "name": "stdout"
        }
      ]
    },
    {
      "cell_type": "code",
      "metadata": {
        "id": "VHMPXlkO_xb0"
      },
      "source": [
        "df_neighbourhood_room_type_mean_pivot = df_neighbourhood_room_type_mean_pivot.toPandas()"
      ],
      "execution_count": 72,
      "outputs": []
    },
    {
      "cell_type": "code",
      "metadata": {
        "colab": {
          "base_uri": "https://localhost:8080/",
          "height": 515
        },
        "id": "BaKE_LWN_0D6",
        "outputId": "6647273f-6a26-4236-d6f0-4a7e43fad1cb"
      },
      "source": [
        "#Plotting \n",
        "plt.figure(figsize=(60, 80))\n",
        "labels = []\n",
        "import matplotlib.pyplot as plt\n",
        "ax=df_neighbourhood_room_type_mean_pivot.sort_values('Private room', ascending=False).head().plot(kind='bar', width = 0.5)\n",
        "ax.set_xlabel('neighbourhood', fontsize = 20)\n",
        "ax.set_ylabel('average_price', fontsize = 20)\n",
        "fig_size = plt.rcParams[\"figure.figsize\"]\n",
        "fig_size[0] = 20\n",
        "fig_size[1] = 10\n",
        "a = [item.get_text() for item in ax.get_xticklabels()]  #to get labels as they are coming as index\n",
        "for i in a:\n",
        "  labels.append(df_neighbourhood_room_type_mean_pivot['neighbourhood'][int(i)])\n",
        "ax.set_xticklabels(labels)  #setting xticks as neighbourhood name\n",
        "ax = plt.gca()\n",
        "for tick in ax.xaxis.get_major_ticks():\n",
        "    tick.label.set_fontsize(20) \n",
        "    tick.label.set_rotation('horizontal')\n",
        "for tick in ax.yaxis.get_major_ticks():\n",
        "    tick.label.set_fontsize(16)     \n",
        "plt.rcParams[\"figure.figsize\"] = fig_size\n",
        "plt.legend(prop={'size':'15'})\n",
        "plt.show(ax)"
      ],
      "execution_count": 82,
      "outputs": [
        {
          "output_type": "display_data",
          "data": {
            "text/plain": [
              "<Figure size 4320x5760 with 0 Axes>"
            ]
          },
          "metadata": {
            "tags": []
          }
        },
        {
          "output_type": "display_data",
          "data": {
            "image/png": "[encoded data removed]",
            "text/plain": [
              "<Figure size 1440x720 with 1 Axes>"
            ]
          },
          "metadata": {
            "tags": [],
            "needs_background": "light"
          }
        }
      ]
    },
    {
      "cell_type": "markdown",
      "metadata": {
        "id": "-1AkT13m_5Zr"
      },
      "source": [
        "# Creating a column depicting relative price difference of that host with respect to the neighbourhood’s average pricing."
      ]
    },
    {
      "cell_type": "code",
      "metadata": {
        "id": "qLE3nDeo_25T"
      },
      "source": [
        "df = df.join(df_neighbourhood_room_type_mean,['neighbourhood','room_type'],'left')"
      ],
      "execution_count": 74,
      "outputs": []
    },
    {
      "cell_type": "code",
      "metadata": {
        "colab": {
          "base_uri": "https://localhost:8080/"
        },
        "id": "S4G9jb_M_9eZ",
        "outputId": "614cac61-190c-4b47-da07-2787da4af385"
      },
      "source": [
        "df.filter(df['neighbourhood'] == 'Kensington').show()"
      ],
      "execution_count": 75,
      "outputs": [
        {
          "output_type": "stream",
          "text": [
            "+-------------+------------+---------+--------+--------------------+---------+-------------------+--------+---------+-----+--------------+-----------------+-----------+-----------------+------------------------------+----------------+----------------+-----------------------------+--------------------+\n",
            "|neighbourhood|   room_type|  host_id|      id|                name|host_name|neighbourhood_group|latitude|longitude|price|minimum_nights|number_of_reviews|last_review|reviews_per_month|calculated_host_listings_count|availability_365|popularity_index|host_neighbourhood_popularity|average_region_price|\n",
            "+-------------+------------+---------+--------+--------------------+---------+-------------------+--------+---------+-----+--------------+-----------------+-----------+-----------------+------------------------------+----------------+----------------+-----------------------------+--------------------+\n",
            "|   Kensington|Private room|  6755111| 1239293|Cozy Retreat in B...|  Jessica|           Brooklyn| 40.6412| -73.9786|   75|             2|                8| 2014-01-07|             0.11|                             1|             312|    7.0576486E-4|                   0.26917902|   59.37755102040816|\n",
            "|   Kensington|Private room|158338077|21739264|   423 ocean parkway| Muhammad|           Brooklyn|40.63929| -73.9718|   67|             1|               29| 2019-06-16|             1.79|                             2|             143|    0.0034406036|                    1.3122476|   59.37755102040816|\n",
            "|   Kensington|Private room|158338077|26298570|Private Room in b...| Muhammad|           Brooklyn|40.63743|-73.97229|   67|             1|               10| 2019-04-28|             0.83|                             2|             365|    0.0034406036|                    1.3122476|   59.37755102040816|\n",
            "|   Kensington|Private room| 29642992| 5717674|Welcome to Brooklyn!|  Annalyn|           Brooklyn|40.63694|-73.97487|   70|             3|                8| 2016-10-18|             0.17|                             1|               0|    7.0576486E-4|                   0.26917902|   59.37755102040816|\n",
            "|   Kensington|Private room| 41484943|35229312|Sunny Spacious NY...|  Melissa|           Brooklyn|40.63506| -73.9744|   55|             1|                2| 2019-06-30|              2.0|                             2|              18|    1.7644122E-4|                  0.067294754|   59.37755102040816|\n",
            "|   Kensington|Private room| 41484943|36142215|SUMMER RENTAL IN ...|  Melissa|           Brooklyn|40.63676|-73.97448|   54|             7|                0|       null|             null|                             2|             225|    1.7644122E-4|                  0.067294754|   59.37755102040816|\n",
            "|   Kensington|Private room| 12212944| 5523413| Oasis in Kensington|   Janine|           Brooklyn|40.64321|-73.98294|   52|             3|                8| 2019-05-18|             0.15|                             2|              27|     7.939855E-4|                   0.30282637|   59.37755102040816|\n",
            "|   Kensington|Private room| 12212944| 5771655|Brooklyn Bargain ...|   Janine|           Brooklyn|40.64455|-73.98298|   30|            21|                1| 2015-06-19|             0.02|                             2|               1|     7.939855E-4|                   0.30282637|   59.37755102040816|\n",
            "|   Kensington|Private room| 14905006|24122599|Cozy room in a Vi...|   Myriam|           Brooklyn|40.63966| -73.9716|   52|             1|               11| 2019-05-27|             0.81|                             1|               0|     9.704267E-4|                   0.37012112|   59.37755102040816|\n",
            "|   Kensington|Private room|  5725732|14091525|Large room with A...|    Scott|           Brooklyn|40.64023| -73.9717|   30|             2|                1| 2016-08-05|             0.03|                             1|               0|     8.822061E-5|                  0.033647377|   59.37755102040816|\n",
            "|   Kensington|Private room| 35746135|26494942|Beautiful Room In...|   Lionel|           Brooklyn|40.62896|-73.97494|   70|             1|               34| 2019-07-01|             2.74|                             2|               1|    0.0037934862|                    1.1440108|   59.37755102040816|\n",
            "|   Kensington|Private room|119680716|20147886|Nice clean and qu...|    Petar|           Brooklyn| 40.6368|-73.96857|   35|             1|                6| 2017-08-26|             0.26|                             1|               0|    5.2932365E-4|                   0.20188425|   59.37755102040816|\n",
            "|   Kensington|Private room|131806850|23229152|Private 1 bedroom...|    Idara|           Brooklyn|40.64109|-73.97503|   50|             1|                1| 2018-03-14|             0.06|                             1|               0|     8.822061E-5|                  0.033647377|   59.37755102040816|\n",
            "|   Kensington|Private room| 50369736| 9768765|Room in quiet Bro...| Benjamin|           Brooklyn|40.64637|-73.97863|   24|            18|                1| 2016-01-29|             0.02|                             1|               0|     8.822061E-5|                  0.033647377|   59.37755102040816|\n",
            "|   Kensington|Private room|  2228137|11096888|Peaceful apartmen...|   Amanda|           Brooklyn|40.64779|-73.97956|   45|           500|                0|       null|             null|                             1|             358|             0.0|                          0.0|   59.37755102040816|\n",
            "|   Kensington|Private room|104813064|30584054|Sunny private roo...|     Kate|           Brooklyn|40.64637|-73.97593|   56|             1|                6| 2019-02-22|             0.88|                             1|               0|    5.2932365E-4|                   0.20188425|   59.37755102040816|\n",
            "|   Kensington|Private room|  4167027|26043335|Luminous and Spac...|      Jam|           Brooklyn|40.64595|-73.97578|   60|             5|                3| 2019-04-16|             0.45|                             1|             344|    2.6466182E-4|                   0.10094213|   59.37755102040816|\n",
            "|   Kensington|Private room|  3692257| 8130534|Lovely BR w/Acces...|    Tasia|           Brooklyn|40.64423|-73.98019|   49|             1|                1| 2015-11-05|             0.02|                             2|               0|    1.7644122E-4|                  0.067294754|   59.37755102040816|\n",
            "|   Kensington|Private room| 27751504|11549676|Spacious Room w p...|      Liz|           Brooklyn|40.63974|-73.97439|   35|            14|                2| 2018-04-30|             0.06|                             1|               0|    1.7644122E-4|                  0.067294754|   59.37755102040816|\n",
            "|   Kensington|Private room| 81329032|13814049|Subway accessible...|   Ashlee|           Brooklyn|40.64231|-73.97974|   50|             5|                0|       null|             null|                             1|               0|             0.0|                          0.0|   59.37755102040816|\n",
            "+-------------+------------+---------+--------+--------------------+---------+-------------------+--------+---------+-----+--------------+-----------------+-----------+-----------------+------------------------------+----------------+----------------+-----------------------------+--------------------+\n",
            "only showing top 20 rows\n",
            "\n"
          ],
          "name": "stdout"
        }
      ]
    },
    {
      "cell_type": "code",
      "metadata": {
        "id": "sFk5wPZv__49"
      },
      "source": [
        "#Filtering out null values for price\n",
        "temp1 = df.filter(df['price'].isNotNull())"
      ],
      "execution_count": 76,
      "outputs": []
    },
    {
      "cell_type": "code",
      "metadata": {
        "id": "TseqChQqABpS"
      },
      "source": [
        "#Filtering out null values for average_region_price\n",
        "temp1 = temp1.filter(temp1['average_region_price'].isNotNull())"
      ],
      "execution_count": 77,
      "outputs": []
    },
    {
      "cell_type": "code",
      "metadata": {
        "id": "O_D6UBpgAEoq"
      },
      "source": [
        "#Defining function and converting it to udf function for with column operation\n",
        "def func_divide1(a1,a2):\n",
        "  if(type(a1)=='NoneType' or type(a2)=='NoneType'):\n",
        "    ans = 0\n",
        "  elif(a1!=0):\n",
        "    ans = ((a1-a2)*100.0)/float(a1)\n",
        "  else:\n",
        "    ans = 0\n",
        "  return ans\n",
        "\n",
        "divide_func_sp1 = F.udf(func_divide1,FloatType())"
      ],
      "execution_count": 78,
      "outputs": []
    },
    {
      "cell_type": "code",
      "metadata": {
        "id": "q_aCtSKuAGCs"
      },
      "source": [
        "#withcolumn operation\n",
        "df = temp1.withColumn('region_price_margin',divide_func_sp1('price','average_region_price'))"
      ],
      "execution_count": 79,
      "outputs": []
    },
    {
      "cell_type": "code",
      "metadata": {
        "colab": {
          "base_uri": "https://localhost:8080/"
        },
        "id": "EMEaOxtoAH-G",
        "outputId": "a19c1d7b-3577-4d0f-9ef8-685805698379"
      },
      "source": [
        "df.show(1)"
      ],
      "execution_count": 80,
      "outputs": [
        {
          "output_type": "stream",
          "text": [
            "+-----------------+---------------+---------+--------+--------------------+---------+-------------------+--------+---------+-----+--------------+-----------------+-----------+-----------------+------------------------------+----------------+----------------+-----------------------------+--------------------+-------------------+\n",
            "|    neighbourhood|      room_type|  host_id|      id|                name|host_name|neighbourhood_group|latitude|longitude|price|minimum_nights|number_of_reviews|last_review|reviews_per_month|calculated_host_listings_count|availability_365|popularity_index|host_neighbourhood_popularity|average_region_price|region_price_margin|\n",
            "+-----------------+---------------+---------+--------+--------------------+---------+-------------------+--------+---------+-----+--------------+-----------------+-----------+-----------------+------------------------------+----------------+----------------+-----------------------------+--------------------+-------------------+\n",
            "|Battery Park City|Entire home/apt|147351617|31803533|Beautiful Luxury ...|      Cem|          Manhattan|40.71085|-74.01801|  200|             2|               17| 2019-06-30|             3.05|                             1|              79|    0.0014997503|                    2.9310346|   488.5416666666667|         -144.27083|\n",
            "+-----------------+---------------+---------+--------+--------------------+---------+-------------------+--------+---------+-----+--------------+-----------------+-----------+-----------------+------------------------------+----------------+----------------+-----------------------------+--------------------+-------------------+\n",
            "only showing top 1 row\n",
            "\n"
          ],
          "name": "stdout"
        }
      ]
    },
    {
      "cell_type": "code",
      "metadata": {
        "id": "ZhhJ0EG-AJUx"
      },
      "source": [
        ""
      ],
      "execution_count": null,
      "outputs": []
    }
  ]
}